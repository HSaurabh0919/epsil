{
  "nbformat": 4,
  "nbformat_minor": 0,
  "metadata": {
    "colab": {
      "name": "forex_trading_generated_variables_GRU.ipynb",
      "provenance": [],
      "collapsed_sections": [],
      "authorship_tag": "ABX9TyMlr/fTmozUaL29PhKIu23G"
    },
    "kernelspec": {
      "name": "python3",
      "display_name": "Python 3"
    },
    "language_info": {
      "name": "python"
    }
  },
  "cells": [
    {
      "cell_type": "code",
      "execution_count": null,
      "metadata": {
        "id": "7Kx0uDdqIt35"
      },
      "outputs": [],
      "source": [
        "!pip install yfinance"
      ]
    },
    {
      "cell_type": "code",
      "source": [
        "!pip install ta"
      ],
      "metadata": {
        "id": "wl-Yv2TIkJmr"
      },
      "execution_count": null,
      "outputs": []
    },
    {
      "cell_type": "code",
      "source": [
        "import pandas as pd \n",
        "import numpy as np\n",
        "import matplotlib.pyplot as plt\n",
        "import yfinance as yf\n",
        "import warnings\n",
        "import ta\n",
        "warnings.filterwarnings('ignore')"
      ],
      "metadata": {
        "id": "6F8N5vi1I7g2"
      },
      "execution_count": 4,
      "outputs": []
    },
    {
      "cell_type": "code",
      "source": [
        "from sklearn.metrics import r2_score"
      ],
      "metadata": {
        "id": "WvZsUQW9oyUU"
      },
      "execution_count": 62,
      "outputs": []
    },
    {
      "cell_type": "code",
      "source": [
        "df = yf.download('EURUSD=X', start='2020-01-01', end='2021-12-31')"
      ],
      "metadata": {
        "colab": {
          "base_uri": "https://localhost:8080/"
        },
        "id": "RIZZhuxWI7jm",
        "outputId": "866c3c66-d042-4400-dbf6-b36e7c4a06b9"
      },
      "execution_count": 39,
      "outputs": [
        {
          "output_type": "stream",
          "name": "stdout",
          "text": [
            "\r[*********************100%***********************]  1 of 1 completed\n"
          ]
        }
      ]
    },
    {
      "cell_type": "code",
      "source": [
        "df.head(2)"
      ],
      "metadata": {
        "colab": {
          "base_uri": "https://localhost:8080/",
          "height": 143
        },
        "id": "DJCBIlopI7mI",
        "outputId": "e1838a35-380d-4d1d-de32-99689f0611c6"
      },
      "execution_count": 40,
      "outputs": [
        {
          "output_type": "execute_result",
          "data": {
            "text/plain": [
              "                Open      High       Low     Close  Adj Close  Volume\n",
              "Date                                                                 \n",
              "2020-01-01  1.122083  1.122838  1.115947  1.122083   1.122083       0\n",
              "2020-01-02  1.121894  1.122712  1.116682  1.122083   1.122083       0"
            ],
            "text/html": [
              "\n",
              "  <div id=\"df-f6c7cf9d-2a6c-4283-8d64-09ac242a2107\">\n",
              "    <div class=\"colab-df-container\">\n",
              "      <div>\n",
              "<style scoped>\n",
              "    .dataframe tbody tr th:only-of-type {\n",
              "        vertical-align: middle;\n",
              "    }\n",
              "\n",
              "    .dataframe tbody tr th {\n",
              "        vertical-align: top;\n",
              "    }\n",
              "\n",
              "    .dataframe thead th {\n",
              "        text-align: right;\n",
              "    }\n",
              "</style>\n",
              "<table border=\"1\" class=\"dataframe\">\n",
              "  <thead>\n",
              "    <tr style=\"text-align: right;\">\n",
              "      <th></th>\n",
              "      <th>Open</th>\n",
              "      <th>High</th>\n",
              "      <th>Low</th>\n",
              "      <th>Close</th>\n",
              "      <th>Adj Close</th>\n",
              "      <th>Volume</th>\n",
              "    </tr>\n",
              "    <tr>\n",
              "      <th>Date</th>\n",
              "      <th></th>\n",
              "      <th></th>\n",
              "      <th></th>\n",
              "      <th></th>\n",
              "      <th></th>\n",
              "      <th></th>\n",
              "    </tr>\n",
              "  </thead>\n",
              "  <tbody>\n",
              "    <tr>\n",
              "      <th>2020-01-01</th>\n",
              "      <td>1.122083</td>\n",
              "      <td>1.122838</td>\n",
              "      <td>1.115947</td>\n",
              "      <td>1.122083</td>\n",
              "      <td>1.122083</td>\n",
              "      <td>0</td>\n",
              "    </tr>\n",
              "    <tr>\n",
              "      <th>2020-01-02</th>\n",
              "      <td>1.121894</td>\n",
              "      <td>1.122712</td>\n",
              "      <td>1.116682</td>\n",
              "      <td>1.122083</td>\n",
              "      <td>1.122083</td>\n",
              "      <td>0</td>\n",
              "    </tr>\n",
              "  </tbody>\n",
              "</table>\n",
              "</div>\n",
              "      <button class=\"colab-df-convert\" onclick=\"convertToInteractive('df-f6c7cf9d-2a6c-4283-8d64-09ac242a2107')\"\n",
              "              title=\"Convert this dataframe to an interactive table.\"\n",
              "              style=\"display:none;\">\n",
              "        \n",
              "  <svg xmlns=\"http://www.w3.org/2000/svg\" height=\"24px\"viewBox=\"0 0 24 24\"\n",
              "       width=\"24px\">\n",
              "    <path d=\"M0 0h24v24H0V0z\" fill=\"none\"/>\n",
              "    <path d=\"M18.56 5.44l.94 2.06.94-2.06 2.06-.94-2.06-.94-.94-2.06-.94 2.06-2.06.94zm-11 1L8.5 8.5l.94-2.06 2.06-.94-2.06-.94L8.5 2.5l-.94 2.06-2.06.94zm10 10l.94 2.06.94-2.06 2.06-.94-2.06-.94-.94-2.06-.94 2.06-2.06.94z\"/><path d=\"M17.41 7.96l-1.37-1.37c-.4-.4-.92-.59-1.43-.59-.52 0-1.04.2-1.43.59L10.3 9.45l-7.72 7.72c-.78.78-.78 2.05 0 2.83L4 21.41c.39.39.9.59 1.41.59.51 0 1.02-.2 1.41-.59l7.78-7.78 2.81-2.81c.8-.78.8-2.07 0-2.86zM5.41 20L4 18.59l7.72-7.72 1.47 1.35L5.41 20z\"/>\n",
              "  </svg>\n",
              "      </button>\n",
              "      \n",
              "  <style>\n",
              "    .colab-df-container {\n",
              "      display:flex;\n",
              "      flex-wrap:wrap;\n",
              "      gap: 12px;\n",
              "    }\n",
              "\n",
              "    .colab-df-convert {\n",
              "      background-color: #E8F0FE;\n",
              "      border: none;\n",
              "      border-radius: 50%;\n",
              "      cursor: pointer;\n",
              "      display: none;\n",
              "      fill: #1967D2;\n",
              "      height: 32px;\n",
              "      padding: 0 0 0 0;\n",
              "      width: 32px;\n",
              "    }\n",
              "\n",
              "    .colab-df-convert:hover {\n",
              "      background-color: #E2EBFA;\n",
              "      box-shadow: 0px 1px 2px rgba(60, 64, 67, 0.3), 0px 1px 3px 1px rgba(60, 64, 67, 0.15);\n",
              "      fill: #174EA6;\n",
              "    }\n",
              "\n",
              "    [theme=dark] .colab-df-convert {\n",
              "      background-color: #3B4455;\n",
              "      fill: #D2E3FC;\n",
              "    }\n",
              "\n",
              "    [theme=dark] .colab-df-convert:hover {\n",
              "      background-color: #434B5C;\n",
              "      box-shadow: 0px 1px 3px 1px rgba(0, 0, 0, 0.15);\n",
              "      filter: drop-shadow(0px 1px 2px rgba(0, 0, 0, 0.3));\n",
              "      fill: #FFFFFF;\n",
              "    }\n",
              "  </style>\n",
              "\n",
              "      <script>\n",
              "        const buttonEl =\n",
              "          document.querySelector('#df-f6c7cf9d-2a6c-4283-8d64-09ac242a2107 button.colab-df-convert');\n",
              "        buttonEl.style.display =\n",
              "          google.colab.kernel.accessAllowed ? 'block' : 'none';\n",
              "\n",
              "        async function convertToInteractive(key) {\n",
              "          const element = document.querySelector('#df-f6c7cf9d-2a6c-4283-8d64-09ac242a2107');\n",
              "          const dataTable =\n",
              "            await google.colab.kernel.invokeFunction('convertToInteractive',\n",
              "                                                     [key], {});\n",
              "          if (!dataTable) return;\n",
              "\n",
              "          const docLinkHtml = 'Like what you see? Visit the ' +\n",
              "            '<a target=\"_blank\" href=https://colab.research.google.com/notebooks/data_table.ipynb>data table notebook</a>'\n",
              "            + ' to learn more about interactive tables.';\n",
              "          element.innerHTML = '';\n",
              "          dataTable['output_type'] = 'display_data';\n",
              "          await google.colab.output.renderOutput(dataTable, element);\n",
              "          const docLink = document.createElement('div');\n",
              "          docLink.innerHTML = docLinkHtml;\n",
              "          element.appendChild(docLink);\n",
              "        }\n",
              "      </script>\n",
              "    </div>\n",
              "  </div>\n",
              "  "
            ]
          },
          "metadata": {},
          "execution_count": 40
        }
      ]
    },
    {
      "cell_type": "code",
      "source": [
        "#Add new features\n",
        "df[\"ho\"]=(((df.High-df.Open)/df.Open)*100)\n",
        "df[\"ol\"]=(((df.Open-df.Low)/df.Open)*100)\n",
        "df[\"oc\"]=(((df.Open-df.Close)/df.Open)*100)\n",
        "df[\"hl\"]=(((df.High-df.Low)/df.Low)*100)\n",
        "df['rsi']=ta.momentum.rsi(df[\"Close\"], window=14, fillna=False)\n",
        "df['roc']=ta.momentum.roc(df['Close'], window = 14, fillna = False)\n",
        "df['macd']=ta.trend.macd(df['Close'], window_slow=26, window_fast=12, fillna=False)\n",
        "df['ema']=ta.trend.ema_indicator(df['Close'], window = 14, fillna = False)\n",
        "df['sma']=ta.trend.sma_indicator(df['Close'], window = 14, fillna = False)\n",
        "df['ma']=ta.momentum.kama(df[\"Close\"], window =10, pow1=2, pow2=30, fillna=False)"
      ],
      "metadata": {
        "id": "xe5FpaOxIQhD"
      },
      "execution_count": 41,
      "outputs": []
    },
    {
      "cell_type": "code",
      "source": [
        "df = df.dropna()"
      ],
      "metadata": {
        "id": "1eIiVO7jIQjj"
      },
      "execution_count": 50,
      "outputs": []
    },
    {
      "cell_type": "code",
      "source": [
        "df.shape"
      ],
      "metadata": {
        "colab": {
          "base_uri": "https://localhost:8080/"
        },
        "id": "xAOlQWPdlMQ-",
        "outputId": "1639b191-c9db-4b66-94ff-bd409c62c41e"
      },
      "execution_count": 51,
      "outputs": [
        {
          "output_type": "execute_result",
          "data": {
            "text/plain": [
              "(498, 16)"
            ]
          },
          "metadata": {},
          "execution_count": 51
        }
      ]
    },
    {
      "cell_type": "code",
      "source": [
        "df.columns"
      ],
      "metadata": {
        "colab": {
          "base_uri": "https://localhost:8080/"
        },
        "id": "N9_5Qq6Amspc",
        "outputId": "8b8de72f-c3bd-4047-838e-324229f86ba9"
      },
      "execution_count": 52,
      "outputs": [
        {
          "output_type": "execute_result",
          "data": {
            "text/plain": [
              "Index(['Open', 'High', 'Low', 'Close', 'Adj Close', 'Volume', 'ho', 'ol', 'oc',\n",
              "       'hl', 'rsi', 'roc', 'macd', 'ema', 'sma', 'ma'],\n",
              "      dtype='object')"
            ]
          },
          "metadata": {},
          "execution_count": 52
        }
      ]
    },
    {
      "cell_type": "code",
      "source": [
        "ytrain=[]\n",
        "train2 = np.array(df)\n",
        "for i in range(60,len(train2)):\n",
        "  ytrain.append(train2[i,4]) #Adj Close is at index 4"
      ],
      "metadata": {
        "id": "BwyB6n9udQnA"
      },
      "execution_count": 53,
      "outputs": []
    },
    {
      "cell_type": "code",
      "source": [
        "#Scaling the values between 0 to 1\n",
        "from sklearn.preprocessing import MinMaxScaler\n",
        "ss= MinMaxScaler(feature_range=(0,1))\n",
        "train = ss.fit_transform(np.array(df))"
      ],
      "metadata": {
        "id": "rh_3iV7rLQwM"
      },
      "execution_count": 54,
      "outputs": []
    },
    {
      "cell_type": "code",
      "source": [
        "# Feature selection\n",
        "xtrain=[]\n",
        "\n",
        "for i in range(60,len(train)):\n",
        "    #xtrain.append([train[i-60:i,0],train[i-60:i,1]])\n",
        "    xtrain.append(train[i-60:i,:])\n",
        "    #ytrain.append(train[i,0])\n",
        "\n",
        "xtrain, ytrain = np.array(xtrain), np.array(ytrain)"
      ],
      "metadata": {
        "id": "-o6jzNRXMEKJ"
      },
      "execution_count": 55,
      "outputs": []
    },
    {
      "cell_type": "code",
      "source": [
        "xtrain.shape"
      ],
      "metadata": {
        "colab": {
          "base_uri": "https://localhost:8080/"
        },
        "id": "lEsUOUtoRI7a",
        "outputId": "a5bf9c65-3bef-4823-9db8-331de30417dc"
      },
      "execution_count": 56,
      "outputs": [
        {
          "output_type": "execute_result",
          "data": {
            "text/plain": [
              "(438, 60, 16)"
            ]
          },
          "metadata": {},
          "execution_count": 56
        }
      ]
    },
    {
      "cell_type": "code",
      "source": [
        "#Reshaping the train data to make it as input for LTSM layer input_shape(batchzise,timesteps,input_dim)\n",
        "xtrain= np.reshape(xtrain,(xtrain.shape[0],xtrain.shape[2],xtrain.shape[1]))"
      ],
      "metadata": {
        "id": "BgrO-ZYSMEMg"
      },
      "execution_count": 59,
      "outputs": []
    },
    {
      "cell_type": "code",
      "source": [
        "xtrain.shape #Before : (463, 60, 1)"
      ],
      "metadata": {
        "colab": {
          "base_uri": "https://localhost:8080/"
        },
        "id": "pH-RTgXbMEO4",
        "outputId": "e379ca5e-0f07-43c9-b7bd-151bdf9327c3"
      },
      "execution_count": 60,
      "outputs": [
        {
          "output_type": "execute_result",
          "data": {
            "text/plain": [
              "(438, 16, 60)"
            ]
          },
          "metadata": {},
          "execution_count": 60
        }
      ]
    },
    {
      "cell_type": "markdown",
      "source": [
        "### Build an GRU Model"
      ],
      "metadata": {
        "id": "0tdXGznHNNMT"
      }
    },
    {
      "cell_type": "code",
      "source": [
        "from keras.models import Sequential\n",
        "from keras.layers import GRU\n",
        "from keras.layers import Dense\n",
        "from keras.layers import Dropout"
      ],
      "metadata": {
        "id": "GQvOongRM8_P"
      },
      "execution_count": 61,
      "outputs": []
    },
    {
      "cell_type": "code",
      "source": [
        "#initialisizng the model \n",
        "regression= Sequential()\n",
        "\n",
        "regression.add(GRU(units=50,return_sequences=True,kernel_initializer='glorot_uniform',input_shape=(xtrain.shape[1],xtrain.shape[2])))\n",
        "regression.add(Dropout(0.2))\n",
        "\n",
        "regression.add(GRU(units=50,kernel_initializer='glorot_uniform',return_sequences=True))\n",
        "regression.add(Dropout(0.2))\n",
        "\n",
        "regression.add(GRU(units=50,kernel_initializer='glorot_uniform',return_sequences=True))\n",
        "regression.add(Dropout(0.2))\n",
        "\n",
        "regression.add(GRU(units=50,kernel_initializer='glorot_uniform'))\n",
        "regression.add(Dropout(0.2))\n",
        "regression.add(Dense(units=1))\n",
        "\n",
        "regression.compile(optimizer='adam',loss='mean_squared_error')\n",
        "\n",
        "#fitting the network\n",
        "regression.fit(xtrain,ytrain,batch_size=30,epochs=100)"
      ],
      "metadata": {
        "id": "OH0oOCo4NSPP",
        "colab": {
          "base_uri": "https://localhost:8080/"
        },
        "outputId": "f1daaea3-3cd5-453e-fd5e-fabec1fee648"
      },
      "execution_count": 63,
      "outputs": [
        {
          "output_type": "stream",
          "name": "stdout",
          "text": [
            "Epoch 1/100\n",
            "15/15 [==============================] - 10s 40ms/step - loss: 0.2898\n",
            "Epoch 2/100\n",
            "15/15 [==============================] - 1s 39ms/step - loss: 0.0602\n",
            "Epoch 3/100\n",
            "15/15 [==============================] - 1s 39ms/step - loss: 0.0397\n",
            "Epoch 4/100\n",
            "15/15 [==============================] - 1s 40ms/step - loss: 0.0324\n",
            "Epoch 5/100\n",
            "15/15 [==============================] - 1s 40ms/step - loss: 0.0256\n",
            "Epoch 6/100\n",
            "15/15 [==============================] - 1s 40ms/step - loss: 0.0246\n",
            "Epoch 7/100\n",
            "15/15 [==============================] - 1s 38ms/step - loss: 0.0220\n",
            "Epoch 8/100\n",
            "15/15 [==============================] - 1s 44ms/step - loss: 0.0212\n",
            "Epoch 9/100\n",
            "15/15 [==============================] - 1s 39ms/step - loss: 0.0174\n",
            "Epoch 10/100\n",
            "15/15 [==============================] - 1s 40ms/step - loss: 0.0187\n",
            "Epoch 11/100\n",
            "15/15 [==============================] - 1s 40ms/step - loss: 0.0166\n",
            "Epoch 12/100\n",
            "15/15 [==============================] - 1s 41ms/step - loss: 0.0160\n",
            "Epoch 13/100\n",
            "15/15 [==============================] - 1s 39ms/step - loss: 0.0147\n",
            "Epoch 14/100\n",
            "15/15 [==============================] - 1s 39ms/step - loss: 0.0144\n",
            "Epoch 15/100\n",
            "15/15 [==============================] - 1s 38ms/step - loss: 0.0137\n",
            "Epoch 16/100\n",
            "15/15 [==============================] - 1s 39ms/step - loss: 0.0128\n",
            "Epoch 17/100\n",
            "15/15 [==============================] - 1s 37ms/step - loss: 0.0142\n",
            "Epoch 18/100\n",
            "15/15 [==============================] - 1s 38ms/step - loss: 0.0120\n",
            "Epoch 19/100\n",
            "15/15 [==============================] - 1s 38ms/step - loss: 0.0106\n",
            "Epoch 20/100\n",
            "15/15 [==============================] - 1s 38ms/step - loss: 0.0096\n",
            "Epoch 21/100\n",
            "15/15 [==============================] - 1s 39ms/step - loss: 0.0103\n",
            "Epoch 22/100\n",
            "15/15 [==============================] - 1s 39ms/step - loss: 0.0114\n",
            "Epoch 23/100\n",
            "15/15 [==============================] - 1s 37ms/step - loss: 0.0102\n",
            "Epoch 24/100\n",
            "15/15 [==============================] - 1s 39ms/step - loss: 0.0102\n",
            "Epoch 25/100\n",
            "15/15 [==============================] - 1s 38ms/step - loss: 0.0111\n",
            "Epoch 26/100\n",
            "15/15 [==============================] - 1s 39ms/step - loss: 0.0103\n",
            "Epoch 27/100\n",
            "15/15 [==============================] - 1s 40ms/step - loss: 0.0099\n",
            "Epoch 28/100\n",
            "15/15 [==============================] - 1s 40ms/step - loss: 0.0089\n",
            "Epoch 29/100\n",
            "15/15 [==============================] - 1s 38ms/step - loss: 0.0095\n",
            "Epoch 30/100\n",
            "15/15 [==============================] - 1s 39ms/step - loss: 0.0087\n",
            "Epoch 31/100\n",
            "15/15 [==============================] - 1s 39ms/step - loss: 0.0091\n",
            "Epoch 32/100\n",
            "15/15 [==============================] - 1s 38ms/step - loss: 0.0090\n",
            "Epoch 33/100\n",
            "15/15 [==============================] - 1s 41ms/step - loss: 0.0103\n",
            "Epoch 34/100\n",
            "15/15 [==============================] - 1s 40ms/step - loss: 0.0081\n",
            "Epoch 35/100\n",
            "15/15 [==============================] - 1s 56ms/step - loss: 0.0080\n",
            "Epoch 36/100\n",
            "15/15 [==============================] - 1s 66ms/step - loss: 0.0093\n",
            "Epoch 37/100\n",
            "15/15 [==============================] - 1s 68ms/step - loss: 0.0093\n",
            "Epoch 38/100\n",
            "15/15 [==============================] - 1s 66ms/step - loss: 0.0100\n",
            "Epoch 39/100\n",
            "15/15 [==============================] - 1s 91ms/step - loss: 0.0089\n",
            "Epoch 40/100\n",
            "15/15 [==============================] - 1s 41ms/step - loss: 0.0074\n",
            "Epoch 41/100\n",
            "15/15 [==============================] - 1s 39ms/step - loss: 0.0080\n",
            "Epoch 42/100\n",
            "15/15 [==============================] - 1s 55ms/step - loss: 0.0083\n",
            "Epoch 43/100\n",
            "15/15 [==============================] - 1s 69ms/step - loss: 0.0086\n",
            "Epoch 44/100\n",
            "15/15 [==============================] - 1s 70ms/step - loss: 0.0082\n",
            "Epoch 45/100\n",
            "15/15 [==============================] - 1s 67ms/step - loss: 0.0091\n",
            "Epoch 46/100\n",
            "15/15 [==============================] - 1s 71ms/step - loss: 0.0083\n",
            "Epoch 47/100\n",
            "15/15 [==============================] - 1s 38ms/step - loss: 0.0090\n",
            "Epoch 48/100\n",
            "15/15 [==============================] - 1s 38ms/step - loss: 0.0075\n",
            "Epoch 49/100\n",
            "15/15 [==============================] - 1s 37ms/step - loss: 0.0074\n",
            "Epoch 50/100\n",
            "15/15 [==============================] - 1s 38ms/step - loss: 0.0071\n",
            "Epoch 51/100\n",
            "15/15 [==============================] - 1s 42ms/step - loss: 0.0088\n",
            "Epoch 52/100\n",
            "15/15 [==============================] - 1s 38ms/step - loss: 0.0077\n",
            "Epoch 53/100\n",
            "15/15 [==============================] - 1s 39ms/step - loss: 0.0071\n",
            "Epoch 54/100\n",
            "15/15 [==============================] - 1s 39ms/step - loss: 0.0070\n",
            "Epoch 55/100\n",
            "15/15 [==============================] - 1s 42ms/step - loss: 0.0075\n",
            "Epoch 56/100\n",
            "15/15 [==============================] - 1s 38ms/step - loss: 0.0071\n",
            "Epoch 57/100\n",
            "15/15 [==============================] - 1s 38ms/step - loss: 0.0068\n",
            "Epoch 58/100\n",
            "15/15 [==============================] - 1s 39ms/step - loss: 0.0084\n",
            "Epoch 59/100\n",
            "15/15 [==============================] - 1s 37ms/step - loss: 0.0077\n",
            "Epoch 60/100\n",
            "15/15 [==============================] - 1s 38ms/step - loss: 0.0077\n",
            "Epoch 61/100\n",
            "15/15 [==============================] - 1s 38ms/step - loss: 0.0074\n",
            "Epoch 62/100\n",
            "15/15 [==============================] - 1s 38ms/step - loss: 0.0072\n",
            "Epoch 63/100\n",
            "15/15 [==============================] - 1s 39ms/step - loss: 0.0081\n",
            "Epoch 64/100\n",
            "15/15 [==============================] - 1s 38ms/step - loss: 0.0074\n",
            "Epoch 65/100\n",
            "15/15 [==============================] - 1s 39ms/step - loss: 0.0065\n",
            "Epoch 66/100\n",
            "15/15 [==============================] - 1s 37ms/step - loss: 0.0079\n",
            "Epoch 67/100\n",
            "15/15 [==============================] - 1s 38ms/step - loss: 0.0069\n",
            "Epoch 68/100\n",
            "15/15 [==============================] - 1s 38ms/step - loss: 0.0072\n",
            "Epoch 69/100\n",
            "15/15 [==============================] - 1s 37ms/step - loss: 0.0079\n",
            "Epoch 70/100\n",
            "15/15 [==============================] - 1s 39ms/step - loss: 0.0079\n",
            "Epoch 71/100\n",
            "15/15 [==============================] - 1s 37ms/step - loss: 0.0074\n",
            "Epoch 72/100\n",
            "15/15 [==============================] - 1s 37ms/step - loss: 0.0070\n",
            "Epoch 73/100\n",
            "15/15 [==============================] - 1s 40ms/step - loss: 0.0060\n",
            "Epoch 74/100\n",
            "15/15 [==============================] - 1s 39ms/step - loss: 0.0070\n",
            "Epoch 75/100\n",
            "15/15 [==============================] - 1s 38ms/step - loss: 0.0069\n",
            "Epoch 76/100\n",
            "15/15 [==============================] - 1s 70ms/step - loss: 0.0066\n",
            "Epoch 77/100\n",
            "15/15 [==============================] - 1s 93ms/step - loss: 0.0064\n",
            "Epoch 78/100\n",
            "15/15 [==============================] - 1s 86ms/step - loss: 0.0062\n",
            "Epoch 79/100\n",
            "15/15 [==============================] - 1s 60ms/step - loss: 0.0062\n",
            "Epoch 80/100\n",
            "15/15 [==============================] - 1s 60ms/step - loss: 0.0060\n",
            "Epoch 81/100\n",
            "15/15 [==============================] - 1s 44ms/step - loss: 0.0069\n",
            "Epoch 82/100\n",
            "15/15 [==============================] - 1s 38ms/step - loss: 0.0062\n",
            "Epoch 83/100\n",
            "15/15 [==============================] - 1s 46ms/step - loss: 0.0064\n",
            "Epoch 84/100\n",
            "15/15 [==============================] - 1s 76ms/step - loss: 0.0068\n",
            "Epoch 85/100\n",
            "15/15 [==============================] - 1s 70ms/step - loss: 0.0065\n",
            "Epoch 86/100\n",
            "15/15 [==============================] - 1s 68ms/step - loss: 0.0062\n",
            "Epoch 87/100\n",
            "15/15 [==============================] - 1s 96ms/step - loss: 0.0065\n",
            "Epoch 88/100\n",
            "15/15 [==============================] - 1s 57ms/step - loss: 0.0071\n",
            "Epoch 89/100\n",
            "15/15 [==============================] - 1s 39ms/step - loss: 0.0064\n",
            "Epoch 90/100\n",
            "15/15 [==============================] - 1s 39ms/step - loss: 0.0064\n",
            "Epoch 91/100\n",
            "15/15 [==============================] - 1s 39ms/step - loss: 0.0060\n",
            "Epoch 92/100\n",
            "15/15 [==============================] - 1s 38ms/step - loss: 0.0054\n",
            "Epoch 93/100\n",
            "15/15 [==============================] - 1s 41ms/step - loss: 0.0069\n",
            "Epoch 94/100\n",
            "15/15 [==============================] - 1s 38ms/step - loss: 0.0058\n",
            "Epoch 95/100\n",
            "15/15 [==============================] - 1s 38ms/step - loss: 0.0070\n",
            "Epoch 96/100\n",
            "15/15 [==============================] - 1s 39ms/step - loss: 0.0058\n",
            "Epoch 97/100\n",
            "15/15 [==============================] - 1s 37ms/step - loss: 0.0074\n",
            "Epoch 98/100\n",
            "15/15 [==============================] - 1s 41ms/step - loss: 0.0066\n",
            "Epoch 99/100\n",
            "15/15 [==============================] - 1s 41ms/step - loss: 0.0058\n",
            "Epoch 100/100\n",
            "15/15 [==============================] - 1s 39ms/step - loss: 0.0061\n"
          ]
        },
        {
          "output_type": "execute_result",
          "data": {
            "text/plain": [
              "<keras.callbacks.History at 0x7fe8e62a0950>"
            ]
          },
          "metadata": {},
          "execution_count": 63
        }
      ]
    },
    {
      "cell_type": "code",
      "source": [
        "#regression.save('model.h5')"
      ],
      "metadata": {
        "id": "TJMOaiLfd_Vy"
      },
      "execution_count": null,
      "outputs": []
    },
    {
      "cell_type": "code",
      "source": [
        "test_df = yf.download('EURUSD=X', start='2022-01-01', end='2022-06-30')"
      ],
      "metadata": {
        "colab": {
          "base_uri": "https://localhost:8080/"
        },
        "id": "XbwrsRmjPyTA",
        "outputId": "68874d0e-1751-4548-bcfe-84d6edbf24f3"
      },
      "execution_count": 64,
      "outputs": [
        {
          "output_type": "stream",
          "name": "stdout",
          "text": [
            "\r[*********************100%***********************]  1 of 1 completed\n"
          ]
        }
      ]
    },
    {
      "cell_type": "code",
      "source": [
        "test_df.head()"
      ],
      "metadata": {
        "colab": {
          "base_uri": "https://localhost:8080/",
          "height": 238
        },
        "id": "ryWYz_tcWUbA",
        "outputId": "dd1f6d82-c12a-4abc-d1aa-bfe9d70852f8"
      },
      "execution_count": 65,
      "outputs": [
        {
          "output_type": "execute_result",
          "data": {
            "text/plain": [
              "                Open      High       Low     Close  Adj Close  Volume\n",
              "Date                                                                 \n",
              "2022-01-03  1.137385  1.137592  1.128541  1.137346   1.137346       0\n",
              "2022-01-04  1.130199  1.132300  1.127345  1.130224   1.130224       0\n",
              "2022-01-05  1.128541  1.134559  1.127764  1.128363   1.128363       0\n",
              "2022-01-06  1.131222  1.133067  1.128554  1.131350   1.131350       0\n",
              "2022-01-07  1.129586  1.135976  1.129050  1.129688   1.129688       0"
            ],
            "text/html": [
              "\n",
              "  <div id=\"df-8e96fd0c-0183-4a19-a48a-7937d3266192\">\n",
              "    <div class=\"colab-df-container\">\n",
              "      <div>\n",
              "<style scoped>\n",
              "    .dataframe tbody tr th:only-of-type {\n",
              "        vertical-align: middle;\n",
              "    }\n",
              "\n",
              "    .dataframe tbody tr th {\n",
              "        vertical-align: top;\n",
              "    }\n",
              "\n",
              "    .dataframe thead th {\n",
              "        text-align: right;\n",
              "    }\n",
              "</style>\n",
              "<table border=\"1\" class=\"dataframe\">\n",
              "  <thead>\n",
              "    <tr style=\"text-align: right;\">\n",
              "      <th></th>\n",
              "      <th>Open</th>\n",
              "      <th>High</th>\n",
              "      <th>Low</th>\n",
              "      <th>Close</th>\n",
              "      <th>Adj Close</th>\n",
              "      <th>Volume</th>\n",
              "    </tr>\n",
              "    <tr>\n",
              "      <th>Date</th>\n",
              "      <th></th>\n",
              "      <th></th>\n",
              "      <th></th>\n",
              "      <th></th>\n",
              "      <th></th>\n",
              "      <th></th>\n",
              "    </tr>\n",
              "  </thead>\n",
              "  <tbody>\n",
              "    <tr>\n",
              "      <th>2022-01-03</th>\n",
              "      <td>1.137385</td>\n",
              "      <td>1.137592</td>\n",
              "      <td>1.128541</td>\n",
              "      <td>1.137346</td>\n",
              "      <td>1.137346</td>\n",
              "      <td>0</td>\n",
              "    </tr>\n",
              "    <tr>\n",
              "      <th>2022-01-04</th>\n",
              "      <td>1.130199</td>\n",
              "      <td>1.132300</td>\n",
              "      <td>1.127345</td>\n",
              "      <td>1.130224</td>\n",
              "      <td>1.130224</td>\n",
              "      <td>0</td>\n",
              "    </tr>\n",
              "    <tr>\n",
              "      <th>2022-01-05</th>\n",
              "      <td>1.128541</td>\n",
              "      <td>1.134559</td>\n",
              "      <td>1.127764</td>\n",
              "      <td>1.128363</td>\n",
              "      <td>1.128363</td>\n",
              "      <td>0</td>\n",
              "    </tr>\n",
              "    <tr>\n",
              "      <th>2022-01-06</th>\n",
              "      <td>1.131222</td>\n",
              "      <td>1.133067</td>\n",
              "      <td>1.128554</td>\n",
              "      <td>1.131350</td>\n",
              "      <td>1.131350</td>\n",
              "      <td>0</td>\n",
              "    </tr>\n",
              "    <tr>\n",
              "      <th>2022-01-07</th>\n",
              "      <td>1.129586</td>\n",
              "      <td>1.135976</td>\n",
              "      <td>1.129050</td>\n",
              "      <td>1.129688</td>\n",
              "      <td>1.129688</td>\n",
              "      <td>0</td>\n",
              "    </tr>\n",
              "  </tbody>\n",
              "</table>\n",
              "</div>\n",
              "      <button class=\"colab-df-convert\" onclick=\"convertToInteractive('df-8e96fd0c-0183-4a19-a48a-7937d3266192')\"\n",
              "              title=\"Convert this dataframe to an interactive table.\"\n",
              "              style=\"display:none;\">\n",
              "        \n",
              "  <svg xmlns=\"http://www.w3.org/2000/svg\" height=\"24px\"viewBox=\"0 0 24 24\"\n",
              "       width=\"24px\">\n",
              "    <path d=\"M0 0h24v24H0V0z\" fill=\"none\"/>\n",
              "    <path d=\"M18.56 5.44l.94 2.06.94-2.06 2.06-.94-2.06-.94-.94-2.06-.94 2.06-2.06.94zm-11 1L8.5 8.5l.94-2.06 2.06-.94-2.06-.94L8.5 2.5l-.94 2.06-2.06.94zm10 10l.94 2.06.94-2.06 2.06-.94-2.06-.94-.94-2.06-.94 2.06-2.06.94z\"/><path d=\"M17.41 7.96l-1.37-1.37c-.4-.4-.92-.59-1.43-.59-.52 0-1.04.2-1.43.59L10.3 9.45l-7.72 7.72c-.78.78-.78 2.05 0 2.83L4 21.41c.39.39.9.59 1.41.59.51 0 1.02-.2 1.41-.59l7.78-7.78 2.81-2.81c.8-.78.8-2.07 0-2.86zM5.41 20L4 18.59l7.72-7.72 1.47 1.35L5.41 20z\"/>\n",
              "  </svg>\n",
              "      </button>\n",
              "      \n",
              "  <style>\n",
              "    .colab-df-container {\n",
              "      display:flex;\n",
              "      flex-wrap:wrap;\n",
              "      gap: 12px;\n",
              "    }\n",
              "\n",
              "    .colab-df-convert {\n",
              "      background-color: #E8F0FE;\n",
              "      border: none;\n",
              "      border-radius: 50%;\n",
              "      cursor: pointer;\n",
              "      display: none;\n",
              "      fill: #1967D2;\n",
              "      height: 32px;\n",
              "      padding: 0 0 0 0;\n",
              "      width: 32px;\n",
              "    }\n",
              "\n",
              "    .colab-df-convert:hover {\n",
              "      background-color: #E2EBFA;\n",
              "      box-shadow: 0px 1px 2px rgba(60, 64, 67, 0.3), 0px 1px 3px 1px rgba(60, 64, 67, 0.15);\n",
              "      fill: #174EA6;\n",
              "    }\n",
              "\n",
              "    [theme=dark] .colab-df-convert {\n",
              "      background-color: #3B4455;\n",
              "      fill: #D2E3FC;\n",
              "    }\n",
              "\n",
              "    [theme=dark] .colab-df-convert:hover {\n",
              "      background-color: #434B5C;\n",
              "      box-shadow: 0px 1px 3px 1px rgba(0, 0, 0, 0.15);\n",
              "      filter: drop-shadow(0px 1px 2px rgba(0, 0, 0, 0.3));\n",
              "      fill: #FFFFFF;\n",
              "    }\n",
              "  </style>\n",
              "\n",
              "      <script>\n",
              "        const buttonEl =\n",
              "          document.querySelector('#df-8e96fd0c-0183-4a19-a48a-7937d3266192 button.colab-df-convert');\n",
              "        buttonEl.style.display =\n",
              "          google.colab.kernel.accessAllowed ? 'block' : 'none';\n",
              "\n",
              "        async function convertToInteractive(key) {\n",
              "          const element = document.querySelector('#df-8e96fd0c-0183-4a19-a48a-7937d3266192');\n",
              "          const dataTable =\n",
              "            await google.colab.kernel.invokeFunction('convertToInteractive',\n",
              "                                                     [key], {});\n",
              "          if (!dataTable) return;\n",
              "\n",
              "          const docLinkHtml = 'Like what you see? Visit the ' +\n",
              "            '<a target=\"_blank\" href=https://colab.research.google.com/notebooks/data_table.ipynb>data table notebook</a>'\n",
              "            + ' to learn more about interactive tables.';\n",
              "          element.innerHTML = '';\n",
              "          dataTable['output_type'] = 'display_data';\n",
              "          await google.colab.output.renderOutput(dataTable, element);\n",
              "          const docLink = document.createElement('div');\n",
              "          docLink.innerHTML = docLinkHtml;\n",
              "          element.appendChild(docLink);\n",
              "        }\n",
              "      </script>\n",
              "    </div>\n",
              "  </div>\n",
              "  "
            ]
          },
          "metadata": {},
          "execution_count": 65
        }
      ]
    },
    {
      "cell_type": "code",
      "source": [
        "#Add new features\n",
        "test_df[\"ho\"]=(((test_df.High-test_df.Open)/test_df.Open)*100)\n",
        "test_df[\"ol\"]=(((test_df.Open-test_df.Low)/test_df.Open)*100)\n",
        "test_df[\"oc\"]=(((test_df.Open-test_df.Close)/test_df.Open)*100)\n",
        "test_df[\"hl\"]=(((test_df.High-test_df.Low)/test_df.Low)*100)\n",
        "test_df['rsi']=ta.momentum.rsi(test_df[\"Close\"], window=14, fillna=False)\n",
        "test_df['roc']=ta.momentum.roc(test_df['Close'], window = 14, fillna = False)\n",
        "test_df['macd']=ta.trend.macd(test_df['Close'], window_slow=26, window_fast=12, fillna=False)\n",
        "test_df['ema']=ta.trend.ema_indicator(test_df['Close'], window = 14, fillna = False)\n",
        "test_df['sma']=ta.trend.sma_indicator(test_df['Close'], window = 14, fillna = False)\n",
        "test_df['ma']=ta.momentum.kama(test_df[\"Close\"], window =10, pow1=2, pow2=30, fillna=False)"
      ],
      "metadata": {
        "id": "GkzqKf3KpV4y"
      },
      "execution_count": 66,
      "outputs": []
    },
    {
      "cell_type": "code",
      "source": [
        "test_df.shape"
      ],
      "metadata": {
        "colab": {
          "base_uri": "https://localhost:8080/"
        },
        "id": "f-CGvE0FpcOl",
        "outputId": "0c1704fa-f886-48e8-ac36-616f538b97f8"
      },
      "execution_count": 67,
      "outputs": [
        {
          "output_type": "execute_result",
          "data": {
            "text/plain": [
              "(129, 16)"
            ]
          },
          "metadata": {},
          "execution_count": 67
        }
      ]
    },
    {
      "cell_type": "code",
      "source": [
        "test = test_df.copy()"
      ],
      "metadata": {
        "id": "Q-mY7MPQpfGv"
      },
      "execution_count": 68,
      "outputs": []
    },
    {
      "cell_type": "code",
      "source": [
        "test = test.dropna()\n"
      ],
      "metadata": {
        "id": "cStIiXUsWtjz"
      },
      "execution_count": 69,
      "outputs": []
    },
    {
      "cell_type": "code",
      "source": [
        "test.head()"
      ],
      "metadata": {
        "colab": {
          "base_uri": "https://localhost:8080/",
          "height": 406
        },
        "id": "cngfJCitWufd",
        "outputId": "0759de66-d833-4b52-964a-52ab2c52e00c"
      },
      "execution_count": 70,
      "outputs": [
        {
          "output_type": "execute_result",
          "data": {
            "text/plain": [
              "                Open      High       Low     Close  Adj Close  Volume  \\\n",
              "Date                                                                    \n",
              "2022-02-07  1.145462  1.146000  1.141670  1.145515   1.145515       0   \n",
              "2022-02-08  1.144086  1.145082  1.139705  1.144296   1.144296       0   \n",
              "2022-02-09  1.142113  1.144700  1.140329  1.142126   1.142126       0   \n",
              "2022-02-10  1.142126  1.149425  1.138084  1.142152   1.142152       0   \n",
              "2022-02-11  1.141175  1.141901  1.137126  1.141553   1.141553       0   \n",
              "\n",
              "                  ho        ol        oc        hl        rsi       roc  \\\n",
              "Date                                                                      \n",
              "2022-02-07  0.046978  0.331081 -0.004579  0.379314  62.587029  0.390623   \n",
              "2022-02-08  0.087025  0.382941 -0.018307  0.471773  61.100646  1.000116   \n",
              "2022-02-09  0.226538  0.156220 -0.001148  0.383356  58.440609  0.686415   \n",
              "2022-02-10  0.639077  0.353946 -0.002275  0.996550  58.463936  0.952547   \n",
              "2022-02-11  0.063607  0.354784 -0.033114  0.419881  57.659743  0.652970   \n",
              "\n",
              "                macd       ema       sma        ma  \n",
              "Date                                                \n",
              "2022-02-07 -0.000391  1.132311  1.129960  1.129164  \n",
              "2022-02-08  0.000583  1.133909  1.130769  1.129821  \n",
              "2022-02-09  0.001167  1.135004  1.131325  1.130339  \n",
              "2022-02-10  0.001613  1.135957  1.132095  1.131466  \n",
              "2022-02-11  0.001897  1.136703  1.132624  1.134286  "
            ],
            "text/html": [
              "\n",
              "  <div id=\"df-d202ded0-46ce-4f54-9180-484e97716088\">\n",
              "    <div class=\"colab-df-container\">\n",
              "      <div>\n",
              "<style scoped>\n",
              "    .dataframe tbody tr th:only-of-type {\n",
              "        vertical-align: middle;\n",
              "    }\n",
              "\n",
              "    .dataframe tbody tr th {\n",
              "        vertical-align: top;\n",
              "    }\n",
              "\n",
              "    .dataframe thead th {\n",
              "        text-align: right;\n",
              "    }\n",
              "</style>\n",
              "<table border=\"1\" class=\"dataframe\">\n",
              "  <thead>\n",
              "    <tr style=\"text-align: right;\">\n",
              "      <th></th>\n",
              "      <th>Open</th>\n",
              "      <th>High</th>\n",
              "      <th>Low</th>\n",
              "      <th>Close</th>\n",
              "      <th>Adj Close</th>\n",
              "      <th>Volume</th>\n",
              "      <th>ho</th>\n",
              "      <th>ol</th>\n",
              "      <th>oc</th>\n",
              "      <th>hl</th>\n",
              "      <th>rsi</th>\n",
              "      <th>roc</th>\n",
              "      <th>macd</th>\n",
              "      <th>ema</th>\n",
              "      <th>sma</th>\n",
              "      <th>ma</th>\n",
              "    </tr>\n",
              "    <tr>\n",
              "      <th>Date</th>\n",
              "      <th></th>\n",
              "      <th></th>\n",
              "      <th></th>\n",
              "      <th></th>\n",
              "      <th></th>\n",
              "      <th></th>\n",
              "      <th></th>\n",
              "      <th></th>\n",
              "      <th></th>\n",
              "      <th></th>\n",
              "      <th></th>\n",
              "      <th></th>\n",
              "      <th></th>\n",
              "      <th></th>\n",
              "      <th></th>\n",
              "      <th></th>\n",
              "    </tr>\n",
              "  </thead>\n",
              "  <tbody>\n",
              "    <tr>\n",
              "      <th>2022-02-07</th>\n",
              "      <td>1.145462</td>\n",
              "      <td>1.146000</td>\n",
              "      <td>1.141670</td>\n",
              "      <td>1.145515</td>\n",
              "      <td>1.145515</td>\n",
              "      <td>0</td>\n",
              "      <td>0.046978</td>\n",
              "      <td>0.331081</td>\n",
              "      <td>-0.004579</td>\n",
              "      <td>0.379314</td>\n",
              "      <td>62.587029</td>\n",
              "      <td>0.390623</td>\n",
              "      <td>-0.000391</td>\n",
              "      <td>1.132311</td>\n",
              "      <td>1.129960</td>\n",
              "      <td>1.129164</td>\n",
              "    </tr>\n",
              "    <tr>\n",
              "      <th>2022-02-08</th>\n",
              "      <td>1.144086</td>\n",
              "      <td>1.145082</td>\n",
              "      <td>1.139705</td>\n",
              "      <td>1.144296</td>\n",
              "      <td>1.144296</td>\n",
              "      <td>0</td>\n",
              "      <td>0.087025</td>\n",
              "      <td>0.382941</td>\n",
              "      <td>-0.018307</td>\n",
              "      <td>0.471773</td>\n",
              "      <td>61.100646</td>\n",
              "      <td>1.000116</td>\n",
              "      <td>0.000583</td>\n",
              "      <td>1.133909</td>\n",
              "      <td>1.130769</td>\n",
              "      <td>1.129821</td>\n",
              "    </tr>\n",
              "    <tr>\n",
              "      <th>2022-02-09</th>\n",
              "      <td>1.142113</td>\n",
              "      <td>1.144700</td>\n",
              "      <td>1.140329</td>\n",
              "      <td>1.142126</td>\n",
              "      <td>1.142126</td>\n",
              "      <td>0</td>\n",
              "      <td>0.226538</td>\n",
              "      <td>0.156220</td>\n",
              "      <td>-0.001148</td>\n",
              "      <td>0.383356</td>\n",
              "      <td>58.440609</td>\n",
              "      <td>0.686415</td>\n",
              "      <td>0.001167</td>\n",
              "      <td>1.135004</td>\n",
              "      <td>1.131325</td>\n",
              "      <td>1.130339</td>\n",
              "    </tr>\n",
              "    <tr>\n",
              "      <th>2022-02-10</th>\n",
              "      <td>1.142126</td>\n",
              "      <td>1.149425</td>\n",
              "      <td>1.138084</td>\n",
              "      <td>1.142152</td>\n",
              "      <td>1.142152</td>\n",
              "      <td>0</td>\n",
              "      <td>0.639077</td>\n",
              "      <td>0.353946</td>\n",
              "      <td>-0.002275</td>\n",
              "      <td>0.996550</td>\n",
              "      <td>58.463936</td>\n",
              "      <td>0.952547</td>\n",
              "      <td>0.001613</td>\n",
              "      <td>1.135957</td>\n",
              "      <td>1.132095</td>\n",
              "      <td>1.131466</td>\n",
              "    </tr>\n",
              "    <tr>\n",
              "      <th>2022-02-11</th>\n",
              "      <td>1.141175</td>\n",
              "      <td>1.141901</td>\n",
              "      <td>1.137126</td>\n",
              "      <td>1.141553</td>\n",
              "      <td>1.141553</td>\n",
              "      <td>0</td>\n",
              "      <td>0.063607</td>\n",
              "      <td>0.354784</td>\n",
              "      <td>-0.033114</td>\n",
              "      <td>0.419881</td>\n",
              "      <td>57.659743</td>\n",
              "      <td>0.652970</td>\n",
              "      <td>0.001897</td>\n",
              "      <td>1.136703</td>\n",
              "      <td>1.132624</td>\n",
              "      <td>1.134286</td>\n",
              "    </tr>\n",
              "  </tbody>\n",
              "</table>\n",
              "</div>\n",
              "      <button class=\"colab-df-convert\" onclick=\"convertToInteractive('df-d202ded0-46ce-4f54-9180-484e97716088')\"\n",
              "              title=\"Convert this dataframe to an interactive table.\"\n",
              "              style=\"display:none;\">\n",
              "        \n",
              "  <svg xmlns=\"http://www.w3.org/2000/svg\" height=\"24px\"viewBox=\"0 0 24 24\"\n",
              "       width=\"24px\">\n",
              "    <path d=\"M0 0h24v24H0V0z\" fill=\"none\"/>\n",
              "    <path d=\"M18.56 5.44l.94 2.06.94-2.06 2.06-.94-2.06-.94-.94-2.06-.94 2.06-2.06.94zm-11 1L8.5 8.5l.94-2.06 2.06-.94-2.06-.94L8.5 2.5l-.94 2.06-2.06.94zm10 10l.94 2.06.94-2.06 2.06-.94-2.06-.94-.94-2.06-.94 2.06-2.06.94z\"/><path d=\"M17.41 7.96l-1.37-1.37c-.4-.4-.92-.59-1.43-.59-.52 0-1.04.2-1.43.59L10.3 9.45l-7.72 7.72c-.78.78-.78 2.05 0 2.83L4 21.41c.39.39.9.59 1.41.59.51 0 1.02-.2 1.41-.59l7.78-7.78 2.81-2.81c.8-.78.8-2.07 0-2.86zM5.41 20L4 18.59l7.72-7.72 1.47 1.35L5.41 20z\"/>\n",
              "  </svg>\n",
              "      </button>\n",
              "      \n",
              "  <style>\n",
              "    .colab-df-container {\n",
              "      display:flex;\n",
              "      flex-wrap:wrap;\n",
              "      gap: 12px;\n",
              "    }\n",
              "\n",
              "    .colab-df-convert {\n",
              "      background-color: #E8F0FE;\n",
              "      border: none;\n",
              "      border-radius: 50%;\n",
              "      cursor: pointer;\n",
              "      display: none;\n",
              "      fill: #1967D2;\n",
              "      height: 32px;\n",
              "      padding: 0 0 0 0;\n",
              "      width: 32px;\n",
              "    }\n",
              "\n",
              "    .colab-df-convert:hover {\n",
              "      background-color: #E2EBFA;\n",
              "      box-shadow: 0px 1px 2px rgba(60, 64, 67, 0.3), 0px 1px 3px 1px rgba(60, 64, 67, 0.15);\n",
              "      fill: #174EA6;\n",
              "    }\n",
              "\n",
              "    [theme=dark] .colab-df-convert {\n",
              "      background-color: #3B4455;\n",
              "      fill: #D2E3FC;\n",
              "    }\n",
              "\n",
              "    [theme=dark] .colab-df-convert:hover {\n",
              "      background-color: #434B5C;\n",
              "      box-shadow: 0px 1px 3px 1px rgba(0, 0, 0, 0.15);\n",
              "      filter: drop-shadow(0px 1px 2px rgba(0, 0, 0, 0.3));\n",
              "      fill: #FFFFFF;\n",
              "    }\n",
              "  </style>\n",
              "\n",
              "      <script>\n",
              "        const buttonEl =\n",
              "          document.querySelector('#df-d202ded0-46ce-4f54-9180-484e97716088 button.colab-df-convert');\n",
              "        buttonEl.style.display =\n",
              "          google.colab.kernel.accessAllowed ? 'block' : 'none';\n",
              "\n",
              "        async function convertToInteractive(key) {\n",
              "          const element = document.querySelector('#df-d202ded0-46ce-4f54-9180-484e97716088');\n",
              "          const dataTable =\n",
              "            await google.colab.kernel.invokeFunction('convertToInteractive',\n",
              "                                                     [key], {});\n",
              "          if (!dataTable) return;\n",
              "\n",
              "          const docLinkHtml = 'Like what you see? Visit the ' +\n",
              "            '<a target=\"_blank\" href=https://colab.research.google.com/notebooks/data_table.ipynb>data table notebook</a>'\n",
              "            + ' to learn more about interactive tables.';\n",
              "          element.innerHTML = '';\n",
              "          dataTable['output_type'] = 'display_data';\n",
              "          await google.colab.output.renderOutput(dataTable, element);\n",
              "          const docLink = document.createElement('div');\n",
              "          docLink.innerHTML = docLinkHtml;\n",
              "          element.appendChild(docLink);\n",
              "        }\n",
              "      </script>\n",
              "    </div>\n",
              "  </div>\n",
              "  "
            ]
          },
          "metadata": {},
          "execution_count": 70
        }
      ]
    },
    {
      "cell_type": "code",
      "source": [
        "test.shape"
      ],
      "metadata": {
        "colab": {
          "base_uri": "https://localhost:8080/"
        },
        "id": "TZUgSyo0ptXB",
        "outputId": "fbb4cfaf-a203-41d3-c372-11fafb9ff2cd"
      },
      "execution_count": 71,
      "outputs": [
        {
          "output_type": "execute_result",
          "data": {
            "text/plain": [
              "(104, 16)"
            ]
          },
          "metadata": {},
          "execution_count": 71
        }
      ]
    },
    {
      "cell_type": "code",
      "source": [
        "total= pd.concat([df,test],axis=0) # Concating train and test and then will take last 60 train point\n"
      ],
      "metadata": {
        "id": "_ypxCCR3W2Ns"
      },
      "execution_count": 72,
      "outputs": []
    },
    {
      "cell_type": "code",
      "source": [
        "total.shape"
      ],
      "metadata": {
        "colab": {
          "base_uri": "https://localhost:8080/"
        },
        "id": "GU6HJvHbpv9x",
        "outputId": "f72b05fe-9558-4949-d2fc-0e4a1a1675eb"
      },
      "execution_count": 73,
      "outputs": [
        {
          "output_type": "execute_result",
          "data": {
            "text/plain": [
              "(602, 16)"
            ]
          },
          "metadata": {},
          "execution_count": 73
        }
      ]
    },
    {
      "cell_type": "code",
      "source": [
        "test_input = total[len(total)-len(test)-60:].values\n",
        "#test_input= test_input.reshape(-1,1) # reshaping it to get it transformed\n",
        "test_input= ss.transform(test_input)"
      ],
      "metadata": {
        "id": "SdDoFzUxfg4U"
      },
      "execution_count": 74,
      "outputs": []
    },
    {
      "cell_type": "code",
      "source": [
        "xtest= []\n",
        "for i in range(60,80):\n",
        "    xtest.append(test_input[i-60:i,:]) #creating input for lstm prediction"
      ],
      "metadata": {
        "id": "bMGq7URIfg6b"
      },
      "execution_count": 78,
      "outputs": []
    },
    {
      "cell_type": "code",
      "source": [
        "xtest= np.array(xtest)"
      ],
      "metadata": {
        "id": "QQIRk6llgSXR"
      },
      "execution_count": 79,
      "outputs": []
    },
    {
      "cell_type": "code",
      "source": [
        "xtest.shape"
      ],
      "metadata": {
        "colab": {
          "base_uri": "https://localhost:8080/"
        },
        "id": "oAKyNXAzgeYb",
        "outputId": "3fd0135e-529b-4c59-8306-0394ddd8a8ce"
      },
      "execution_count": 80,
      "outputs": [
        {
          "output_type": "execute_result",
          "data": {
            "text/plain": [
              "(20, 60, 16)"
            ]
          },
          "metadata": {},
          "execution_count": 80
        }
      ]
    },
    {
      "cell_type": "code",
      "source": [
        "xtest= np.reshape(xtest,(xtest.shape[0],xtest.shape[2],xtest.shape[1]))"
      ],
      "metadata": {
        "id": "5zkxI79RSIQl"
      },
      "execution_count": 81,
      "outputs": []
    },
    {
      "cell_type": "code",
      "source": [
        "#xtest= np.reshape(xtest,(xtest.shape[0],xtest.shape[1],1))\n",
        "predicted_value= regression.predict(xtest)"
      ],
      "metadata": {
        "id": "Y6FEHk3RgUeq"
      },
      "execution_count": 82,
      "outputs": []
    },
    {
      "cell_type": "code",
      "source": [
        "#predicted_value_inverted = ss.inverse_transform(predicted_value)"
      ],
      "metadata": {
        "id": "YKw5j3YpgkFu"
      },
      "execution_count": 85,
      "outputs": []
    },
    {
      "cell_type": "code",
      "source": [
        "test_actual = np.array(test[0:20]['Adj Close'])"
      ],
      "metadata": {
        "id": "NoKgrfYmg7G3"
      },
      "execution_count": 86,
      "outputs": []
    },
    {
      "cell_type": "code",
      "source": [
        "test_actual.shape"
      ],
      "metadata": {
        "colab": {
          "base_uri": "https://localhost:8080/"
        },
        "id": "tOzhmKQ3hIR8",
        "outputId": "465d11cc-1615-4948-ba79-c08a08f08a64"
      },
      "execution_count": 87,
      "outputs": [
        {
          "output_type": "execute_result",
          "data": {
            "text/plain": [
              "(20,)"
            ]
          },
          "metadata": {},
          "execution_count": 87
        }
      ]
    },
    {
      "cell_type": "code",
      "source": [
        "predicted_value.shape"
      ],
      "metadata": {
        "colab": {
          "base_uri": "https://localhost:8080/"
        },
        "id": "TKPqmtjYhLod",
        "outputId": "696874e5-ce54-4e8b-b709-326bc1505f3f"
      },
      "execution_count": 88,
      "outputs": [
        {
          "output_type": "execute_result",
          "data": {
            "text/plain": [
              "(20, 1)"
            ]
          },
          "metadata": {},
          "execution_count": 88
        }
      ]
    },
    {
      "cell_type": "code",
      "source": [
        "r2_score(test_actual, predicted_value)"
      ],
      "metadata": {
        "colab": {
          "base_uri": "https://localhost:8080/"
        },
        "id": "zduefkWBowre",
        "outputId": "d2637e8f-4108-49e0-df23-c38048f11665"
      },
      "execution_count": 89,
      "outputs": [
        {
          "output_type": "execute_result",
          "data": {
            "text/plain": [
              "-0.31089670871096664"
            ]
          },
          "metadata": {},
          "execution_count": 89
        }
      ]
    },
    {
      "cell_type": "markdown",
      "source": [
        "As we see R-Squared score increased from -22.24741605656513 to -0.31 although it is not still a reliable model, so we will try to model as a classification problem."
      ],
      "metadata": {
        "id": "n0pIM5vXsx-P"
      }
    },
    {
      "cell_type": "markdown",
      "source": [
        "### Plot the Data"
      ],
      "metadata": {
        "id": "I8-pdGJWqVFi"
      }
    },
    {
      "cell_type": "code",
      "source": [
        "plt.figure(figsize=(20,10))\n",
        "plt.plot(test_actual,'red',label='Real Prices')\n",
        "plt.plot(predicted_value,'blue',label='Predicted Prices')\n",
        "plt.xlabel('Time')\n",
        "plt.ylabel('Prices')\n",
        "plt.title('Real vs Predicted Prices')\n",
        "plt.legend(loc='best', fontsize=20)"
      ],
      "metadata": {
        "colab": {
          "base_uri": "https://localhost:8080/",
          "height": 634
        },
        "id": "TIWOvNxIgq6t",
        "outputId": "4575283d-2cfa-4130-f31b-29f662ad18a1"
      },
      "execution_count": 90,
      "outputs": [
        {
          "output_type": "execute_result",
          "data": {
            "text/plain": [
              "<matplotlib.legend.Legend at 0x7fe8e4987ad0>"
            ]
          },
          "metadata": {},
          "execution_count": 90
        },
        {
          "output_type": "display_data",
          "data": {
            "text/plain": [
              "<Figure size 1440x720 with 1 Axes>"
            ],
            "image/png": "[encoded data removed]"
          },
          "metadata": {
            "needs_background": "light"
          }
        }
      ]
    },
    {
      "cell_type": "code",
      "source": [
        ""
      ],
      "metadata": {
        "id": "7cIH9LEzFbl0"
      },
      "execution_count": null,
      "outputs": []
    }
  ]
}