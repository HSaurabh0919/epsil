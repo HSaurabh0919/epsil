{
  "nbformat": 4,
  "nbformat_minor": 0,
  "metadata": {
    "colab": {
      "name": "forex_trading_GRU_callbacks.ipynb",
      "provenance": [],
      "collapsed_sections": [],
      "authorship_tag": "ABX9TyMEFPeWNXncTzNb0b1s2f4u"
    },
    "kernelspec": {
      "name": "python3",
      "display_name": "Python 3"
    },
    "language_info": {
      "name": "python"
    }
  },
  "cells": [
    {
      "cell_type": "code",
      "execution_count": null,
      "metadata": {
        "id": "7Kx0uDdqIt35"
      },
      "outputs": [],
      "source": [
        "!pip install yfinance"
      ]
    },
    {
      "cell_type": "code",
      "source": [
        "!pip install ta"
      ],
      "metadata": {
        "id": "wl-Yv2TIkJmr"
      },
      "execution_count": null,
      "outputs": []
    },
    {
      "cell_type": "code",
      "source": [
        "import pandas as pd \n",
        "import numpy as np\n",
        "import matplotlib.pyplot as plt\n",
        "import yfinance as yf\n",
        "import warnings\n",
        "import ta\n",
        "warnings.filterwarnings('ignore')"
      ],
      "metadata": {
        "id": "6F8N5vi1I7g2"
      },
      "execution_count": 3,
      "outputs": []
    },
    {
      "cell_type": "code",
      "source": [
        "from sklearn.metrics import r2_score"
      ],
      "metadata": {
        "id": "WvZsUQW9oyUU"
      },
      "execution_count": 4,
      "outputs": []
    },
    {
      "cell_type": "code",
      "source": [
        "df = yf.download('EURUSD=X', start='2020-01-01', end='2021-12-31')"
      ],
      "metadata": {
        "colab": {
          "base_uri": "https://localhost:8080/"
        },
        "id": "RIZZhuxWI7jm",
        "outputId": "97d203c0-bd4d-4382-dabe-ff4ce1a1bfff"
      },
      "execution_count": 5,
      "outputs": [
        {
          "output_type": "stream",
          "name": "stdout",
          "text": [
            "\r[*********************100%***********************]  1 of 1 completed\n"
          ]
        }
      ]
    },
    {
      "cell_type": "code",
      "source": [
        "df.head(2)"
      ],
      "metadata": {
        "colab": {
          "base_uri": "https://localhost:8080/",
          "height": 143
        },
        "id": "DJCBIlopI7mI",
        "outputId": "382493bf-033b-444e-b77c-b6ecf538c564"
      },
      "execution_count": 6,
      "outputs": [
        {
          "output_type": "execute_result",
          "data": {
            "text/plain": [
              "                Open      High       Low     Close  Adj Close  Volume\n",
              "Date                                                                 \n",
              "2020-01-01  1.122083  1.122838  1.115947  1.122083   1.122083       0\n",
              "2020-01-02  1.121894  1.122712  1.116682  1.122083   1.122083       0"
            ],
            "text/html": [
              "\n",
              "  <div id=\"df-4c06506b-d280-4b53-81ce-11df3f094208\">\n",
              "    <div class=\"colab-df-container\">\n",
              "      <div>\n",
              "<style scoped>\n",
              "    .dataframe tbody tr th:only-of-type {\n",
              "        vertical-align: middle;\n",
              "    }\n",
              "\n",
              "    .dataframe tbody tr th {\n",
              "        vertical-align: top;\n",
              "    }\n",
              "\n",
              "    .dataframe thead th {\n",
              "        text-align: right;\n",
              "    }\n",
              "</style>\n",
              "<table border=\"1\" class=\"dataframe\">\n",
              "  <thead>\n",
              "    <tr style=\"text-align: right;\">\n",
              "      <th></th>\n",
              "      <th>Open</th>\n",
              "      <th>High</th>\n",
              "      <th>Low</th>\n",
              "      <th>Close</th>\n",
              "      <th>Adj Close</th>\n",
              "      <th>Volume</th>\n",
              "    </tr>\n",
              "    <tr>\n",
              "      <th>Date</th>\n",
              "      <th></th>\n",
              "      <th></th>\n",
              "      <th></th>\n",
              "      <th></th>\n",
              "      <th></th>\n",
              "      <th></th>\n",
              "    </tr>\n",
              "  </thead>\n",
              "  <tbody>\n",
              "    <tr>\n",
              "      <th>2020-01-01</th>\n",
              "      <td>1.122083</td>\n",
              "      <td>1.122838</td>\n",
              "      <td>1.115947</td>\n",
              "      <td>1.122083</td>\n",
              "      <td>1.122083</td>\n",
              "      <td>0</td>\n",
              "    </tr>\n",
              "    <tr>\n",
              "      <th>2020-01-02</th>\n",
              "      <td>1.121894</td>\n",
              "      <td>1.122712</td>\n",
              "      <td>1.116682</td>\n",
              "      <td>1.122083</td>\n",
              "      <td>1.122083</td>\n",
              "      <td>0</td>\n",
              "    </tr>\n",
              "  </tbody>\n",
              "</table>\n",
              "</div>\n",
              "      <button class=\"colab-df-convert\" onclick=\"convertToInteractive('df-4c06506b-d280-4b53-81ce-11df3f094208')\"\n",
              "              title=\"Convert this dataframe to an interactive table.\"\n",
              "              style=\"display:none;\">\n",
              "        \n",
              "  <svg xmlns=\"http://www.w3.org/2000/svg\" height=\"24px\"viewBox=\"0 0 24 24\"\n",
              "       width=\"24px\">\n",
              "    <path d=\"M0 0h24v24H0V0z\" fill=\"none\"/>\n",
              "    <path d=\"M18.56 5.44l.94 2.06.94-2.06 2.06-.94-2.06-.94-.94-2.06-.94 2.06-2.06.94zm-11 1L8.5 8.5l.94-2.06 2.06-.94-2.06-.94L8.5 2.5l-.94 2.06-2.06.94zm10 10l.94 2.06.94-2.06 2.06-.94-2.06-.94-.94-2.06-.94 2.06-2.06.94z\"/><path d=\"M17.41 7.96l-1.37-1.37c-.4-.4-.92-.59-1.43-.59-.52 0-1.04.2-1.43.59L10.3 9.45l-7.72 7.72c-.78.78-.78 2.05 0 2.83L4 21.41c.39.39.9.59 1.41.59.51 0 1.02-.2 1.41-.59l7.78-7.78 2.81-2.81c.8-.78.8-2.07 0-2.86zM5.41 20L4 18.59l7.72-7.72 1.47 1.35L5.41 20z\"/>\n",
              "  </svg>\n",
              "      </button>\n",
              "      \n",
              "  <style>\n",
              "    .colab-df-container {\n",
              "      display:flex;\n",
              "      flex-wrap:wrap;\n",
              "      gap: 12px;\n",
              "    }\n",
              "\n",
              "    .colab-df-convert {\n",
              "      background-color: #E8F0FE;\n",
              "      border: none;\n",
              "      border-radius: 50%;\n",
              "      cursor: pointer;\n",
              "      display: none;\n",
              "      fill: #1967D2;\n",
              "      height: 32px;\n",
              "      padding: 0 0 0 0;\n",
              "      width: 32px;\n",
              "    }\n",
              "\n",
              "    .colab-df-convert:hover {\n",
              "      background-color: #E2EBFA;\n",
              "      box-shadow: 0px 1px 2px rgba(60, 64, 67, 0.3), 0px 1px 3px 1px rgba(60, 64, 67, 0.15);\n",
              "      fill: #174EA6;\n",
              "    }\n",
              "\n",
              "    [theme=dark] .colab-df-convert {\n",
              "      background-color: #3B4455;\n",
              "      fill: #D2E3FC;\n",
              "    }\n",
              "\n",
              "    [theme=dark] .colab-df-convert:hover {\n",
              "      background-color: #434B5C;\n",
              "      box-shadow: 0px 1px 3px 1px rgba(0, 0, 0, 0.15);\n",
              "      filter: drop-shadow(0px 1px 2px rgba(0, 0, 0, 0.3));\n",
              "      fill: #FFFFFF;\n",
              "    }\n",
              "  </style>\n",
              "\n",
              "      <script>\n",
              "        const buttonEl =\n",
              "          document.querySelector('#df-4c06506b-d280-4b53-81ce-11df3f094208 button.colab-df-convert');\n",
              "        buttonEl.style.display =\n",
              "          google.colab.kernel.accessAllowed ? 'block' : 'none';\n",
              "\n",
              "        async function convertToInteractive(key) {\n",
              "          const element = document.querySelector('#df-4c06506b-d280-4b53-81ce-11df3f094208');\n",
              "          const dataTable =\n",
              "            await google.colab.kernel.invokeFunction('convertToInteractive',\n",
              "                                                     [key], {});\n",
              "          if (!dataTable) return;\n",
              "\n",
              "          const docLinkHtml = 'Like what you see? Visit the ' +\n",
              "            '<a target=\"_blank\" href=https://colab.research.google.com/notebooks/data_table.ipynb>data table notebook</a>'\n",
              "            + ' to learn more about interactive tables.';\n",
              "          element.innerHTML = '';\n",
              "          dataTable['output_type'] = 'display_data';\n",
              "          await google.colab.output.renderOutput(dataTable, element);\n",
              "          const docLink = document.createElement('div');\n",
              "          docLink.innerHTML = docLinkHtml;\n",
              "          element.appendChild(docLink);\n",
              "        }\n",
              "      </script>\n",
              "    </div>\n",
              "  </div>\n",
              "  "
            ]
          },
          "metadata": {},
          "execution_count": 6
        }
      ]
    },
    {
      "cell_type": "code",
      "source": [
        "#Add new features\n",
        "df[\"ho\"]=(((df.High-df.Open)/df.Open)*100)\n",
        "df[\"ol\"]=(((df.Open-df.Low)/df.Open)*100)\n",
        "df[\"oc\"]=(((df.Open-df.Close)/df.Open)*100)\n",
        "df[\"hl\"]=(((df.High-df.Low)/df.Low)*100)\n",
        "df['rsi']=ta.momentum.rsi(df[\"Close\"], window=14, fillna=False)\n",
        "df['roc']=ta.momentum.roc(df['Close'], window = 14, fillna = False)\n",
        "df['macd']=ta.trend.macd(df['Close'], window_slow=26, window_fast=12, fillna=False)\n",
        "df['ema']=ta.trend.ema_indicator(df['Close'], window = 14, fillna = False)\n",
        "df['sma']=ta.trend.sma_indicator(df['Close'], window = 14, fillna = False)\n",
        "df['ma']=ta.momentum.kama(df[\"Close\"], window =10, pow1=2, pow2=30, fillna=False)"
      ],
      "metadata": {
        "id": "xe5FpaOxIQhD"
      },
      "execution_count": 7,
      "outputs": []
    },
    {
      "cell_type": "code",
      "source": [
        "df = df.dropna()"
      ],
      "metadata": {
        "id": "1eIiVO7jIQjj"
      },
      "execution_count": 8,
      "outputs": []
    },
    {
      "cell_type": "code",
      "source": [
        "df.shape"
      ],
      "metadata": {
        "colab": {
          "base_uri": "https://localhost:8080/"
        },
        "id": "xAOlQWPdlMQ-",
        "outputId": "c5167399-b5a8-42bc-87da-619e605eb848"
      },
      "execution_count": 9,
      "outputs": [
        {
          "output_type": "execute_result",
          "data": {
            "text/plain": [
              "(498, 16)"
            ]
          },
          "metadata": {},
          "execution_count": 9
        }
      ]
    },
    {
      "cell_type": "code",
      "source": [
        "df.columns"
      ],
      "metadata": {
        "colab": {
          "base_uri": "https://localhost:8080/"
        },
        "id": "N9_5Qq6Amspc",
        "outputId": "8b8de72f-c3bd-4047-838e-324229f86ba9"
      },
      "execution_count": null,
      "outputs": [
        {
          "output_type": "execute_result",
          "data": {
            "text/plain": [
              "Index(['Open', 'High', 'Low', 'Close', 'Adj Close', 'Volume', 'ho', 'ol', 'oc',\n",
              "       'hl', 'rsi', 'roc', 'macd', 'ema', 'sma', 'ma'],\n",
              "      dtype='object')"
            ]
          },
          "metadata": {},
          "execution_count": 52
        }
      ]
    },
    {
      "cell_type": "code",
      "source": [
        "ytrain=[]\n",
        "train2 = np.array(df)\n",
        "for i in range(60,len(train2)):\n",
        "  ytrain.append(train2[i,4]) #Adj Close is at index 4"
      ],
      "metadata": {
        "id": "BwyB6n9udQnA"
      },
      "execution_count": 10,
      "outputs": []
    },
    {
      "cell_type": "code",
      "source": [
        "#Scaling the values between 0 to 1\n",
        "from sklearn.preprocessing import MinMaxScaler\n",
        "ss= MinMaxScaler(feature_range=(0,1))\n",
        "train = ss.fit_transform(np.array(df))"
      ],
      "metadata": {
        "id": "rh_3iV7rLQwM"
      },
      "execution_count": 11,
      "outputs": []
    },
    {
      "cell_type": "code",
      "source": [
        "# Feature selection\n",
        "xtrain=[]\n",
        "\n",
        "for i in range(60,len(train)):\n",
        "    #xtrain.append([train[i-60:i,0],train[i-60:i,1]])\n",
        "    xtrain.append(train[i-60:i,:])\n",
        "    #ytrain.append(train[i,0])\n",
        "\n",
        "xtrain, ytrain = np.array(xtrain), np.array(ytrain)"
      ],
      "metadata": {
        "id": "-o6jzNRXMEKJ"
      },
      "execution_count": 12,
      "outputs": []
    },
    {
      "cell_type": "code",
      "source": [
        "xtrain.shape"
      ],
      "metadata": {
        "colab": {
          "base_uri": "https://localhost:8080/"
        },
        "id": "lEsUOUtoRI7a",
        "outputId": "2fc7706c-98a3-41ca-e922-e118f6c6253b"
      },
      "execution_count": 13,
      "outputs": [
        {
          "output_type": "execute_result",
          "data": {
            "text/plain": [
              "(438, 60, 16)"
            ]
          },
          "metadata": {},
          "execution_count": 13
        }
      ]
    },
    {
      "cell_type": "code",
      "source": [
        "#Reshaping the train data to make it as input for LTSM layer input_shape(batchzise,timesteps,input_dim)\n",
        "xtrain= np.reshape(xtrain,(xtrain.shape[0],xtrain.shape[2],xtrain.shape[1]))"
      ],
      "metadata": {
        "id": "BgrO-ZYSMEMg"
      },
      "execution_count": 14,
      "outputs": []
    },
    {
      "cell_type": "code",
      "source": [
        "xtrain.shape #Before : (463, 60, 1)"
      ],
      "metadata": {
        "colab": {
          "base_uri": "https://localhost:8080/"
        },
        "id": "pH-RTgXbMEO4",
        "outputId": "84901968-14ab-4e28-f59e-ec1c82bb266a"
      },
      "execution_count": 15,
      "outputs": [
        {
          "output_type": "execute_result",
          "data": {
            "text/plain": [
              "(438, 16, 60)"
            ]
          },
          "metadata": {},
          "execution_count": 15
        }
      ]
    },
    {
      "cell_type": "markdown",
      "source": [
        "### Build an GRU Model"
      ],
      "metadata": {
        "id": "0tdXGznHNNMT"
      }
    },
    {
      "cell_type": "code",
      "source": [
        "from keras.models import Sequential\n",
        "from keras.layers import GRU\n",
        "from keras.layers import Dense\n",
        "from keras.layers import Dropout\n",
        "from keras.layers import LSTM\n",
        "from keras.layers import BatchNormalization\n",
        "import keras"
      ],
      "metadata": {
        "id": "GQvOongRM8_P"
      },
      "execution_count": 81,
      "outputs": []
    },
    {
      "cell_type": "code",
      "source": [
        "#initialisizng the model \n",
        "checkpoint = keras.callbacks.ModelCheckpoint(\"forex_price.h5\", save_best_only=True)\n",
        "\n",
        "regression= Sequential()\n",
        "\n",
        "regression.add(GRU(units=280,return_sequences=True,kernel_initializer='glorot_uniform',input_shape=(xtrain.shape[1],xtrain.shape[2])))\n",
        "regression.add(Dropout(0.1))\n",
        "\n",
        "\n",
        "regression.add(GRU(units=280,kernel_initializer='glorot_uniform',return_sequences=True))\n",
        "regression.add(Dropout(0.1))\n",
        "\n",
        "regression.add(GRU(units=280,kernel_initializer='glorot_uniform',return_sequences=True))\n",
        "regression.add(Dropout(0.1))\n",
        "\n",
        "regression.add(GRU(units=280,kernel_initializer='glorot_uniform'))\n",
        "regression.add(Dropout(0.1))\n",
        "\n",
        "regression.add(Dense(units=1))\n",
        "\n",
        "regression.compile(optimizer='adam',loss='mean_squared_error',metrics=['mse'])\n",
        "\n",
        "#fitting the network\n",
        "#regression.fit(xtrain,ytrain,batch_size=30,epochs=10)\n",
        "\n",
        "history = regression.fit(\n",
        "    xtrain, ytrain,\n",
        "    epochs=10,\n",
        "    batch_size=30,\n",
        "    validation_split=0.2,\n",
        "    callbacks=[checkpoint]\n",
        ")"
      ],
      "metadata": {
        "id": "OH0oOCo4NSPP",
        "colab": {
          "base_uri": "https://localhost:8080/"
        },
        "outputId": "8504477f-eed8-41c9-f7f2-6e524bca182a"
      },
      "execution_count": 55,
      "outputs": [
        {
          "output_type": "stream",
          "name": "stdout",
          "text": [
            "Epoch 1/10\n",
            "12/12 [==============================] - 13s 486ms/step - loss: 0.3550 - mse: 0.3550 - val_loss: 0.0842 - val_mse: 0.0842\n",
            "Epoch 2/10\n",
            "12/12 [==============================] - 3s 221ms/step - loss: 0.0541 - mse: 0.0541 - val_loss: 0.0075 - val_mse: 0.0075\n",
            "Epoch 3/10\n",
            "12/12 [==============================] - 4s 309ms/step - loss: 0.0281 - mse: 0.0281 - val_loss: 0.0048 - val_mse: 0.0048\n",
            "Epoch 4/10\n",
            "12/12 [==============================] - 3s 219ms/step - loss: 0.0146 - mse: 0.0146 - val_loss: 0.0043 - val_mse: 0.0043\n",
            "Epoch 5/10\n",
            "12/12 [==============================] - 3s 221ms/step - loss: 0.0094 - mse: 0.0094 - val_loss: 0.0042 - val_mse: 0.0042\n",
            "Epoch 6/10\n",
            "12/12 [==============================] - 3s 217ms/step - loss: 0.0064 - mse: 0.0064 - val_loss: 0.0023 - val_mse: 0.0023\n",
            "Epoch 7/10\n",
            "12/12 [==============================] - 3s 219ms/step - loss: 0.0062 - mse: 0.0062 - val_loss: 6.3451e-04 - val_mse: 6.3451e-04\n",
            "Epoch 8/10\n",
            "12/12 [==============================] - 3s 218ms/step - loss: 0.0042 - mse: 0.0042 - val_loss: 5.5990e-04 - val_mse: 5.5990e-04\n",
            "Epoch 9/10\n",
            "12/12 [==============================] - 3s 213ms/step - loss: 0.0045 - mse: 0.0045 - val_loss: 6.6951e-04 - val_mse: 6.6951e-04\n",
            "Epoch 10/10\n",
            "12/12 [==============================] - 3s 210ms/step - loss: 0.0039 - mse: 0.0039 - val_loss: 0.0014 - val_mse: 0.0014\n"
          ]
        }
      ]
    },
    {
      "cell_type": "code",
      "source": [
        "model_history = pd.DataFrame(history.history)\n",
        "model_history['epoch'] = history.epoch\n",
        "\n",
        "fig, ax = plt.subplots(1, figsize=(8,6))\n",
        "num_epochs = model_history.shape[0]\n",
        "\n",
        "ax.plot(np.arange(0, num_epochs), model_history[\"mse\"], \n",
        "        label=\"Training MAE\")\n",
        "ax.plot(np.arange(0, num_epochs), model_history[\"val_mse\"], \n",
        "        label=\"Validation MAE\")\n",
        "ax.legend()\n",
        "\n",
        "plt.tight_layout()\n",
        "plt.show()"
      ],
      "metadata": {
        "colab": {
          "base_uri": "https://localhost:8080/",
          "height": 441
        },
        "id": "Ty4pc7ZXPkd-",
        "outputId": "90465509-06b9-4b06-962a-579a78cb126d"
      },
      "execution_count": 57,
      "outputs": [
        {
          "output_type": "display_data",
          "data": {
            "text/plain": [
              "<Figure size 576x432 with 1 Axes>"
            ],
            "image/png": "[encoded data removed]"
          },
          "metadata": {
            "needs_background": "light"
          }
        }
      ]
    },
    {
      "cell_type": "markdown",
      "source": [
        "### Let's check the impact of Batch Normalization Layer/"
      ],
      "metadata": {
        "id": "6TIU_ssXRCmI"
      }
    },
    {
      "cell_type": "code",
      "source": [
        "#initialisizng the model \n",
        "checkpoint = keras.callbacks.ModelCheckpoint(\"forex_price.h5\", save_best_only=True)\n",
        "\n",
        "regression= Sequential()\n",
        "\n",
        "regression.add(GRU(units=280,return_sequences=True,kernel_initializer='glorot_uniform',input_shape=(xtrain.shape[1],xtrain.shape[2])))\n",
        "regression.add(Dropout(0.1))\n",
        "regression.add(BatchNormalization())\n",
        "\n",
        "regression.add(GRU(units=280,kernel_initializer='glorot_uniform',return_sequences=True))\n",
        "regression.add(Dropout(0.1))\n",
        "regression.add(BatchNormalization())\n",
        "\n",
        "regression.add(GRU(units=280,kernel_initializer='glorot_uniform',return_sequences=True))\n",
        "regression.add(Dropout(0.1))\n",
        "regression.add(BatchNormalization())\n",
        "\n",
        "regression.add(GRU(units=280,kernel_initializer='glorot_uniform'))\n",
        "regression.add(Dropout(0.1))\n",
        "regression.add(BatchNormalization())\n",
        "\n",
        "regression.add(Dense(units=1))\n",
        "\n",
        "regression.compile(optimizer='adam',loss='mean_squared_error',metrics=['mse'])\n",
        "\n",
        "#fitting the network\n",
        "#regression.fit(xtrain,ytrain,batch_size=30,epochs=10)\n",
        "\n",
        "history = regression.fit(\n",
        "    xtrain, ytrain,\n",
        "    epochs=10,\n",
        "    batch_size=30,\n",
        "    validation_split=0.2,\n",
        "    callbacks=[checkpoint]\n",
        ")"
      ],
      "metadata": {
        "colab": {
          "base_uri": "https://localhost:8080/"
        },
        "id": "9DemV4qrOjCq",
        "outputId": "8d6e1183-8132-47ad-c3b4-fb2ac4e41157"
      },
      "execution_count": 82,
      "outputs": [
        {
          "output_type": "stream",
          "name": "stdout",
          "text": [
            "Epoch 1/10\n",
            "12/12 [==============================] - 15s 528ms/step - loss: 6.2588 - mse: 6.2588 - val_loss: 0.6271 - val_mse: 0.6271\n",
            "Epoch 2/10\n",
            "12/12 [==============================] - 3s 227ms/step - loss: 1.0887 - mse: 1.0887 - val_loss: 0.1981 - val_mse: 0.1981\n",
            "Epoch 3/10\n",
            "12/12 [==============================] - 4s 312ms/step - loss: 0.7272 - mse: 0.7272 - val_loss: 0.0799 - val_mse: 0.0799\n",
            "Epoch 4/10\n",
            "12/12 [==============================] - 4s 322ms/step - loss: 0.4988 - mse: 0.4988 - val_loss: 0.0044 - val_mse: 0.0044\n",
            "Epoch 5/10\n",
            "12/12 [==============================] - 3s 282ms/step - loss: 0.3663 - mse: 0.3663 - val_loss: 0.0174 - val_mse: 0.0174\n",
            "Epoch 6/10\n",
            "12/12 [==============================] - 3s 279ms/step - loss: 0.2678 - mse: 0.2678 - val_loss: 0.0180 - val_mse: 0.0180\n",
            "Epoch 7/10\n",
            "12/12 [==============================] - 4s 327ms/step - loss: 0.2858 - mse: 0.2858 - val_loss: 0.0040 - val_mse: 0.0040\n",
            "Epoch 8/10\n",
            "12/12 [==============================] - 3s 215ms/step - loss: 0.2941 - mse: 0.2941 - val_loss: 0.0102 - val_mse: 0.0102\n",
            "Epoch 9/10\n",
            "12/12 [==============================] - 3s 225ms/step - loss: 0.2929 - mse: 0.2929 - val_loss: 9.7772e-04 - val_mse: 9.7772e-04\n",
            "Epoch 10/10\n",
            "12/12 [==============================] - 3s 216ms/step - loss: 0.3077 - mse: 0.3077 - val_loss: 0.0074 - val_mse: 0.0074\n"
          ]
        }
      ]
    },
    {
      "cell_type": "code",
      "source": [
        "#Let's check the new results\n",
        "model_history = pd.DataFrame(history.history)\n",
        "model_history['epoch'] = history.epoch\n",
        "\n",
        "fig, ax = plt.subplots(1, figsize=(8,6))\n",
        "num_epochs = model_history.shape[0]\n",
        "\n",
        "ax.plot(np.arange(0, num_epochs), model_history[\"mse\"], \n",
        "        label=\"Training MSE\")\n",
        "ax.plot(np.arange(0, num_epochs), model_history[\"val_mse\"], \n",
        "        label=\"Validation MSE\")\n",
        "ax.legend()\n",
        "\n",
        "plt.tight_layout()\n",
        "plt.show()"
      ],
      "metadata": {
        "colab": {
          "base_uri": "https://localhost:8080/",
          "height": 441
        },
        "id": "GLDaAqiqRTWX",
        "outputId": "8127c474-ff9e-4beb-b4a0-104a31f4fcb6"
      },
      "execution_count": 84,
      "outputs": [
        {
          "output_type": "display_data",
          "data": {
            "text/plain": [
              "<Figure size 576x432 with 1 Axes>"
            ],
            "image/png": "[encoded data removed]"
          },
          "metadata": {
            "needs_background": "light"
          }
        }
      ]
    },
    {
      "cell_type": "code",
      "source": [
        "regression.summary()"
      ],
      "metadata": {
        "colab": {
          "base_uri": "https://localhost:8080/"
        },
        "id": "S25-2ItwJ4Fj",
        "outputId": "947b6b16-2af8-4480-eef0-4eb69a55b00e"
      },
      "execution_count": 85,
      "outputs": [
        {
          "output_type": "stream",
          "name": "stdout",
          "text": [
            "Model: \"sequential_8\"\n",
            "_________________________________________________________________\n",
            " Layer (type)                Output Shape              Param #   \n",
            "=================================================================\n",
            " gru_31 (GRU)                (None, 16, 280)           287280    \n",
            "                                                                 \n",
            " dropout_33 (Dropout)        (None, 16, 280)           0         \n",
            "                                                                 \n",
            " batch_normalization (BatchN  (None, 16, 280)          1120      \n",
            " ormalization)                                                   \n",
            "                                                                 \n",
            " gru_32 (GRU)                (None, 16, 280)           472080    \n",
            "                                                                 \n",
            " dropout_34 (Dropout)        (None, 16, 280)           0         \n",
            "                                                                 \n",
            " batch_normalization_1 (Batc  (None, 16, 280)          1120      \n",
            " hNormalization)                                                 \n",
            "                                                                 \n",
            " gru_33 (GRU)                (None, 16, 280)           472080    \n",
            "                                                                 \n",
            " dropout_35 (Dropout)        (None, 16, 280)           0         \n",
            "                                                                 \n",
            " batch_normalization_2 (Batc  (None, 16, 280)          1120      \n",
            " hNormalization)                                                 \n",
            "                                                                 \n",
            " gru_34 (GRU)                (None, 280)               472080    \n",
            "                                                                 \n",
            " dropout_36 (Dropout)        (None, 280)               0         \n",
            "                                                                 \n",
            " batch_normalization_3 (Batc  (None, 280)              1120      \n",
            " hNormalization)                                                 \n",
            "                                                                 \n",
            " dense_4 (Dense)             (None, 1)                 281       \n",
            "                                                                 \n",
            "=================================================================\n",
            "Total params: 1,708,281\n",
            "Trainable params: 1,706,041\n",
            "Non-trainable params: 2,240\n",
            "_________________________________________________________________\n"
          ]
        }
      ]
    },
    {
      "cell_type": "code",
      "source": [
        "test_df = yf.download('EURUSD=X', start='2022-01-01', end='2022-06-30')"
      ],
      "metadata": {
        "colab": {
          "base_uri": "https://localhost:8080/"
        },
        "id": "XbwrsRmjPyTA",
        "outputId": "4f00d400-74cc-4ca2-92ac-a9c36f95a4d9"
      },
      "execution_count": 86,
      "outputs": [
        {
          "output_type": "stream",
          "name": "stdout",
          "text": [
            "\r[*********************100%***********************]  1 of 1 completed\n"
          ]
        }
      ]
    },
    {
      "cell_type": "code",
      "source": [
        "test_df.head()"
      ],
      "metadata": {
        "colab": {
          "base_uri": "https://localhost:8080/",
          "height": 238
        },
        "id": "ryWYz_tcWUbA",
        "outputId": "f9939838-7919-4d39-afa5-8ee234db8e7d"
      },
      "execution_count": 87,
      "outputs": [
        {
          "output_type": "execute_result",
          "data": {
            "text/plain": [
              "                Open      High       Low     Close  Adj Close  Volume\n",
              "Date                                                                 \n",
              "2022-01-03  1.137385  1.137592  1.128541  1.137346   1.137346       0\n",
              "2022-01-04  1.130199  1.132300  1.127345  1.130224   1.130224       0\n",
              "2022-01-05  1.128541  1.134559  1.127764  1.128363   1.128363       0\n",
              "2022-01-06  1.131222  1.133067  1.128554  1.131350   1.131350       0\n",
              "2022-01-07  1.129586  1.135976  1.129050  1.129688   1.129688       0"
            ],
            "text/html": [
              "\n",
              "  <div id=\"df-316b6b7d-038f-440f-ba86-66b1f9aaffa6\">\n",
              "    <div class=\"colab-df-container\">\n",
              "      <div>\n",
              "<style scoped>\n",
              "    .dataframe tbody tr th:only-of-type {\n",
              "        vertical-align: middle;\n",
              "    }\n",
              "\n",
              "    .dataframe tbody tr th {\n",
              "        vertical-align: top;\n",
              "    }\n",
              "\n",
              "    .dataframe thead th {\n",
              "        text-align: right;\n",
              "    }\n",
              "</style>\n",
              "<table border=\"1\" class=\"dataframe\">\n",
              "  <thead>\n",
              "    <tr style=\"text-align: right;\">\n",
              "      <th></th>\n",
              "      <th>Open</th>\n",
              "      <th>High</th>\n",
              "      <th>Low</th>\n",
              "      <th>Close</th>\n",
              "      <th>Adj Close</th>\n",
              "      <th>Volume</th>\n",
              "    </tr>\n",
              "    <tr>\n",
              "      <th>Date</th>\n",
              "      <th></th>\n",
              "      <th></th>\n",
              "      <th></th>\n",
              "      <th></th>\n",
              "      <th></th>\n",
              "      <th></th>\n",
              "    </tr>\n",
              "  </thead>\n",
              "  <tbody>\n",
              "    <tr>\n",
              "      <th>2022-01-03</th>\n",
              "      <td>1.137385</td>\n",
              "      <td>1.137592</td>\n",
              "      <td>1.128541</td>\n",
              "      <td>1.137346</td>\n",
              "      <td>1.137346</td>\n",
              "      <td>0</td>\n",
              "    </tr>\n",
              "    <tr>\n",
              "      <th>2022-01-04</th>\n",
              "      <td>1.130199</td>\n",
              "      <td>1.132300</td>\n",
              "      <td>1.127345</td>\n",
              "      <td>1.130224</td>\n",
              "      <td>1.130224</td>\n",
              "      <td>0</td>\n",
              "    </tr>\n",
              "    <tr>\n",
              "      <th>2022-01-05</th>\n",
              "      <td>1.128541</td>\n",
              "      <td>1.134559</td>\n",
              "      <td>1.127764</td>\n",
              "      <td>1.128363</td>\n",
              "      <td>1.128363</td>\n",
              "      <td>0</td>\n",
              "    </tr>\n",
              "    <tr>\n",
              "      <th>2022-01-06</th>\n",
              "      <td>1.131222</td>\n",
              "      <td>1.133067</td>\n",
              "      <td>1.128554</td>\n",
              "      <td>1.131350</td>\n",
              "      <td>1.131350</td>\n",
              "      <td>0</td>\n",
              "    </tr>\n",
              "    <tr>\n",
              "      <th>2022-01-07</th>\n",
              "      <td>1.129586</td>\n",
              "      <td>1.135976</td>\n",
              "      <td>1.129050</td>\n",
              "      <td>1.129688</td>\n",
              "      <td>1.129688</td>\n",
              "      <td>0</td>\n",
              "    </tr>\n",
              "  </tbody>\n",
              "</table>\n",
              "</div>\n",
              "      <button class=\"colab-df-convert\" onclick=\"convertToInteractive('df-316b6b7d-038f-440f-ba86-66b1f9aaffa6')\"\n",
              "              title=\"Convert this dataframe to an interactive table.\"\n",
              "              style=\"display:none;\">\n",
              "        \n",
              "  <svg xmlns=\"http://www.w3.org/2000/svg\" height=\"24px\"viewBox=\"0 0 24 24\"\n",
              "       width=\"24px\">\n",
              "    <path d=\"M0 0h24v24H0V0z\" fill=\"none\"/>\n",
              "    <path d=\"M18.56 5.44l.94 2.06.94-2.06 2.06-.94-2.06-.94-.94-2.06-.94 2.06-2.06.94zm-11 1L8.5 8.5l.94-2.06 2.06-.94-2.06-.94L8.5 2.5l-.94 2.06-2.06.94zm10 10l.94 2.06.94-2.06 2.06-.94-2.06-.94-.94-2.06-.94 2.06-2.06.94z\"/><path d=\"M17.41 7.96l-1.37-1.37c-.4-.4-.92-.59-1.43-.59-.52 0-1.04.2-1.43.59L10.3 9.45l-7.72 7.72c-.78.78-.78 2.05 0 2.83L4 21.41c.39.39.9.59 1.41.59.51 0 1.02-.2 1.41-.59l7.78-7.78 2.81-2.81c.8-.78.8-2.07 0-2.86zM5.41 20L4 18.59l7.72-7.72 1.47 1.35L5.41 20z\"/>\n",
              "  </svg>\n",
              "      </button>\n",
              "      \n",
              "  <style>\n",
              "    .colab-df-container {\n",
              "      display:flex;\n",
              "      flex-wrap:wrap;\n",
              "      gap: 12px;\n",
              "    }\n",
              "\n",
              "    .colab-df-convert {\n",
              "      background-color: #E8F0FE;\n",
              "      border: none;\n",
              "      border-radius: 50%;\n",
              "      cursor: pointer;\n",
              "      display: none;\n",
              "      fill: #1967D2;\n",
              "      height: 32px;\n",
              "      padding: 0 0 0 0;\n",
              "      width: 32px;\n",
              "    }\n",
              "\n",
              "    .colab-df-convert:hover {\n",
              "      background-color: #E2EBFA;\n",
              "      box-shadow: 0px 1px 2px rgba(60, 64, 67, 0.3), 0px 1px 3px 1px rgba(60, 64, 67, 0.15);\n",
              "      fill: #174EA6;\n",
              "    }\n",
              "\n",
              "    [theme=dark] .colab-df-convert {\n",
              "      background-color: #3B4455;\n",
              "      fill: #D2E3FC;\n",
              "    }\n",
              "\n",
              "    [theme=dark] .colab-df-convert:hover {\n",
              "      background-color: #434B5C;\n",
              "      box-shadow: 0px 1px 3px 1px rgba(0, 0, 0, 0.15);\n",
              "      filter: drop-shadow(0px 1px 2px rgba(0, 0, 0, 0.3));\n",
              "      fill: #FFFFFF;\n",
              "    }\n",
              "  </style>\n",
              "\n",
              "      <script>\n",
              "        const buttonEl =\n",
              "          document.querySelector('#df-316b6b7d-038f-440f-ba86-66b1f9aaffa6 button.colab-df-convert');\n",
              "        buttonEl.style.display =\n",
              "          google.colab.kernel.accessAllowed ? 'block' : 'none';\n",
              "\n",
              "        async function convertToInteractive(key) {\n",
              "          const element = document.querySelector('#df-316b6b7d-038f-440f-ba86-66b1f9aaffa6');\n",
              "          const dataTable =\n",
              "            await google.colab.kernel.invokeFunction('convertToInteractive',\n",
              "                                                     [key], {});\n",
              "          if (!dataTable) return;\n",
              "\n",
              "          const docLinkHtml = 'Like what you see? Visit the ' +\n",
              "            '<a target=\"_blank\" href=https://colab.research.google.com/notebooks/data_table.ipynb>data table notebook</a>'\n",
              "            + ' to learn more about interactive tables.';\n",
              "          element.innerHTML = '';\n",
              "          dataTable['output_type'] = 'display_data';\n",
              "          await google.colab.output.renderOutput(dataTable, element);\n",
              "          const docLink = document.createElement('div');\n",
              "          docLink.innerHTML = docLinkHtml;\n",
              "          element.appendChild(docLink);\n",
              "        }\n",
              "      </script>\n",
              "    </div>\n",
              "  </div>\n",
              "  "
            ]
          },
          "metadata": {},
          "execution_count": 87
        }
      ]
    },
    {
      "cell_type": "code",
      "source": [
        "#Add new features\n",
        "test_df[\"ho\"]=(((test_df.High-test_df.Open)/test_df.Open)*100)\n",
        "test_df[\"ol\"]=(((test_df.Open-test_df.Low)/test_df.Open)*100)\n",
        "test_df[\"oc\"]=(((test_df.Open-test_df.Close)/test_df.Open)*100)\n",
        "test_df[\"hl\"]=(((test_df.High-test_df.Low)/test_df.Low)*100)\n",
        "test_df['rsi']=ta.momentum.rsi(test_df[\"Close\"], window=14, fillna=False)\n",
        "test_df['roc']=ta.momentum.roc(test_df['Close'], window = 14, fillna = False)\n",
        "test_df['macd']=ta.trend.macd(test_df['Close'], window_slow=26, window_fast=12, fillna=False)\n",
        "test_df['ema']=ta.trend.ema_indicator(test_df['Close'], window = 14, fillna = False)\n",
        "test_df['sma']=ta.trend.sma_indicator(test_df['Close'], window = 14, fillna = False)\n",
        "test_df['ma']=ta.momentum.kama(test_df[\"Close\"], window =10, pow1=2, pow2=30, fillna=False)"
      ],
      "metadata": {
        "id": "GkzqKf3KpV4y"
      },
      "execution_count": 88,
      "outputs": []
    },
    {
      "cell_type": "code",
      "source": [
        "test_df.shape"
      ],
      "metadata": {
        "colab": {
          "base_uri": "https://localhost:8080/"
        },
        "id": "f-CGvE0FpcOl",
        "outputId": "875a3d32-d792-471f-cebe-be01caf89be9"
      },
      "execution_count": 89,
      "outputs": [
        {
          "output_type": "execute_result",
          "data": {
            "text/plain": [
              "(129, 16)"
            ]
          },
          "metadata": {},
          "execution_count": 89
        }
      ]
    },
    {
      "cell_type": "code",
      "source": [
        "test = test_df.copy()"
      ],
      "metadata": {
        "id": "Q-mY7MPQpfGv"
      },
      "execution_count": 90,
      "outputs": []
    },
    {
      "cell_type": "code",
      "source": [
        "test = test.dropna()\n"
      ],
      "metadata": {
        "id": "cStIiXUsWtjz"
      },
      "execution_count": 91,
      "outputs": []
    },
    {
      "cell_type": "code",
      "source": [
        "test.head()"
      ],
      "metadata": {
        "colab": {
          "base_uri": "https://localhost:8080/",
          "height": 406
        },
        "id": "cngfJCitWufd",
        "outputId": "ca13f5ae-6270-467e-bd60-68c8e8c21bab"
      },
      "execution_count": 92,
      "outputs": [
        {
          "output_type": "execute_result",
          "data": {
            "text/plain": [
              "                Open      High       Low     Close  Adj Close  Volume  \\\n",
              "Date                                                                    \n",
              "2022-02-07  1.145462  1.146000  1.141670  1.145515   1.145515       0   \n",
              "2022-02-08  1.144086  1.145082  1.139705  1.144296   1.144296       0   \n",
              "2022-02-09  1.142113  1.144700  1.140329  1.142126   1.142126       0   \n",
              "2022-02-10  1.142126  1.149425  1.138084  1.142152   1.142152       0   \n",
              "2022-02-11  1.141175  1.141901  1.137126  1.141553   1.141553       0   \n",
              "\n",
              "                  ho        ol        oc        hl        rsi       roc  \\\n",
              "Date                                                                      \n",
              "2022-02-07  0.046978  0.331081 -0.004579  0.379314  62.587029  0.390623   \n",
              "2022-02-08  0.087025  0.382941 -0.018307  0.471773  61.100646  1.000116   \n",
              "2022-02-09  0.226538  0.156220 -0.001148  0.383356  58.440609  0.686415   \n",
              "2022-02-10  0.639077  0.353946 -0.002275  0.996550  58.463936  0.952547   \n",
              "2022-02-11  0.063607  0.354784 -0.033114  0.419881  57.659743  0.652970   \n",
              "\n",
              "                macd       ema       sma        ma  \n",
              "Date                                                \n",
              "2022-02-07 -0.000391  1.132311  1.129960  1.129164  \n",
              "2022-02-08  0.000583  1.133909  1.130769  1.129821  \n",
              "2022-02-09  0.001167  1.135004  1.131325  1.130339  \n",
              "2022-02-10  0.001613  1.135957  1.132095  1.131466  \n",
              "2022-02-11  0.001897  1.136703  1.132624  1.134286  "
            ],
            "text/html": [
              "\n",
              "  <div id=\"df-b21052db-6549-43a5-8337-ed9cb4069241\">\n",
              "    <div class=\"colab-df-container\">\n",
              "      <div>\n",
              "<style scoped>\n",
              "    .dataframe tbody tr th:only-of-type {\n",
              "        vertical-align: middle;\n",
              "    }\n",
              "\n",
              "    .dataframe tbody tr th {\n",
              "        vertical-align: top;\n",
              "    }\n",
              "\n",
              "    .dataframe thead th {\n",
              "        text-align: right;\n",
              "    }\n",
              "</style>\n",
              "<table border=\"1\" class=\"dataframe\">\n",
              "  <thead>\n",
              "    <tr style=\"text-align: right;\">\n",
              "      <th></th>\n",
              "      <th>Open</th>\n",
              "      <th>High</th>\n",
              "      <th>Low</th>\n",
              "      <th>Close</th>\n",
              "      <th>Adj Close</th>\n",
              "      <th>Volume</th>\n",
              "      <th>ho</th>\n",
              "      <th>ol</th>\n",
              "      <th>oc</th>\n",
              "      <th>hl</th>\n",
              "      <th>rsi</th>\n",
              "      <th>roc</th>\n",
              "      <th>macd</th>\n",
              "      <th>ema</th>\n",
              "      <th>sma</th>\n",
              "      <th>ma</th>\n",
              "    </tr>\n",
              "    <tr>\n",
              "      <th>Date</th>\n",
              "      <th></th>\n",
              "      <th></th>\n",
              "      <th></th>\n",
              "      <th></th>\n",
              "      <th></th>\n",
              "      <th></th>\n",
              "      <th></th>\n",
              "      <th></th>\n",
              "      <th></th>\n",
              "      <th></th>\n",
              "      <th></th>\n",
              "      <th></th>\n",
              "      <th></th>\n",
              "      <th></th>\n",
              "      <th></th>\n",
              "      <th></th>\n",
              "    </tr>\n",
              "  </thead>\n",
              "  <tbody>\n",
              "    <tr>\n",
              "      <th>2022-02-07</th>\n",
              "      <td>1.145462</td>\n",
              "      <td>1.146000</td>\n",
              "      <td>1.141670</td>\n",
              "      <td>1.145515</td>\n",
              "      <td>1.145515</td>\n",
              "      <td>0</td>\n",
              "      <td>0.046978</td>\n",
              "      <td>0.331081</td>\n",
              "      <td>-0.004579</td>\n",
              "      <td>0.379314</td>\n",
              "      <td>62.587029</td>\n",
              "      <td>0.390623</td>\n",
              "      <td>-0.000391</td>\n",
              "      <td>1.132311</td>\n",
              "      <td>1.129960</td>\n",
              "      <td>1.129164</td>\n",
              "    </tr>\n",
              "    <tr>\n",
              "      <th>2022-02-08</th>\n",
              "      <td>1.144086</td>\n",
              "      <td>1.145082</td>\n",
              "      <td>1.139705</td>\n",
              "      <td>1.144296</td>\n",
              "      <td>1.144296</td>\n",
              "      <td>0</td>\n",
              "      <td>0.087025</td>\n",
              "      <td>0.382941</td>\n",
              "      <td>-0.018307</td>\n",
              "      <td>0.471773</td>\n",
              "      <td>61.100646</td>\n",
              "      <td>1.000116</td>\n",
              "      <td>0.000583</td>\n",
              "      <td>1.133909</td>\n",
              "      <td>1.130769</td>\n",
              "      <td>1.129821</td>\n",
              "    </tr>\n",
              "    <tr>\n",
              "      <th>2022-02-09</th>\n",
              "      <td>1.142113</td>\n",
              "      <td>1.144700</td>\n",
              "      <td>1.140329</td>\n",
              "      <td>1.142126</td>\n",
              "      <td>1.142126</td>\n",
              "      <td>0</td>\n",
              "      <td>0.226538</td>\n",
              "      <td>0.156220</td>\n",
              "      <td>-0.001148</td>\n",
              "      <td>0.383356</td>\n",
              "      <td>58.440609</td>\n",
              "      <td>0.686415</td>\n",
              "      <td>0.001167</td>\n",
              "      <td>1.135004</td>\n",
              "      <td>1.131325</td>\n",
              "      <td>1.130339</td>\n",
              "    </tr>\n",
              "    <tr>\n",
              "      <th>2022-02-10</th>\n",
              "      <td>1.142126</td>\n",
              "      <td>1.149425</td>\n",
              "      <td>1.138084</td>\n",
              "      <td>1.142152</td>\n",
              "      <td>1.142152</td>\n",
              "      <td>0</td>\n",
              "      <td>0.639077</td>\n",
              "      <td>0.353946</td>\n",
              "      <td>-0.002275</td>\n",
              "      <td>0.996550</td>\n",
              "      <td>58.463936</td>\n",
              "      <td>0.952547</td>\n",
              "      <td>0.001613</td>\n",
              "      <td>1.135957</td>\n",
              "      <td>1.132095</td>\n",
              "      <td>1.131466</td>\n",
              "    </tr>\n",
              "    <tr>\n",
              "      <th>2022-02-11</th>\n",
              "      <td>1.141175</td>\n",
              "      <td>1.141901</td>\n",
              "      <td>1.137126</td>\n",
              "      <td>1.141553</td>\n",
              "      <td>1.141553</td>\n",
              "      <td>0</td>\n",
              "      <td>0.063607</td>\n",
              "      <td>0.354784</td>\n",
              "      <td>-0.033114</td>\n",
              "      <td>0.419881</td>\n",
              "      <td>57.659743</td>\n",
              "      <td>0.652970</td>\n",
              "      <td>0.001897</td>\n",
              "      <td>1.136703</td>\n",
              "      <td>1.132624</td>\n",
              "      <td>1.134286</td>\n",
              "    </tr>\n",
              "  </tbody>\n",
              "</table>\n",
              "</div>\n",
              "      <button class=\"colab-df-convert\" onclick=\"convertToInteractive('df-b21052db-6549-43a5-8337-ed9cb4069241')\"\n",
              "              title=\"Convert this dataframe to an interactive table.\"\n",
              "              style=\"display:none;\">\n",
              "        \n",
              "  <svg xmlns=\"http://www.w3.org/2000/svg\" height=\"24px\"viewBox=\"0 0 24 24\"\n",
              "       width=\"24px\">\n",
              "    <path d=\"M0 0h24v24H0V0z\" fill=\"none\"/>\n",
              "    <path d=\"M18.56 5.44l.94 2.06.94-2.06 2.06-.94-2.06-.94-.94-2.06-.94 2.06-2.06.94zm-11 1L8.5 8.5l.94-2.06 2.06-.94-2.06-.94L8.5 2.5l-.94 2.06-2.06.94zm10 10l.94 2.06.94-2.06 2.06-.94-2.06-.94-.94-2.06-.94 2.06-2.06.94z\"/><path d=\"M17.41 7.96l-1.37-1.37c-.4-.4-.92-.59-1.43-.59-.52 0-1.04.2-1.43.59L10.3 9.45l-7.72 7.72c-.78.78-.78 2.05 0 2.83L4 21.41c.39.39.9.59 1.41.59.51 0 1.02-.2 1.41-.59l7.78-7.78 2.81-2.81c.8-.78.8-2.07 0-2.86zM5.41 20L4 18.59l7.72-7.72 1.47 1.35L5.41 20z\"/>\n",
              "  </svg>\n",
              "      </button>\n",
              "      \n",
              "  <style>\n",
              "    .colab-df-container {\n",
              "      display:flex;\n",
              "      flex-wrap:wrap;\n",
              "      gap: 12px;\n",
              "    }\n",
              "\n",
              "    .colab-df-convert {\n",
              "      background-color: #E8F0FE;\n",
              "      border: none;\n",
              "      border-radius: 50%;\n",
              "      cursor: pointer;\n",
              "      display: none;\n",
              "      fill: #1967D2;\n",
              "      height: 32px;\n",
              "      padding: 0 0 0 0;\n",
              "      width: 32px;\n",
              "    }\n",
              "\n",
              "    .colab-df-convert:hover {\n",
              "      background-color: #E2EBFA;\n",
              "      box-shadow: 0px 1px 2px rgba(60, 64, 67, 0.3), 0px 1px 3px 1px rgba(60, 64, 67, 0.15);\n",
              "      fill: #174EA6;\n",
              "    }\n",
              "\n",
              "    [theme=dark] .colab-df-convert {\n",
              "      background-color: #3B4455;\n",
              "      fill: #D2E3FC;\n",
              "    }\n",
              "\n",
              "    [theme=dark] .colab-df-convert:hover {\n",
              "      background-color: #434B5C;\n",
              "      box-shadow: 0px 1px 3px 1px rgba(0, 0, 0, 0.15);\n",
              "      filter: drop-shadow(0px 1px 2px rgba(0, 0, 0, 0.3));\n",
              "      fill: #FFFFFF;\n",
              "    }\n",
              "  </style>\n",
              "\n",
              "      <script>\n",
              "        const buttonEl =\n",
              "          document.querySelector('#df-b21052db-6549-43a5-8337-ed9cb4069241 button.colab-df-convert');\n",
              "        buttonEl.style.display =\n",
              "          google.colab.kernel.accessAllowed ? 'block' : 'none';\n",
              "\n",
              "        async function convertToInteractive(key) {\n",
              "          const element = document.querySelector('#df-b21052db-6549-43a5-8337-ed9cb4069241');\n",
              "          const dataTable =\n",
              "            await google.colab.kernel.invokeFunction('convertToInteractive',\n",
              "                                                     [key], {});\n",
              "          if (!dataTable) return;\n",
              "\n",
              "          const docLinkHtml = 'Like what you see? Visit the ' +\n",
              "            '<a target=\"_blank\" href=https://colab.research.google.com/notebooks/data_table.ipynb>data table notebook</a>'\n",
              "            + ' to learn more about interactive tables.';\n",
              "          element.innerHTML = '';\n",
              "          dataTable['output_type'] = 'display_data';\n",
              "          await google.colab.output.renderOutput(dataTable, element);\n",
              "          const docLink = document.createElement('div');\n",
              "          docLink.innerHTML = docLinkHtml;\n",
              "          element.appendChild(docLink);\n",
              "        }\n",
              "      </script>\n",
              "    </div>\n",
              "  </div>\n",
              "  "
            ]
          },
          "metadata": {},
          "execution_count": 92
        }
      ]
    },
    {
      "cell_type": "code",
      "source": [
        "test.shape"
      ],
      "metadata": {
        "colab": {
          "base_uri": "https://localhost:8080/"
        },
        "id": "TZUgSyo0ptXB",
        "outputId": "f2588f1a-2512-4b58-df8e-0fe792cb1e34"
      },
      "execution_count": 93,
      "outputs": [
        {
          "output_type": "execute_result",
          "data": {
            "text/plain": [
              "(104, 16)"
            ]
          },
          "metadata": {},
          "execution_count": 93
        }
      ]
    },
    {
      "cell_type": "code",
      "source": [
        "total= pd.concat([df,test],axis=0) # Concating train and test and then will take last 60 train point\n"
      ],
      "metadata": {
        "id": "_ypxCCR3W2Ns"
      },
      "execution_count": 94,
      "outputs": []
    },
    {
      "cell_type": "code",
      "source": [
        "total.shape"
      ],
      "metadata": {
        "colab": {
          "base_uri": "https://localhost:8080/"
        },
        "id": "GU6HJvHbpv9x",
        "outputId": "eda93125-dc42-439c-80da-7fef84ed86e5"
      },
      "execution_count": 95,
      "outputs": [
        {
          "output_type": "execute_result",
          "data": {
            "text/plain": [
              "(602, 16)"
            ]
          },
          "metadata": {},
          "execution_count": 95
        }
      ]
    },
    {
      "cell_type": "code",
      "source": [
        "test_input = total[len(total)-len(test)-60:].values\n",
        "#test_input= test_input.reshape(-1,1) # reshaping it to get it transformed\n",
        "test_input= ss.transform(test_input)"
      ],
      "metadata": {
        "id": "SdDoFzUxfg4U"
      },
      "execution_count": 96,
      "outputs": []
    },
    {
      "cell_type": "code",
      "source": [
        "xtest= []\n",
        "for i in range(60,80):\n",
        "    xtest.append(test_input[i-60:i,:]) #creating input for lstm prediction"
      ],
      "metadata": {
        "id": "bMGq7URIfg6b"
      },
      "execution_count": 97,
      "outputs": []
    },
    {
      "cell_type": "code",
      "source": [
        "xtest= np.array(xtest)"
      ],
      "metadata": {
        "id": "QQIRk6llgSXR"
      },
      "execution_count": 98,
      "outputs": []
    },
    {
      "cell_type": "code",
      "source": [
        "xtest.shape"
      ],
      "metadata": {
        "colab": {
          "base_uri": "https://localhost:8080/"
        },
        "id": "oAKyNXAzgeYb",
        "outputId": "237ea8f2-133e-4304-da53-ae5de2a23f57"
      },
      "execution_count": 99,
      "outputs": [
        {
          "output_type": "execute_result",
          "data": {
            "text/plain": [
              "(20, 60, 16)"
            ]
          },
          "metadata": {},
          "execution_count": 99
        }
      ]
    },
    {
      "cell_type": "code",
      "source": [
        "xtest= np.reshape(xtest,(xtest.shape[0],xtest.shape[2],xtest.shape[1]))"
      ],
      "metadata": {
        "id": "5zkxI79RSIQl"
      },
      "execution_count": 100,
      "outputs": []
    },
    {
      "cell_type": "code",
      "source": [
        "#xtest= np.reshape(xtest,(xtest.shape[0],xtest.shape[1],1))\n",
        "predicted_value= regression.predict(xtest)"
      ],
      "metadata": {
        "id": "Y6FEHk3RgUeq"
      },
      "execution_count": 101,
      "outputs": []
    },
    {
      "cell_type": "code",
      "source": [
        "#predicted_value_inverted = ss.inverse_transform(predicted_value)"
      ],
      "metadata": {
        "id": "YKw5j3YpgkFu"
      },
      "execution_count": 102,
      "outputs": []
    },
    {
      "cell_type": "code",
      "source": [
        "test_actual = np.array(test[0:20]['Adj Close'])"
      ],
      "metadata": {
        "id": "NoKgrfYmg7G3"
      },
      "execution_count": 103,
      "outputs": []
    },
    {
      "cell_type": "code",
      "source": [
        "test_actual.shape"
      ],
      "metadata": {
        "colab": {
          "base_uri": "https://localhost:8080/"
        },
        "id": "tOzhmKQ3hIR8",
        "outputId": "23959c1b-5236-45fc-d3a3-4281b2078dd2"
      },
      "execution_count": 104,
      "outputs": [
        {
          "output_type": "execute_result",
          "data": {
            "text/plain": [
              "(20,)"
            ]
          },
          "metadata": {},
          "execution_count": 104
        }
      ]
    },
    {
      "cell_type": "code",
      "source": [
        "predicted_value.shape"
      ],
      "metadata": {
        "colab": {
          "base_uri": "https://localhost:8080/"
        },
        "id": "TKPqmtjYhLod",
        "outputId": "5a3666db-9fbc-45dd-d2b1-4949518b8874"
      },
      "execution_count": 105,
      "outputs": [
        {
          "output_type": "execute_result",
          "data": {
            "text/plain": [
              "(20, 1)"
            ]
          },
          "metadata": {},
          "execution_count": 105
        }
      ]
    },
    {
      "cell_type": "code",
      "source": [
        "r2_score(test_actual, predicted_value)"
      ],
      "metadata": {
        "colab": {
          "base_uri": "https://localhost:8080/"
        },
        "id": "zduefkWBowre",
        "outputId": "66915552-4e61-4906-da69-285a17557d38"
      },
      "execution_count": 106,
      "outputs": [
        {
          "output_type": "execute_result",
          "data": {
            "text/plain": [
              "-370.70860685486457"
            ]
          },
          "metadata": {},
          "execution_count": 106
        }
      ]
    },
    {
      "cell_type": "markdown",
      "source": [
        "As we see R-Squared score increased from -22.24741605656513 to -0.31 although it is not still a reliable model, so we will try to model as a classification problem."
      ],
      "metadata": {
        "id": "n0pIM5vXsx-P"
      }
    },
    {
      "cell_type": "markdown",
      "source": [
        "### Plot the Data"
      ],
      "metadata": {
        "id": "I8-pdGJWqVFi"
      }
    },
    {
      "cell_type": "code",
      "source": [
        "plt.figure(figsize=(20,10))\n",
        "plt.plot(test_actual,'red',label='Real Prices')\n",
        "plt.plot(predicted_value,'blue',label='Predicted Prices')\n",
        "plt.xlabel('Time')\n",
        "plt.ylabel('Prices')\n",
        "plt.title('Real vs Predicted Prices')\n",
        "plt.legend(loc='best', fontsize=20)"
      ],
      "metadata": {
        "colab": {
          "base_uri": "https://localhost:8080/",
          "height": 638
        },
        "id": "TIWOvNxIgq6t",
        "outputId": "4fce65e3-775e-4143-f30e-254cda96a938"
      },
      "execution_count": 107,
      "outputs": [
        {
          "output_type": "execute_result",
          "data": {
            "text/plain": [
              "<matplotlib.legend.Legend at 0x7f7def56e8d0>"
            ]
          },
          "metadata": {},
          "execution_count": 107
        },
        {
          "output_type": "display_data",
          "data": {
            "text/plain": [
              "<Figure size 1440x720 with 1 Axes>"
            ],
            "image/png": "[encoded data removed]"
          },
          "metadata": {
            "needs_background": "light"
          }
        }
      ]
    },
    {
      "cell_type": "code",
      "source": [
        ""
      ],
      "metadata": {
        "id": "7cIH9LEzFbl0"
      },
      "execution_count": 107,
      "outputs": []
    }
  ]
}