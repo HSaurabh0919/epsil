{
  "nbformat": 4,
  "nbformat_minor": 0,
  "metadata": {
    "colab": {
      "name": "forex_trading_GRU_classification.ipynb",
      "provenance": [],
      "collapsed_sections": [],
      "authorship_tag": "ABX9TyObCT9mgm7Me06jsAyVhDeK"
    },
    "kernelspec": {
      "name": "python3",
      "display_name": "Python 3"
    },
    "language_info": {
      "name": "python"
    }
  },
  "cells": [
    {
      "cell_type": "code",
      "execution_count": null,
      "metadata": {
        "id": "7Kx0uDdqIt35"
      },
      "outputs": [],
      "source": [
        "!pip install yfinance"
      ]
    },
    {
      "cell_type": "code",
      "source": [
        "!pip install ta"
      ],
      "metadata": {
        "id": "wl-Yv2TIkJmr"
      },
      "execution_count": null,
      "outputs": []
    },
    {
      "cell_type": "code",
      "source": [
        "import pandas as pd \n",
        "import numpy as np\n",
        "import matplotlib.pyplot as plt\n",
        "import yfinance as yf\n",
        "import warnings\n",
        "import ta\n",
        "warnings.filterwarnings('ignore')"
      ],
      "metadata": {
        "id": "6F8N5vi1I7g2"
      },
      "execution_count": 3,
      "outputs": []
    },
    {
      "cell_type": "code",
      "source": [
        "from sklearn.metrics import r2_score"
      ],
      "metadata": {
        "id": "WvZsUQW9oyUU"
      },
      "execution_count": 4,
      "outputs": []
    },
    {
      "cell_type": "code",
      "source": [
        "from keras.models import Sequential\n",
        "from keras.layers import GRU\n",
        "from keras.layers import Dense\n",
        "from keras.layers import Dropout\n",
        "import keras"
      ],
      "metadata": {
        "id": "BTsckaMbmECJ"
      },
      "execution_count": 5,
      "outputs": []
    },
    {
      "cell_type": "code",
      "source": [
        "from sklearn.metrics import accuracy_score\n",
        "from sklearn.metrics import confusion_matrix"
      ],
      "metadata": {
        "id": "VNe4taXcqicj"
      },
      "execution_count": 6,
      "outputs": []
    },
    {
      "cell_type": "markdown",
      "source": [
        "### Training Data Processing"
      ],
      "metadata": {
        "id": "mqi2pxWdmnE0"
      }
    },
    {
      "cell_type": "code",
      "source": [
        "df = yf.download('EURUSD=X', start='2020-01-01', end='2021-12-31')"
      ],
      "metadata": {
        "colab": {
          "base_uri": "https://localhost:8080/"
        },
        "id": "RIZZhuxWI7jm",
        "outputId": "5baad441-a2f6-40ce-ed8c-b76dfc82fdac"
      },
      "execution_count": 91,
      "outputs": [
        {
          "output_type": "stream",
          "name": "stdout",
          "text": [
            "\r[*********************100%***********************]  1 of 1 completed\n"
          ]
        }
      ]
    },
    {
      "cell_type": "code",
      "source": [
        "df.head(2)"
      ],
      "metadata": {
        "colab": {
          "base_uri": "https://localhost:8080/",
          "height": 143
        },
        "id": "DJCBIlopI7mI",
        "outputId": "c085132c-82d1-4d2c-9a5d-d398232f5d18"
      },
      "execution_count": 92,
      "outputs": [
        {
          "output_type": "execute_result",
          "data": {
            "text/plain": [
              "                Open      High       Low     Close  Adj Close  Volume\n",
              "Date                                                                 \n",
              "2020-01-01  1.122083  1.122838  1.115947  1.122083   1.122083       0\n",
              "2020-01-02  1.121894  1.122712  1.116682  1.122083   1.122083       0"
            ],
            "text/html": [
              "\n",
              "  <div id=\"df-38dba74e-6225-416c-8ab4-b97477bda3ea\">\n",
              "    <div class=\"colab-df-container\">\n",
              "      <div>\n",
              "<style scoped>\n",
              "    .dataframe tbody tr th:only-of-type {\n",
              "        vertical-align: middle;\n",
              "    }\n",
              "\n",
              "    .dataframe tbody tr th {\n",
              "        vertical-align: top;\n",
              "    }\n",
              "\n",
              "    .dataframe thead th {\n",
              "        text-align: right;\n",
              "    }\n",
              "</style>\n",
              "<table border=\"1\" class=\"dataframe\">\n",
              "  <thead>\n",
              "    <tr style=\"text-align: right;\">\n",
              "      <th></th>\n",
              "      <th>Open</th>\n",
              "      <th>High</th>\n",
              "      <th>Low</th>\n",
              "      <th>Close</th>\n",
              "      <th>Adj Close</th>\n",
              "      <th>Volume</th>\n",
              "    </tr>\n",
              "    <tr>\n",
              "      <th>Date</th>\n",
              "      <th></th>\n",
              "      <th></th>\n",
              "      <th></th>\n",
              "      <th></th>\n",
              "      <th></th>\n",
              "      <th></th>\n",
              "    </tr>\n",
              "  </thead>\n",
              "  <tbody>\n",
              "    <tr>\n",
              "      <th>2020-01-01</th>\n",
              "      <td>1.122083</td>\n",
              "      <td>1.122838</td>\n",
              "      <td>1.115947</td>\n",
              "      <td>1.122083</td>\n",
              "      <td>1.122083</td>\n",
              "      <td>0</td>\n",
              "    </tr>\n",
              "    <tr>\n",
              "      <th>2020-01-02</th>\n",
              "      <td>1.121894</td>\n",
              "      <td>1.122712</td>\n",
              "      <td>1.116682</td>\n",
              "      <td>1.122083</td>\n",
              "      <td>1.122083</td>\n",
              "      <td>0</td>\n",
              "    </tr>\n",
              "  </tbody>\n",
              "</table>\n",
              "</div>\n",
              "      <button class=\"colab-df-convert\" onclick=\"convertToInteractive('df-38dba74e-6225-416c-8ab4-b97477bda3ea')\"\n",
              "              title=\"Convert this dataframe to an interactive table.\"\n",
              "              style=\"display:none;\">\n",
              "        \n",
              "  <svg xmlns=\"http://www.w3.org/2000/svg\" height=\"24px\"viewBox=\"0 0 24 24\"\n",
              "       width=\"24px\">\n",
              "    <path d=\"M0 0h24v24H0V0z\" fill=\"none\"/>\n",
              "    <path d=\"M18.56 5.44l.94 2.06.94-2.06 2.06-.94-2.06-.94-.94-2.06-.94 2.06-2.06.94zm-11 1L8.5 8.5l.94-2.06 2.06-.94-2.06-.94L8.5 2.5l-.94 2.06-2.06.94zm10 10l.94 2.06.94-2.06 2.06-.94-2.06-.94-.94-2.06-.94 2.06-2.06.94z\"/><path d=\"M17.41 7.96l-1.37-1.37c-.4-.4-.92-.59-1.43-.59-.52 0-1.04.2-1.43.59L10.3 9.45l-7.72 7.72c-.78.78-.78 2.05 0 2.83L4 21.41c.39.39.9.59 1.41.59.51 0 1.02-.2 1.41-.59l7.78-7.78 2.81-2.81c.8-.78.8-2.07 0-2.86zM5.41 20L4 18.59l7.72-7.72 1.47 1.35L5.41 20z\"/>\n",
              "  </svg>\n",
              "      </button>\n",
              "      \n",
              "  <style>\n",
              "    .colab-df-container {\n",
              "      display:flex;\n",
              "      flex-wrap:wrap;\n",
              "      gap: 12px;\n",
              "    }\n",
              "\n",
              "    .colab-df-convert {\n",
              "      background-color: #E8F0FE;\n",
              "      border: none;\n",
              "      border-radius: 50%;\n",
              "      cursor: pointer;\n",
              "      display: none;\n",
              "      fill: #1967D2;\n",
              "      height: 32px;\n",
              "      padding: 0 0 0 0;\n",
              "      width: 32px;\n",
              "    }\n",
              "\n",
              "    .colab-df-convert:hover {\n",
              "      background-color: #E2EBFA;\n",
              "      box-shadow: 0px 1px 2px rgba(60, 64, 67, 0.3), 0px 1px 3px 1px rgba(60, 64, 67, 0.15);\n",
              "      fill: #174EA6;\n",
              "    }\n",
              "\n",
              "    [theme=dark] .colab-df-convert {\n",
              "      background-color: #3B4455;\n",
              "      fill: #D2E3FC;\n",
              "    }\n",
              "\n",
              "    [theme=dark] .colab-df-convert:hover {\n",
              "      background-color: #434B5C;\n",
              "      box-shadow: 0px 1px 3px 1px rgba(0, 0, 0, 0.15);\n",
              "      filter: drop-shadow(0px 1px 2px rgba(0, 0, 0, 0.3));\n",
              "      fill: #FFFFFF;\n",
              "    }\n",
              "  </style>\n",
              "\n",
              "      <script>\n",
              "        const buttonEl =\n",
              "          document.querySelector('#df-38dba74e-6225-416c-8ab4-b97477bda3ea button.colab-df-convert');\n",
              "        buttonEl.style.display =\n",
              "          google.colab.kernel.accessAllowed ? 'block' : 'none';\n",
              "\n",
              "        async function convertToInteractive(key) {\n",
              "          const element = document.querySelector('#df-38dba74e-6225-416c-8ab4-b97477bda3ea');\n",
              "          const dataTable =\n",
              "            await google.colab.kernel.invokeFunction('convertToInteractive',\n",
              "                                                     [key], {});\n",
              "          if (!dataTable) return;\n",
              "\n",
              "          const docLinkHtml = 'Like what you see? Visit the ' +\n",
              "            '<a target=\"_blank\" href=https://colab.research.google.com/notebooks/data_table.ipynb>data table notebook</a>'\n",
              "            + ' to learn more about interactive tables.';\n",
              "          element.innerHTML = '';\n",
              "          dataTable['output_type'] = 'display_data';\n",
              "          await google.colab.output.renderOutput(dataTable, element);\n",
              "          const docLink = document.createElement('div');\n",
              "          docLink.innerHTML = docLinkHtml;\n",
              "          element.appendChild(docLink);\n",
              "        }\n",
              "      </script>\n",
              "    </div>\n",
              "  </div>\n",
              "  "
            ]
          },
          "metadata": {},
          "execution_count": 92
        }
      ]
    },
    {
      "cell_type": "code",
      "source": [
        "sequence_length = 6"
      ],
      "metadata": {
        "id": "KjVIc3cmfXhd"
      },
      "execution_count": 93,
      "outputs": []
    },
    {
      "cell_type": "code",
      "source": [
        "#Add new features\n",
        "# df[\"ho\"]=(((df.High-df.Open)/df.Open)*100)\n",
        "# df[\"ol\"]=(((df.Open-df.Low)/df.Open)*100)\n",
        "# df[\"oc\"]=(((df.Open-df.Close)/df.Open)*100)\n",
        "# df[\"hl\"]=(((df.High-df.Low)/df.Low)*100)\n",
        "# df['rsi']=ta.momentum.rsi(df[\"Close\"], window=14, fillna=False)\n",
        "# df['roc']=ta.momentum.roc(df['Close'], window = 14, fillna = False)\n",
        "# df['macd']=ta.trend.macd(df['Close'], window_slow=26, window_fast=12, fillna=False)\n",
        "# df['ema']=ta.trend.ema_indicator(df['Close'], window = 14, fillna = False)\n",
        "# df['sma']=ta.trend.sma_indicator(df['Close'], window = 14, fillna = False)\n",
        "# df['ma']=ta.momentum.kama(df[\"Close\"], window =10, pow1=2, pow2=30, fillna=False)"
      ],
      "metadata": {
        "id": "xe5FpaOxIQhD"
      },
      "execution_count": 94,
      "outputs": []
    },
    {
      "cell_type": "code",
      "source": [
        "df['next_day_return'] = np.log(df.Close) - np.log(df.Close.shift(1))"
      ],
      "metadata": {
        "id": "2G3ARNlrZtxk"
      },
      "execution_count": 95,
      "outputs": []
    },
    {
      "cell_type": "code",
      "source": [
        "df = df.dropna()"
      ],
      "metadata": {
        "id": "1eIiVO7jIQjj"
      },
      "execution_count": 96,
      "outputs": []
    },
    {
      "cell_type": "code",
      "source": [
        "df.shape"
      ],
      "metadata": {
        "colab": {
          "base_uri": "https://localhost:8080/"
        },
        "id": "xAOlQWPdlMQ-",
        "outputId": "439cf1da-5aff-4610-cd17-6e7c8811ca56"
      },
      "execution_count": 97,
      "outputs": [
        {
          "output_type": "execute_result",
          "data": {
            "text/plain": [
              "(522, 7)"
            ]
          },
          "metadata": {},
          "execution_count": 97
        }
      ]
    },
    {
      "cell_type": "code",
      "source": [
        "df['next_day_return'] = [1 if item>0 else 0 for item in df['next_day_return']]"
      ],
      "metadata": {
        "id": "hMRL1GdyZ9DJ"
      },
      "execution_count": 98,
      "outputs": []
    },
    {
      "cell_type": "code",
      "source": [
        "ytrain=[]\n",
        "train2 = np.array(df)\n",
        "for i in range(sequence_length,len(train2)):\n",
        "  if(int(train2[i,-1]))>0:\n",
        "     ytrain.append([0,1])\n",
        "  else:\n",
        "    ytrain.append([1,0])\n",
        "     \n",
        "  #ytrain.append(int(train2[i,16])) #Adj Close is at index 4"
      ],
      "metadata": {
        "id": "BwyB6n9udQnA"
      },
      "execution_count": 99,
      "outputs": []
    },
    {
      "cell_type": "code",
      "source": [
        "df = df.drop(['next_day_return'],axis=1)"
      ],
      "metadata": {
        "id": "3-Kde3-5atVN"
      },
      "execution_count": 100,
      "outputs": []
    },
    {
      "cell_type": "code",
      "source": [
        "#Scaling the values between 0 to 1\n",
        "from sklearn.preprocessing import MinMaxScaler\n",
        "ss= MinMaxScaler(feature_range=(0,1))\n",
        "train = ss.fit_transform(np.array(df))"
      ],
      "metadata": {
        "id": "rh_3iV7rLQwM"
      },
      "execution_count": 101,
      "outputs": []
    },
    {
      "cell_type": "code",
      "source": [
        "# Feature selection\n",
        "xtrain=[]\n",
        "\n",
        "for i in range(sequence_length,len(train)):\n",
        "    #xtrain.append([train[i-60:i,0],train[i-60:i,1]])\n",
        "    xtrain.append(train[i-sequence_length:i,:])\n",
        "    #ytrain.append(train[i,0])\n",
        "\n",
        "xtrain, ytrain = np.array(xtrain), np.array(ytrain)"
      ],
      "metadata": {
        "id": "-o6jzNRXMEKJ"
      },
      "execution_count": 102,
      "outputs": []
    },
    {
      "cell_type": "code",
      "source": [
        "xtrain.shape"
      ],
      "metadata": {
        "colab": {
          "base_uri": "https://localhost:8080/"
        },
        "id": "lEsUOUtoRI7a",
        "outputId": "4c78d8ca-f479-449c-b967-58e4946251c6"
      },
      "execution_count": 103,
      "outputs": [
        {
          "output_type": "execute_result",
          "data": {
            "text/plain": [
              "(516, 6, 6)"
            ]
          },
          "metadata": {},
          "execution_count": 103
        }
      ]
    },
    {
      "cell_type": "code",
      "source": [
        "#Reshaping the train data to make it as input for LTSM layer input_shape(batchzise,timesteps,input_dim)\n",
        "xtrain= np.reshape(xtrain,(xtrain.shape[0],xtrain.shape[2],xtrain.shape[1]))"
      ],
      "metadata": {
        "id": "BgrO-ZYSMEMg"
      },
      "execution_count": 104,
      "outputs": []
    },
    {
      "cell_type": "code",
      "source": [
        "xtrain.shape #Before : (463, 60, 1)"
      ],
      "metadata": {
        "colab": {
          "base_uri": "https://localhost:8080/"
        },
        "id": "pH-RTgXbMEO4",
        "outputId": "ea0a6c8f-f827-4d8d-d7e8-0b366eb9fb76"
      },
      "execution_count": 105,
      "outputs": [
        {
          "output_type": "execute_result",
          "data": {
            "text/plain": [
              "(516, 6, 6)"
            ]
          },
          "metadata": {},
          "execution_count": 105
        }
      ]
    },
    {
      "cell_type": "markdown",
      "source": [
        "### Testing Data here"
      ],
      "metadata": {
        "id": "CNKEyAj4cStM"
      }
    },
    {
      "cell_type": "code",
      "source": [
        "test_df = yf.download('EURUSD=X', start='2022-01-01', end='2022-06-30')"
      ],
      "metadata": {
        "colab": {
          "base_uri": "https://localhost:8080/"
        },
        "id": "XbwrsRmjPyTA",
        "outputId": "12492eb6-063c-4e89-e3f8-89f42403916f"
      },
      "execution_count": 106,
      "outputs": [
        {
          "output_type": "stream",
          "name": "stdout",
          "text": [
            "\r[*********************100%***********************]  1 of 1 completed\n"
          ]
        }
      ]
    },
    {
      "cell_type": "code",
      "source": [
        "test_df.head()"
      ],
      "metadata": {
        "colab": {
          "base_uri": "https://localhost:8080/",
          "height": 238
        },
        "id": "ryWYz_tcWUbA",
        "outputId": "7642780b-db13-46b8-c6ec-742d7331ed26"
      },
      "execution_count": 107,
      "outputs": [
        {
          "output_type": "execute_result",
          "data": {
            "text/plain": [
              "                Open      High       Low     Close  Adj Close  Volume\n",
              "Date                                                                 \n",
              "2022-01-03  1.137385  1.137592  1.128541  1.137346   1.137346       0\n",
              "2022-01-04  1.130199  1.132300  1.127345  1.130224   1.130224       0\n",
              "2022-01-05  1.128541  1.134559  1.127764  1.128363   1.128363       0\n",
              "2022-01-06  1.131222  1.133067  1.128554  1.131350   1.131350       0\n",
              "2022-01-07  1.129586  1.135976  1.129050  1.129688   1.129688       0"
            ],
            "text/html": [
              "\n",
              "  <div id=\"df-204616be-6856-4720-b777-81971d3f60e9\">\n",
              "    <div class=\"colab-df-container\">\n",
              "      <div>\n",
              "<style scoped>\n",
              "    .dataframe tbody tr th:only-of-type {\n",
              "        vertical-align: middle;\n",
              "    }\n",
              "\n",
              "    .dataframe tbody tr th {\n",
              "        vertical-align: top;\n",
              "    }\n",
              "\n",
              "    .dataframe thead th {\n",
              "        text-align: right;\n",
              "    }\n",
              "</style>\n",
              "<table border=\"1\" class=\"dataframe\">\n",
              "  <thead>\n",
              "    <tr style=\"text-align: right;\">\n",
              "      <th></th>\n",
              "      <th>Open</th>\n",
              "      <th>High</th>\n",
              "      <th>Low</th>\n",
              "      <th>Close</th>\n",
              "      <th>Adj Close</th>\n",
              "      <th>Volume</th>\n",
              "    </tr>\n",
              "    <tr>\n",
              "      <th>Date</th>\n",
              "      <th></th>\n",
              "      <th></th>\n",
              "      <th></th>\n",
              "      <th></th>\n",
              "      <th></th>\n",
              "      <th></th>\n",
              "    </tr>\n",
              "  </thead>\n",
              "  <tbody>\n",
              "    <tr>\n",
              "      <th>2022-01-03</th>\n",
              "      <td>1.137385</td>\n",
              "      <td>1.137592</td>\n",
              "      <td>1.128541</td>\n",
              "      <td>1.137346</td>\n",
              "      <td>1.137346</td>\n",
              "      <td>0</td>\n",
              "    </tr>\n",
              "    <tr>\n",
              "      <th>2022-01-04</th>\n",
              "      <td>1.130199</td>\n",
              "      <td>1.132300</td>\n",
              "      <td>1.127345</td>\n",
              "      <td>1.130224</td>\n",
              "      <td>1.130224</td>\n",
              "      <td>0</td>\n",
              "    </tr>\n",
              "    <tr>\n",
              "      <th>2022-01-05</th>\n",
              "      <td>1.128541</td>\n",
              "      <td>1.134559</td>\n",
              "      <td>1.127764</td>\n",
              "      <td>1.128363</td>\n",
              "      <td>1.128363</td>\n",
              "      <td>0</td>\n",
              "    </tr>\n",
              "    <tr>\n",
              "      <th>2022-01-06</th>\n",
              "      <td>1.131222</td>\n",
              "      <td>1.133067</td>\n",
              "      <td>1.128554</td>\n",
              "      <td>1.131350</td>\n",
              "      <td>1.131350</td>\n",
              "      <td>0</td>\n",
              "    </tr>\n",
              "    <tr>\n",
              "      <th>2022-01-07</th>\n",
              "      <td>1.129586</td>\n",
              "      <td>1.135976</td>\n",
              "      <td>1.129050</td>\n",
              "      <td>1.129688</td>\n",
              "      <td>1.129688</td>\n",
              "      <td>0</td>\n",
              "    </tr>\n",
              "  </tbody>\n",
              "</table>\n",
              "</div>\n",
              "      <button class=\"colab-df-convert\" onclick=\"convertToInteractive('df-204616be-6856-4720-b777-81971d3f60e9')\"\n",
              "              title=\"Convert this dataframe to an interactive table.\"\n",
              "              style=\"display:none;\">\n",
              "        \n",
              "  <svg xmlns=\"http://www.w3.org/2000/svg\" height=\"24px\"viewBox=\"0 0 24 24\"\n",
              "       width=\"24px\">\n",
              "    <path d=\"M0 0h24v24H0V0z\" fill=\"none\"/>\n",
              "    <path d=\"M18.56 5.44l.94 2.06.94-2.06 2.06-.94-2.06-.94-.94-2.06-.94 2.06-2.06.94zm-11 1L8.5 8.5l.94-2.06 2.06-.94-2.06-.94L8.5 2.5l-.94 2.06-2.06.94zm10 10l.94 2.06.94-2.06 2.06-.94-2.06-.94-.94-2.06-.94 2.06-2.06.94z\"/><path d=\"M17.41 7.96l-1.37-1.37c-.4-.4-.92-.59-1.43-.59-.52 0-1.04.2-1.43.59L10.3 9.45l-7.72 7.72c-.78.78-.78 2.05 0 2.83L4 21.41c.39.39.9.59 1.41.59.51 0 1.02-.2 1.41-.59l7.78-7.78 2.81-2.81c.8-.78.8-2.07 0-2.86zM5.41 20L4 18.59l7.72-7.72 1.47 1.35L5.41 20z\"/>\n",
              "  </svg>\n",
              "      </button>\n",
              "      \n",
              "  <style>\n",
              "    .colab-df-container {\n",
              "      display:flex;\n",
              "      flex-wrap:wrap;\n",
              "      gap: 12px;\n",
              "    }\n",
              "\n",
              "    .colab-df-convert {\n",
              "      background-color: #E8F0FE;\n",
              "      border: none;\n",
              "      border-radius: 50%;\n",
              "      cursor: pointer;\n",
              "      display: none;\n",
              "      fill: #1967D2;\n",
              "      height: 32px;\n",
              "      padding: 0 0 0 0;\n",
              "      width: 32px;\n",
              "    }\n",
              "\n",
              "    .colab-df-convert:hover {\n",
              "      background-color: #E2EBFA;\n",
              "      box-shadow: 0px 1px 2px rgba(60, 64, 67, 0.3), 0px 1px 3px 1px rgba(60, 64, 67, 0.15);\n",
              "      fill: #174EA6;\n",
              "    }\n",
              "\n",
              "    [theme=dark] .colab-df-convert {\n",
              "      background-color: #3B4455;\n",
              "      fill: #D2E3FC;\n",
              "    }\n",
              "\n",
              "    [theme=dark] .colab-df-convert:hover {\n",
              "      background-color: #434B5C;\n",
              "      box-shadow: 0px 1px 3px 1px rgba(0, 0, 0, 0.15);\n",
              "      filter: drop-shadow(0px 1px 2px rgba(0, 0, 0, 0.3));\n",
              "      fill: #FFFFFF;\n",
              "    }\n",
              "  </style>\n",
              "\n",
              "      <script>\n",
              "        const buttonEl =\n",
              "          document.querySelector('#df-204616be-6856-4720-b777-81971d3f60e9 button.colab-df-convert');\n",
              "        buttonEl.style.display =\n",
              "          google.colab.kernel.accessAllowed ? 'block' : 'none';\n",
              "\n",
              "        async function convertToInteractive(key) {\n",
              "          const element = document.querySelector('#df-204616be-6856-4720-b777-81971d3f60e9');\n",
              "          const dataTable =\n",
              "            await google.colab.kernel.invokeFunction('convertToInteractive',\n",
              "                                                     [key], {});\n",
              "          if (!dataTable) return;\n",
              "\n",
              "          const docLinkHtml = 'Like what you see? Visit the ' +\n",
              "            '<a target=\"_blank\" href=https://colab.research.google.com/notebooks/data_table.ipynb>data table notebook</a>'\n",
              "            + ' to learn more about interactive tables.';\n",
              "          element.innerHTML = '';\n",
              "          dataTable['output_type'] = 'display_data';\n",
              "          await google.colab.output.renderOutput(dataTable, element);\n",
              "          const docLink = document.createElement('div');\n",
              "          docLink.innerHTML = docLinkHtml;\n",
              "          element.appendChild(docLink);\n",
              "        }\n",
              "      </script>\n",
              "    </div>\n",
              "  </div>\n",
              "  "
            ]
          },
          "metadata": {},
          "execution_count": 107
        }
      ]
    },
    {
      "cell_type": "code",
      "source": [
        "#Add new features\n",
        "# test_df[\"ho\"]=(((test_df.High-test_df.Open)/test_df.Open)*100)\n",
        "# test_df[\"ol\"]=(((test_df.Open-test_df.Low)/test_df.Open)*100)\n",
        "# test_df[\"oc\"]=(((test_df.Open-test_df.Close)/test_df.Open)*100)\n",
        "# test_df[\"hl\"]=(((test_df.High-test_df.Low)/test_df.Low)*100)\n",
        "# test_df['rsi']=ta.momentum.rsi(test_df[\"Close\"], window=14, fillna=False)\n",
        "# test_df['roc']=ta.momentum.roc(test_df['Close'], window = 14, fillna = False)\n",
        "# test_df['macd']=ta.trend.macd(test_df['Close'], window_slow=26, window_fast=12, fillna=False)\n",
        "# test_df['ema']=ta.trend.ema_indicator(test_df['Close'], window = 14, fillna = False)\n",
        "# test_df['sma']=ta.trend.sma_indicator(test_df['Close'], window = 14, fillna = False)\n",
        "# test_df['ma']=ta.momentum.kama(test_df[\"Close\"], window =10, pow1=2, pow2=30, fillna=False)"
      ],
      "metadata": {
        "id": "GkzqKf3KpV4y"
      },
      "execution_count": 108,
      "outputs": []
    },
    {
      "cell_type": "code",
      "source": [
        "test_df.shape"
      ],
      "metadata": {
        "colab": {
          "base_uri": "https://localhost:8080/"
        },
        "id": "f-CGvE0FpcOl",
        "outputId": "bb492938-58d6-4a1e-e4d5-87dedec512b6"
      },
      "execution_count": 109,
      "outputs": [
        {
          "output_type": "execute_result",
          "data": {
            "text/plain": [
              "(129, 6)"
            ]
          },
          "metadata": {},
          "execution_count": 109
        }
      ]
    },
    {
      "cell_type": "code",
      "source": [
        "test_df['next_day_return'] = np.log(test_df.Close) - np.log(test_df.Close.shift(1))"
      ],
      "metadata": {
        "id": "grM0h0yTb_lT"
      },
      "execution_count": 110,
      "outputs": []
    },
    {
      "cell_type": "code",
      "source": [
        "test = test_df.copy()"
      ],
      "metadata": {
        "id": "Q-mY7MPQpfGv"
      },
      "execution_count": 111,
      "outputs": []
    },
    {
      "cell_type": "code",
      "source": [
        "test = test.dropna()\n"
      ],
      "metadata": {
        "id": "cStIiXUsWtjz"
      },
      "execution_count": 112,
      "outputs": []
    },
    {
      "cell_type": "code",
      "source": [
        "test = test.drop(['next_day_return'],axis=1)"
      ],
      "metadata": {
        "id": "O2wjYH1BcbnK"
      },
      "execution_count": 113,
      "outputs": []
    },
    {
      "cell_type": "code",
      "source": [
        "test.shape"
      ],
      "metadata": {
        "colab": {
          "base_uri": "https://localhost:8080/"
        },
        "id": "TZUgSyo0ptXB",
        "outputId": "79194f2d-a934-4df3-a488-b496c1ae042a"
      },
      "execution_count": 114,
      "outputs": [
        {
          "output_type": "execute_result",
          "data": {
            "text/plain": [
              "(128, 6)"
            ]
          },
          "metadata": {},
          "execution_count": 114
        }
      ]
    },
    {
      "cell_type": "code",
      "source": [
        "total= pd.concat([df,test],axis=0) # Concating train and test and then will take last 60 train point\n"
      ],
      "metadata": {
        "id": "_ypxCCR3W2Ns"
      },
      "execution_count": 115,
      "outputs": []
    },
    {
      "cell_type": "code",
      "source": [
        "total.shape"
      ],
      "metadata": {
        "colab": {
          "base_uri": "https://localhost:8080/"
        },
        "id": "GU6HJvHbpv9x",
        "outputId": "27afb5e3-289c-423f-e7c9-98fc566f51bb"
      },
      "execution_count": 116,
      "outputs": [
        {
          "output_type": "execute_result",
          "data": {
            "text/plain": [
              "(650, 6)"
            ]
          },
          "metadata": {},
          "execution_count": 116
        }
      ]
    },
    {
      "cell_type": "code",
      "source": [
        "test_input = total[len(total)-len(test)-sequence_length:].values\n",
        "#test_input= test_input.reshape(-1,1) # reshaping it to get it transformed\n",
        "test_input= ss.transform(test_input)"
      ],
      "metadata": {
        "id": "SdDoFzUxfg4U"
      },
      "execution_count": 117,
      "outputs": []
    },
    {
      "cell_type": "code",
      "source": [
        "xtest= []\n",
        "for i in range(sequence_length,sequence_length+100):\n",
        "    xtest.append(test_input[i-sequence_length:i,:]) #creating input for  prediction"
      ],
      "metadata": {
        "id": "bMGq7URIfg6b"
      },
      "execution_count": 118,
      "outputs": []
    },
    {
      "cell_type": "code",
      "source": [
        "xtest= np.array(xtest)"
      ],
      "metadata": {
        "id": "QQIRk6llgSXR"
      },
      "execution_count": 119,
      "outputs": []
    },
    {
      "cell_type": "code",
      "source": [
        "xtest.shape"
      ],
      "metadata": {
        "colab": {
          "base_uri": "https://localhost:8080/"
        },
        "id": "oAKyNXAzgeYb",
        "outputId": "473ed39a-ee5f-463a-c1c7-35b38a6c69df"
      },
      "execution_count": 120,
      "outputs": [
        {
          "output_type": "execute_result",
          "data": {
            "text/plain": [
              "(100, 6, 6)"
            ]
          },
          "metadata": {},
          "execution_count": 120
        }
      ]
    },
    {
      "cell_type": "code",
      "source": [
        "xtest= np.reshape(xtest,(xtest.shape[0],xtest.shape[2],xtest.shape[1]))"
      ],
      "metadata": {
        "id": "5zkxI79RSIQl"
      },
      "execution_count": 121,
      "outputs": []
    },
    {
      "cell_type": "code",
      "source": [
        "test_df['next_day_return'] = [1 if item>0 else 0 for item in test_df['next_day_return']]"
      ],
      "metadata": {
        "id": "WRJ3vku4pnAy"
      },
      "execution_count": 122,
      "outputs": []
    },
    {
      "cell_type": "code",
      "source": [
        "test_actual = np.array(test_df[0:100]['next_day_return'])\n",
        "ytest = []\n",
        "for i in range(0,len(test_actual)):\n",
        "  if(int(test_actual[i]))>0:\n",
        "     ytest.append([0,1])\n",
        "  else:\n",
        "    ytest.append([1,0])"
      ],
      "metadata": {
        "id": "H-4uK0h1oT4P"
      },
      "execution_count": 123,
      "outputs": []
    },
    {
      "cell_type": "code",
      "source": [
        "test_actual.shape"
      ],
      "metadata": {
        "colab": {
          "base_uri": "https://localhost:8080/"
        },
        "id": "lQ7UXR_RumyJ",
        "outputId": "05470a0f-5a8a-4617-adb0-192145d1b76e"
      },
      "execution_count": 124,
      "outputs": [
        {
          "output_type": "execute_result",
          "data": {
            "text/plain": [
              "(100,)"
            ]
          },
          "metadata": {},
          "execution_count": 124
        }
      ]
    },
    {
      "cell_type": "markdown",
      "source": [
        "### Build an GRU Model"
      ],
      "metadata": {
        "id": "0tdXGznHNNMT"
      }
    },
    {
      "cell_type": "code",
      "source": [
        "#initialisizng the model \n",
        "model = Sequential()\n",
        "\n",
        "model.add(GRU(units=280,return_sequences=True,kernel_initializer='glorot_uniform',input_shape=(xtrain.shape[1],xtrain.shape[2])))\n",
        "#model.add(Dropout(0.05))\n",
        "\n",
        "model.add(GRU(units=280,kernel_initializer='glorot_uniform',return_sequences=True))\n",
        "#model.add(Dropout(0.2))\n",
        "\n",
        "model.add(GRU(units=280,kernel_initializer='glorot_uniform',return_sequences=True))\n",
        "#model.add(Dropout(0.2))\n",
        "\n",
        "model.add(GRU(units=280,kernel_initializer='glorot_uniform'))\n",
        "#model.add(Dropout(0.2))\n",
        "\n",
        "model.add(Dense(2,activation='sigmoid'))\n",
        "\n",
        "model.compile(optimizer='adam',loss = 'binary_crossentropy',metrics='accuracy')\n",
        "\n",
        "#fitting the network\n",
        "model.fit(xtrain,ytrain,batch_size=30,epochs=100)"
      ],
      "metadata": {
        "id": "OH0oOCo4NSPP",
        "colab": {
          "base_uri": "https://localhost:8080/"
        },
        "outputId": "7fb8c3d6-7484-4e34-9804-7b00a26d648f"
      },
      "execution_count": 135,
      "outputs": [
        {
          "output_type": "stream",
          "name": "stdout",
          "text": [
            "Epoch 1/100\n",
            "18/18 [==============================] - 8s 79ms/step - loss: 0.6952 - accuracy: 0.4709\n",
            "Epoch 2/100\n",
            "18/18 [==============================] - 1s 77ms/step - loss: 0.6947 - accuracy: 0.4690\n",
            "Epoch 3/100\n",
            "18/18 [==============================] - 1s 82ms/step - loss: 0.6939 - accuracy: 0.4612\n",
            "Epoch 4/100\n",
            "18/18 [==============================] - 1s 80ms/step - loss: 0.6947 - accuracy: 0.4845\n",
            "Epoch 5/100\n",
            "18/18 [==============================] - 1s 78ms/step - loss: 0.6933 - accuracy: 0.5116\n",
            "Epoch 6/100\n",
            "18/18 [==============================] - 1s 80ms/step - loss: 0.6943 - accuracy: 0.5019\n",
            "Epoch 7/100\n",
            "18/18 [==============================] - 1s 80ms/step - loss: 0.6936 - accuracy: 0.5000\n",
            "Epoch 8/100\n",
            "18/18 [==============================] - 1s 80ms/step - loss: 0.6940 - accuracy: 0.5000\n",
            "Epoch 9/100\n",
            "18/18 [==============================] - 1s 78ms/step - loss: 0.6933 - accuracy: 0.4826\n",
            "Epoch 10/100\n",
            "18/18 [==============================] - 1s 78ms/step - loss: 0.6935 - accuracy: 0.4884\n",
            "Epoch 11/100\n",
            "18/18 [==============================] - 1s 81ms/step - loss: 0.6936 - accuracy: 0.4864\n",
            "Epoch 12/100\n",
            "18/18 [==============================] - 1s 79ms/step - loss: 0.6936 - accuracy: 0.5000\n",
            "Epoch 13/100\n",
            "18/18 [==============================] - 1s 81ms/step - loss: 0.6947 - accuracy: 0.5155\n",
            "Epoch 14/100\n",
            "18/18 [==============================] - 1s 79ms/step - loss: 0.6939 - accuracy: 0.5000\n",
            "Epoch 15/100\n",
            "18/18 [==============================] - 1s 79ms/step - loss: 0.6937 - accuracy: 0.4767\n",
            "Epoch 16/100\n",
            "18/18 [==============================] - 1s 80ms/step - loss: 0.6930 - accuracy: 0.5019\n",
            "Epoch 17/100\n",
            "18/18 [==============================] - 1s 80ms/step - loss: 0.6932 - accuracy: 0.5000\n",
            "Epoch 18/100\n",
            "18/18 [==============================] - 1s 79ms/step - loss: 0.6931 - accuracy: 0.5000\n",
            "Epoch 19/100\n",
            "18/18 [==============================] - 1s 79ms/step - loss: 0.6923 - accuracy: 0.5000\n",
            "Epoch 20/100\n",
            "18/18 [==============================] - 1s 81ms/step - loss: 0.6891 - accuracy: 0.5581\n",
            "Epoch 21/100\n",
            "18/18 [==============================] - 1s 80ms/step - loss: 0.6910 - accuracy: 0.5698\n",
            "Epoch 22/100\n",
            "18/18 [==============================] - 1s 78ms/step - loss: 0.6895 - accuracy: 0.5562\n",
            "Epoch 23/100\n",
            "18/18 [==============================] - 1s 78ms/step - loss: 0.6736 - accuracy: 0.5775\n",
            "Epoch 24/100\n",
            "18/18 [==============================] - 1s 80ms/step - loss: 0.6486 - accuracy: 0.6240\n",
            "Epoch 25/100\n",
            "18/18 [==============================] - 1s 80ms/step - loss: 0.6680 - accuracy: 0.6221\n",
            "Epoch 26/100\n",
            "18/18 [==============================] - 1s 78ms/step - loss: 0.6735 - accuracy: 0.5775\n",
            "Epoch 27/100\n",
            "18/18 [==============================] - 1s 77ms/step - loss: 0.6613 - accuracy: 0.5950\n",
            "Epoch 28/100\n",
            "18/18 [==============================] - 1s 78ms/step - loss: 0.6223 - accuracy: 0.6860\n",
            "Epoch 29/100\n",
            "18/18 [==============================] - 1s 77ms/step - loss: 0.5340 - accuracy: 0.7597\n",
            "Epoch 30/100\n",
            "18/18 [==============================] - 1s 79ms/step - loss: 0.5707 - accuracy: 0.7287\n",
            "Epoch 31/100\n",
            "18/18 [==============================] - 1s 77ms/step - loss: 0.5033 - accuracy: 0.7500\n",
            "Epoch 32/100\n",
            "18/18 [==============================] - 1s 77ms/step - loss: 0.5445 - accuracy: 0.7132\n",
            "Epoch 33/100\n",
            "18/18 [==============================] - 1s 78ms/step - loss: 0.5044 - accuracy: 0.7597\n",
            "Epoch 34/100\n",
            "18/18 [==============================] - 1s 78ms/step - loss: 0.4841 - accuracy: 0.7694\n",
            "Epoch 35/100\n",
            "18/18 [==============================] - 1s 79ms/step - loss: 0.4941 - accuracy: 0.7539\n",
            "Epoch 36/100\n",
            "18/18 [==============================] - 1s 80ms/step - loss: 0.5090 - accuracy: 0.7422\n",
            "Epoch 37/100\n",
            "18/18 [==============================] - 1s 80ms/step - loss: 0.4730 - accuracy: 0.7694\n",
            "Epoch 38/100\n",
            "18/18 [==============================] - 1s 78ms/step - loss: 0.4605 - accuracy: 0.7713\n",
            "Epoch 39/100\n",
            "18/18 [==============================] - 1s 79ms/step - loss: 0.4515 - accuracy: 0.7810\n",
            "Epoch 40/100\n",
            "18/18 [==============================] - 1s 79ms/step - loss: 0.4402 - accuracy: 0.7888\n",
            "Epoch 41/100\n",
            "18/18 [==============================] - 1s 80ms/step - loss: 0.4380 - accuracy: 0.7810\n",
            "Epoch 42/100\n",
            "18/18 [==============================] - 1s 80ms/step - loss: 0.4540 - accuracy: 0.7849\n",
            "Epoch 43/100\n",
            "18/18 [==============================] - 1s 80ms/step - loss: 0.4211 - accuracy: 0.7965\n",
            "Epoch 44/100\n",
            "18/18 [==============================] - 1s 79ms/step - loss: 0.4356 - accuracy: 0.7868\n",
            "Epoch 45/100\n",
            "18/18 [==============================] - 1s 78ms/step - loss: 0.4144 - accuracy: 0.8120\n",
            "Epoch 46/100\n",
            "18/18 [==============================] - 1s 82ms/step - loss: 0.4390 - accuracy: 0.7946\n",
            "Epoch 47/100\n",
            "18/18 [==============================] - 1s 78ms/step - loss: 0.4314 - accuracy: 0.7984\n",
            "Epoch 48/100\n",
            "18/18 [==============================] - 1s 79ms/step - loss: 0.4491 - accuracy: 0.7829\n",
            "Epoch 49/100\n",
            "18/18 [==============================] - 1s 79ms/step - loss: 0.4454 - accuracy: 0.8043\n",
            "Epoch 50/100\n",
            "18/18 [==============================] - 1s 78ms/step - loss: 0.4403 - accuracy: 0.7868\n",
            "Epoch 51/100\n",
            "18/18 [==============================] - 2s 102ms/step - loss: 0.4472 - accuracy: 0.8043\n",
            "Epoch 52/100\n",
            "18/18 [==============================] - 2s 81ms/step - loss: 0.4228 - accuracy: 0.8101\n",
            "Epoch 53/100\n",
            "18/18 [==============================] - 1s 80ms/step - loss: 0.4223 - accuracy: 0.8023\n",
            "Epoch 54/100\n",
            "18/18 [==============================] - 1s 80ms/step - loss: 0.4834 - accuracy: 0.7597\n",
            "Epoch 55/100\n",
            "18/18 [==============================] - 1s 80ms/step - loss: 0.4353 - accuracy: 0.7791\n",
            "Epoch 56/100\n",
            "18/18 [==============================] - 1s 79ms/step - loss: 0.4293 - accuracy: 0.8062\n",
            "Epoch 57/100\n",
            "18/18 [==============================] - 2s 84ms/step - loss: 0.4103 - accuracy: 0.8043\n",
            "Epoch 58/100\n",
            "18/18 [==============================] - 2s 124ms/step - loss: 0.4061 - accuracy: 0.7984\n",
            "Epoch 59/100\n",
            "18/18 [==============================] - 1s 80ms/step - loss: 0.3981 - accuracy: 0.8236\n",
            "Epoch 60/100\n",
            "18/18 [==============================] - 1s 79ms/step - loss: 0.4307 - accuracy: 0.7868\n",
            "Epoch 61/100\n",
            "18/18 [==============================] - 1s 80ms/step - loss: 0.3924 - accuracy: 0.8081\n",
            "Epoch 62/100\n",
            "18/18 [==============================] - 1s 82ms/step - loss: 0.4044 - accuracy: 0.8062\n",
            "Epoch 63/100\n",
            "18/18 [==============================] - 1s 79ms/step - loss: 0.4031 - accuracy: 0.8081\n",
            "Epoch 64/100\n",
            "18/18 [==============================] - 1s 81ms/step - loss: 0.4559 - accuracy: 0.7771\n",
            "Epoch 65/100\n",
            "18/18 [==============================] - 1s 80ms/step - loss: 0.4436 - accuracy: 0.7849\n",
            "Epoch 66/100\n",
            "18/18 [==============================] - 1s 83ms/step - loss: 0.4095 - accuracy: 0.8140\n",
            "Epoch 67/100\n",
            "18/18 [==============================] - 2s 83ms/step - loss: 0.3821 - accuracy: 0.8062\n",
            "Epoch 68/100\n",
            "18/18 [==============================] - 1s 83ms/step - loss: 0.3983 - accuracy: 0.8043\n",
            "Epoch 69/100\n",
            "18/18 [==============================] - 1s 80ms/step - loss: 0.3928 - accuracy: 0.7926\n",
            "Epoch 70/100\n",
            "18/18 [==============================] - 1s 79ms/step - loss: 0.4286 - accuracy: 0.8004\n",
            "Epoch 71/100\n",
            "18/18 [==============================] - 1s 79ms/step - loss: 0.3943 - accuracy: 0.8295\n",
            "Epoch 72/100\n",
            "18/18 [==============================] - 1s 78ms/step - loss: 0.3805 - accuracy: 0.8275\n",
            "Epoch 73/100\n",
            "18/18 [==============================] - 1s 78ms/step - loss: 0.3988 - accuracy: 0.8101\n",
            "Epoch 74/100\n",
            "18/18 [==============================] - 1s 82ms/step - loss: 0.3901 - accuracy: 0.8256\n",
            "Epoch 75/100\n",
            "18/18 [==============================] - 1s 80ms/step - loss: 0.4126 - accuracy: 0.8178\n",
            "Epoch 76/100\n",
            "18/18 [==============================] - 1s 80ms/step - loss: 0.3814 - accuracy: 0.8314\n",
            "Epoch 77/100\n",
            "18/18 [==============================] - 1s 81ms/step - loss: 0.3818 - accuracy: 0.8333\n",
            "Epoch 78/100\n",
            "18/18 [==============================] - 1s 78ms/step - loss: 0.4282 - accuracy: 0.7965\n",
            "Epoch 79/100\n",
            "18/18 [==============================] - 1s 81ms/step - loss: 0.4850 - accuracy: 0.7655\n",
            "Epoch 80/100\n",
            "18/18 [==============================] - 1s 80ms/step - loss: 0.4736 - accuracy: 0.7597\n",
            "Epoch 81/100\n",
            "18/18 [==============================] - 1s 80ms/step - loss: 0.4267 - accuracy: 0.7829\n",
            "Epoch 82/100\n",
            "18/18 [==============================] - 1s 80ms/step - loss: 0.3801 - accuracy: 0.8178\n",
            "Epoch 83/100\n",
            "18/18 [==============================] - 1s 80ms/step - loss: 0.3729 - accuracy: 0.8314\n",
            "Epoch 84/100\n",
            "18/18 [==============================] - 1s 80ms/step - loss: 0.3573 - accuracy: 0.8391\n",
            "Epoch 85/100\n",
            "18/18 [==============================] - 1s 82ms/step - loss: 0.3449 - accuracy: 0.8391\n",
            "Epoch 86/100\n",
            "18/18 [==============================] - 1s 77ms/step - loss: 0.3825 - accuracy: 0.8372\n",
            "Epoch 87/100\n",
            "18/18 [==============================] - 1s 80ms/step - loss: 0.3488 - accuracy: 0.8508\n",
            "Epoch 88/100\n",
            "18/18 [==============================] - 2s 84ms/step - loss: 0.3527 - accuracy: 0.8372\n",
            "Epoch 89/100\n",
            "18/18 [==============================] - 1s 82ms/step - loss: 0.3625 - accuracy: 0.8353\n",
            "Epoch 90/100\n",
            "18/18 [==============================] - 1s 80ms/step - loss: 0.4378 - accuracy: 0.7984\n",
            "Epoch 91/100\n",
            "18/18 [==============================] - 1s 79ms/step - loss: 0.4526 - accuracy: 0.7694\n",
            "Epoch 92/100\n",
            "18/18 [==============================] - 1s 80ms/step - loss: 0.4050 - accuracy: 0.8140\n",
            "Epoch 93/100\n",
            "18/18 [==============================] - 2s 84ms/step - loss: 0.3863 - accuracy: 0.8178\n",
            "Epoch 94/100\n",
            "18/18 [==============================] - 1s 83ms/step - loss: 0.3572 - accuracy: 0.8353\n",
            "Epoch 95/100\n",
            "18/18 [==============================] - 2s 84ms/step - loss: 0.3703 - accuracy: 0.8295\n",
            "Epoch 96/100\n",
            "18/18 [==============================] - 1s 79ms/step - loss: 0.3571 - accuracy: 0.8372\n",
            "Epoch 97/100\n",
            "18/18 [==============================] - 1s 81ms/step - loss: 0.3781 - accuracy: 0.8178\n",
            "Epoch 98/100\n",
            "18/18 [==============================] - 1s 83ms/step - loss: 0.3424 - accuracy: 0.8450\n",
            "Epoch 99/100\n",
            "18/18 [==============================] - 1s 82ms/step - loss: 0.3473 - accuracy: 0.8391\n",
            "Epoch 100/100\n",
            "18/18 [==============================] - 1s 82ms/step - loss: 0.3608 - accuracy: 0.8120\n"
          ]
        },
        {
          "output_type": "execute_result",
          "data": {
            "text/plain": [
              "<keras.callbacks.History at 0x7fac06f76510>"
            ]
          },
          "metadata": {},
          "execution_count": 135
        }
      ]
    },
    {
      "cell_type": "code",
      "source": [
        "predicted_value= model.predict(xtest)\n"
      ],
      "metadata": {
        "id": "Y6FEHk3RgUeq"
      },
      "execution_count": 136,
      "outputs": []
    },
    {
      "cell_type": "code",
      "source": [
        "predicted_classes = predicted_value.argmax(axis=1)\n",
        "predicted_classes"
      ],
      "metadata": {
        "colab": {
          "base_uri": "https://localhost:8080/"
        },
        "id": "dge0HVKzpNwv",
        "outputId": "20e28d9a-8591-445e-d067-357da7ff1c38"
      },
      "execution_count": 137,
      "outputs": [
        {
          "output_type": "execute_result",
          "data": {
            "text/plain": [
              "array([1, 1, 1, 0, 1, 0, 0, 1, 1, 0, 0, 0, 0, 1, 1, 0, 0, 0, 0, 1, 1, 1,\n",
              "       1, 1, 1, 0, 0, 1, 1, 0, 0, 1, 1, 0, 0, 1, 1, 0, 0, 1, 1, 0, 0, 0,\n",
              "       0, 1, 1, 1, 0, 0, 0, 0, 1, 1, 0, 0, 0, 0, 0, 0, 0, 1, 1, 0, 0, 0,\n",
              "       0, 0, 0, 0, 1, 0, 1, 0, 0, 0, 1, 1, 1, 0, 0, 0, 0, 0, 1, 0, 1, 1,\n",
              "       0, 1, 0, 0, 0, 0, 1, 0, 1, 0, 1, 1])"
            ]
          },
          "metadata": {},
          "execution_count": 137
        }
      ]
    },
    {
      "cell_type": "code",
      "source": [
        "\n",
        "confusion_matrix(test_actual, predicted_classes)"
      ],
      "metadata": {
        "colab": {
          "base_uri": "https://localhost:8080/"
        },
        "id": "zduefkWBowre",
        "outputId": "cecb5be5-c241-44c7-bb12-0eee2551f89d"
      },
      "execution_count": 138,
      "outputs": [
        {
          "output_type": "execute_result",
          "data": {
            "text/plain": [
              "array([[38, 21],\n",
              "       [20, 21]])"
            ]
          },
          "metadata": {},
          "execution_count": 138
        }
      ]
    },
    {
      "cell_type": "code",
      "source": [
        "\n",
        "accuracy_score(test_actual, predicted_classes) "
      ],
      "metadata": {
        "colab": {
          "base_uri": "https://localhost:8080/"
        },
        "id": "wIGhHvmqqYby",
        "outputId": "5fb307ac-fca6-4a92-c523-f33a242240f6"
      },
      "execution_count": 139,
      "outputs": [
        {
          "output_type": "execute_result",
          "data": {
            "text/plain": [
              "0.59"
            ]
          },
          "metadata": {},
          "execution_count": 139
        }
      ]
    },
    {
      "cell_type": "markdown",
      "source": [
        " Results:\n",
        " - Note Test contains 0 : 59 and 1:41 \n",
        " - With added features accuracy score: 0.51\n",
        " - With one feature and 280 neurons per GRU accuracy score: 0.60\n",
        " - With partial feature and 280 neurons per GRU accuracy score: 0.60\n",
        " - With change in sequence_length(old data) from 60 to 4 we got accuracy score: 0.51, although training performance increased to 0.70"
      ],
      "metadata": {
        "id": "lj2uDWMXcyUZ"
      }
    },
    {
      "cell_type": "code",
      "source": [
        ""
      ],
      "metadata": {
        "id": "S97Ol-5ldi9q"
      },
      "execution_count": 139,
      "outputs": []
    }
  ]
}