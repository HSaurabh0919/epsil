{
  "nbformat": 4,
  "nbformat_minor": 0,
  "metadata": {
    "colab": {
      "name": "forex_trading_GRU_custom_metrics_loss_callback.ipynb",
      "provenance": [],
      "collapsed_sections": [
        "9q4JwfrOTPKq",
        "0tdXGznHNNMT",
        "H60Bf3s6u9YS",
        "LlD5RqvAxezU",
        "UEgx7dO5RfWu",
        "GGull540xnqv",
        "I8-pdGJWqVFi"
      ],
      "authorship_tag": "ABX9TyPPghP3ftLbKI97D5m8uYsE"
    },
    "kernelspec": {
      "name": "python3",
      "display_name": "Python 3"
    },
    "language_info": {
      "name": "python"
    }
  },
  "cells": [
    {
      "cell_type": "markdown",
      "source": [
        "### 0. Data Processing"
      ],
      "metadata": {
        "id": "9q4JwfrOTPKq"
      }
    },
    {
      "cell_type": "code",
      "execution_count": null,
      "metadata": {
        "id": "7Kx0uDdqIt35"
      },
      "outputs": [],
      "source": [
        "!pip install yfinance"
      ]
    },
    {
      "cell_type": "code",
      "source": [
        "!pip install ta"
      ],
      "metadata": {
        "id": "wl-Yv2TIkJmr"
      },
      "execution_count": null,
      "outputs": []
    },
    {
      "cell_type": "code",
      "source": [
        "import pandas as pd \n",
        "import numpy as np\n",
        "import matplotlib.pyplot as plt\n",
        "import yfinance as yf\n",
        "import warnings\n",
        "import ta\n",
        "warnings.filterwarnings('ignore')"
      ],
      "metadata": {
        "id": "6F8N5vi1I7g2"
      },
      "execution_count": 3,
      "outputs": []
    },
    {
      "cell_type": "code",
      "source": [
        "from sklearn.metrics import r2_score"
      ],
      "metadata": {
        "id": "WvZsUQW9oyUU"
      },
      "execution_count": 4,
      "outputs": []
    },
    {
      "cell_type": "code",
      "source": [
        "df = yf.download('EURUSD=X', start='2020-01-01', end='2021-12-31')"
      ],
      "metadata": {
        "colab": {
          "base_uri": "https://localhost:8080/"
        },
        "id": "RIZZhuxWI7jm",
        "outputId": "8aedc2cb-61f9-4091-81e3-b2d472dc69b0"
      },
      "execution_count": 5,
      "outputs": [
        {
          "output_type": "stream",
          "name": "stdout",
          "text": [
            "\r[*********************100%***********************]  1 of 1 completed\n"
          ]
        }
      ]
    },
    {
      "cell_type": "code",
      "source": [
        "df.head(2)"
      ],
      "metadata": {
        "colab": {
          "base_uri": "https://localhost:8080/",
          "height": 143
        },
        "id": "DJCBIlopI7mI",
        "outputId": "4839ebde-51c1-4610-eec8-42fdc5a46256"
      },
      "execution_count": 6,
      "outputs": [
        {
          "output_type": "execute_result",
          "data": {
            "text/plain": [
              "                Open      High       Low     Close  Adj Close  Volume\n",
              "Date                                                                 \n",
              "2020-01-01  1.122083  1.122838  1.115947  1.122083   1.122083       0\n",
              "2020-01-02  1.121894  1.122712  1.116682  1.122083   1.122083       0"
            ],
            "text/html": [
              "\n",
              "  <div id=\"df-ace6351d-d83c-4e91-9d0f-a95033762383\">\n",
              "    <div class=\"colab-df-container\">\n",
              "      <div>\n",
              "<style scoped>\n",
              "    .dataframe tbody tr th:only-of-type {\n",
              "        vertical-align: middle;\n",
              "    }\n",
              "\n",
              "    .dataframe tbody tr th {\n",
              "        vertical-align: top;\n",
              "    }\n",
              "\n",
              "    .dataframe thead th {\n",
              "        text-align: right;\n",
              "    }\n",
              "</style>\n",
              "<table border=\"1\" class=\"dataframe\">\n",
              "  <thead>\n",
              "    <tr style=\"text-align: right;\">\n",
              "      <th></th>\n",
              "      <th>Open</th>\n",
              "      <th>High</th>\n",
              "      <th>Low</th>\n",
              "      <th>Close</th>\n",
              "      <th>Adj Close</th>\n",
              "      <th>Volume</th>\n",
              "    </tr>\n",
              "    <tr>\n",
              "      <th>Date</th>\n",
              "      <th></th>\n",
              "      <th></th>\n",
              "      <th></th>\n",
              "      <th></th>\n",
              "      <th></th>\n",
              "      <th></th>\n",
              "    </tr>\n",
              "  </thead>\n",
              "  <tbody>\n",
              "    <tr>\n",
              "      <th>2020-01-01</th>\n",
              "      <td>1.122083</td>\n",
              "      <td>1.122838</td>\n",
              "      <td>1.115947</td>\n",
              "      <td>1.122083</td>\n",
              "      <td>1.122083</td>\n",
              "      <td>0</td>\n",
              "    </tr>\n",
              "    <tr>\n",
              "      <th>2020-01-02</th>\n",
              "      <td>1.121894</td>\n",
              "      <td>1.122712</td>\n",
              "      <td>1.116682</td>\n",
              "      <td>1.122083</td>\n",
              "      <td>1.122083</td>\n",
              "      <td>0</td>\n",
              "    </tr>\n",
              "  </tbody>\n",
              "</table>\n",
              "</div>\n",
              "      <button class=\"colab-df-convert\" onclick=\"convertToInteractive('df-ace6351d-d83c-4e91-9d0f-a95033762383')\"\n",
              "              title=\"Convert this dataframe to an interactive table.\"\n",
              "              style=\"display:none;\">\n",
              "        \n",
              "  <svg xmlns=\"http://www.w3.org/2000/svg\" height=\"24px\"viewBox=\"0 0 24 24\"\n",
              "       width=\"24px\">\n",
              "    <path d=\"M0 0h24v24H0V0z\" fill=\"none\"/>\n",
              "    <path d=\"M18.56 5.44l.94 2.06.94-2.06 2.06-.94-2.06-.94-.94-2.06-.94 2.06-2.06.94zm-11 1L8.5 8.5l.94-2.06 2.06-.94-2.06-.94L8.5 2.5l-.94 2.06-2.06.94zm10 10l.94 2.06.94-2.06 2.06-.94-2.06-.94-.94-2.06-.94 2.06-2.06.94z\"/><path d=\"M17.41 7.96l-1.37-1.37c-.4-.4-.92-.59-1.43-.59-.52 0-1.04.2-1.43.59L10.3 9.45l-7.72 7.72c-.78.78-.78 2.05 0 2.83L4 21.41c.39.39.9.59 1.41.59.51 0 1.02-.2 1.41-.59l7.78-7.78 2.81-2.81c.8-.78.8-2.07 0-2.86zM5.41 20L4 18.59l7.72-7.72 1.47 1.35L5.41 20z\"/>\n",
              "  </svg>\n",
              "      </button>\n",
              "      \n",
              "  <style>\n",
              "    .colab-df-container {\n",
              "      display:flex;\n",
              "      flex-wrap:wrap;\n",
              "      gap: 12px;\n",
              "    }\n",
              "\n",
              "    .colab-df-convert {\n",
              "      background-color: #E8F0FE;\n",
              "      border: none;\n",
              "      border-radius: 50%;\n",
              "      cursor: pointer;\n",
              "      display: none;\n",
              "      fill: #1967D2;\n",
              "      height: 32px;\n",
              "      padding: 0 0 0 0;\n",
              "      width: 32px;\n",
              "    }\n",
              "\n",
              "    .colab-df-convert:hover {\n",
              "      background-color: #E2EBFA;\n",
              "      box-shadow: 0px 1px 2px rgba(60, 64, 67, 0.3), 0px 1px 3px 1px rgba(60, 64, 67, 0.15);\n",
              "      fill: #174EA6;\n",
              "    }\n",
              "\n",
              "    [theme=dark] .colab-df-convert {\n",
              "      background-color: #3B4455;\n",
              "      fill: #D2E3FC;\n",
              "    }\n",
              "\n",
              "    [theme=dark] .colab-df-convert:hover {\n",
              "      background-color: #434B5C;\n",
              "      box-shadow: 0px 1px 3px 1px rgba(0, 0, 0, 0.15);\n",
              "      filter: drop-shadow(0px 1px 2px rgba(0, 0, 0, 0.3));\n",
              "      fill: #FFFFFF;\n",
              "    }\n",
              "  </style>\n",
              "\n",
              "      <script>\n",
              "        const buttonEl =\n",
              "          document.querySelector('#df-ace6351d-d83c-4e91-9d0f-a95033762383 button.colab-df-convert');\n",
              "        buttonEl.style.display =\n",
              "          google.colab.kernel.accessAllowed ? 'block' : 'none';\n",
              "\n",
              "        async function convertToInteractive(key) {\n",
              "          const element = document.querySelector('#df-ace6351d-d83c-4e91-9d0f-a95033762383');\n",
              "          const dataTable =\n",
              "            await google.colab.kernel.invokeFunction('convertToInteractive',\n",
              "                                                     [key], {});\n",
              "          if (!dataTable) return;\n",
              "\n",
              "          const docLinkHtml = 'Like what you see? Visit the ' +\n",
              "            '<a target=\"_blank\" href=https://colab.research.google.com/notebooks/data_table.ipynb>data table notebook</a>'\n",
              "            + ' to learn more about interactive tables.';\n",
              "          element.innerHTML = '';\n",
              "          dataTable['output_type'] = 'display_data';\n",
              "          await google.colab.output.renderOutput(dataTable, element);\n",
              "          const docLink = document.createElement('div');\n",
              "          docLink.innerHTML = docLinkHtml;\n",
              "          element.appendChild(docLink);\n",
              "        }\n",
              "      </script>\n",
              "    </div>\n",
              "  </div>\n",
              "  "
            ]
          },
          "metadata": {},
          "execution_count": 6
        }
      ]
    },
    {
      "cell_type": "code",
      "source": [
        "#Add new features\n",
        "df[\"ho\"]=(((df.High-df.Open)/df.Open)*100)\n",
        "df[\"ol\"]=(((df.Open-df.Low)/df.Open)*100)\n",
        "df[\"oc\"]=(((df.Open-df.Close)/df.Open)*100)\n",
        "df[\"hl\"]=(((df.High-df.Low)/df.Low)*100)\n",
        "df['rsi']=ta.momentum.rsi(df[\"Close\"], window=14, fillna=False)\n",
        "df['roc']=ta.momentum.roc(df['Close'], window = 14, fillna = False)\n",
        "df['macd']=ta.trend.macd(df['Close'], window_slow=26, window_fast=12, fillna=False)\n",
        "df['ema']=ta.trend.ema_indicator(df['Close'], window = 14, fillna = False)\n",
        "df['sma']=ta.trend.sma_indicator(df['Close'], window = 14, fillna = False)\n",
        "df['ma']=ta.momentum.kama(df[\"Close\"], window =10, pow1=2, pow2=30, fillna=False)"
      ],
      "metadata": {
        "id": "xe5FpaOxIQhD"
      },
      "execution_count": 7,
      "outputs": []
    },
    {
      "cell_type": "code",
      "source": [
        "df = df.dropna()"
      ],
      "metadata": {
        "id": "1eIiVO7jIQjj"
      },
      "execution_count": 8,
      "outputs": []
    },
    {
      "cell_type": "code",
      "source": [
        "df.shape"
      ],
      "metadata": {
        "colab": {
          "base_uri": "https://localhost:8080/"
        },
        "id": "xAOlQWPdlMQ-",
        "outputId": "9a318968-1794-47ee-d63a-c886f65b91bf"
      },
      "execution_count": 9,
      "outputs": [
        {
          "output_type": "execute_result",
          "data": {
            "text/plain": [
              "(498, 16)"
            ]
          },
          "metadata": {},
          "execution_count": 9
        }
      ]
    },
    {
      "cell_type": "code",
      "source": [
        "df.columns"
      ],
      "metadata": {
        "colab": {
          "base_uri": "https://localhost:8080/"
        },
        "id": "N9_5Qq6Amspc",
        "outputId": "03b4d040-32c0-4524-e86e-d259a337aef8"
      },
      "execution_count": 10,
      "outputs": [
        {
          "output_type": "execute_result",
          "data": {
            "text/plain": [
              "Index(['Open', 'High', 'Low', 'Close', 'Adj Close', 'Volume', 'ho', 'ol', 'oc',\n",
              "       'hl', 'rsi', 'roc', 'macd', 'ema', 'sma', 'ma'],\n",
              "      dtype='object')"
            ]
          },
          "metadata": {},
          "execution_count": 10
        }
      ]
    },
    {
      "cell_type": "code",
      "source": [
        "ytrain=[]\n",
        "train2 = np.array(df)\n",
        "for i in range(60,len(train2)):\n",
        "  ytrain.append(train2[i,4]) #Adj Close is at index 4"
      ],
      "metadata": {
        "id": "BwyB6n9udQnA"
      },
      "execution_count": 11,
      "outputs": []
    },
    {
      "cell_type": "code",
      "source": [
        "#Scaling the values between 0 to 1\n",
        "from sklearn.preprocessing import MinMaxScaler\n",
        "ss= MinMaxScaler(feature_range=(0,1))\n",
        "train = ss.fit_transform(np.array(df))"
      ],
      "metadata": {
        "id": "rh_3iV7rLQwM"
      },
      "execution_count": 12,
      "outputs": []
    },
    {
      "cell_type": "code",
      "source": [
        "# Feature selection\n",
        "xtrain=[]\n",
        "\n",
        "for i in range(60,len(train)):\n",
        "    #xtrain.append([train[i-60:i,0],train[i-60:i,1]])\n",
        "    xtrain.append(train[i-60:i,:])\n",
        "    #ytrain.append(train[i,0])\n",
        "\n",
        "xtrain, ytrain = np.array(xtrain), np.array(ytrain)"
      ],
      "metadata": {
        "id": "-o6jzNRXMEKJ"
      },
      "execution_count": 13,
      "outputs": []
    },
    {
      "cell_type": "code",
      "source": [
        "xtrain.shape"
      ],
      "metadata": {
        "colab": {
          "base_uri": "https://localhost:8080/"
        },
        "id": "lEsUOUtoRI7a",
        "outputId": "b1cde301-52f7-46e4-ac60-2c158c33451b"
      },
      "execution_count": 14,
      "outputs": [
        {
          "output_type": "execute_result",
          "data": {
            "text/plain": [
              "(438, 60, 16)"
            ]
          },
          "metadata": {},
          "execution_count": 14
        }
      ]
    },
    {
      "cell_type": "code",
      "source": [
        "#Reshaping the train data to make it as input for LTSM layer input_shape(batchzise,timesteps,input_dim)\n",
        "xtrain= np.reshape(xtrain,(xtrain.shape[0],xtrain.shape[2],xtrain.shape[1]))"
      ],
      "metadata": {
        "id": "BgrO-ZYSMEMg"
      },
      "execution_count": 15,
      "outputs": []
    },
    {
      "cell_type": "code",
      "source": [
        "xtrain.shape #Before : (463, 60, 1)"
      ],
      "metadata": {
        "colab": {
          "base_uri": "https://localhost:8080/"
        },
        "id": "pH-RTgXbMEO4",
        "outputId": "d60ed17d-5f56-4f59-decd-98d88ee9719e"
      },
      "execution_count": 16,
      "outputs": [
        {
          "output_type": "execute_result",
          "data": {
            "text/plain": [
              "(438, 16, 60)"
            ]
          },
          "metadata": {},
          "execution_count": 16
        }
      ]
    },
    {
      "cell_type": "markdown",
      "source": [
        "### Build an GRU Model"
      ],
      "metadata": {
        "id": "0tdXGznHNNMT"
      }
    },
    {
      "cell_type": "code",
      "source": [
        "from keras.models import Sequential\n",
        "from keras.layers import GRU\n",
        "from keras.layers import Dense\n",
        "from keras.layers import Dropout\n",
        "from keras.layers import LSTM\n",
        "from keras.layers import BatchNormalization\n",
        "import keras\n",
        "import keras.backend as K\n",
        "import math\n",
        "import tensorflow as tf\n"
      ],
      "metadata": {
        "id": "GQvOongRM8_P"
      },
      "execution_count": 17,
      "outputs": []
    },
    {
      "cell_type": "markdown",
      "source": [
        "### 1. Adding Custom Callback, this can be used to check the prediction say at every epoch end for test."
      ],
      "metadata": {
        "id": "H60Bf3s6u9YS"
      }
    },
    {
      "cell_type": "code",
      "source": [
        "#initialisizng the model \n",
        "\n",
        "class CustomCallback(keras.callbacks.Callback):\n",
        "    def __init__(self, model, x_test, y_test):\n",
        "        self.model = model\n",
        "        self.x_test = x_test\n",
        "        self.y_test = y_test\n",
        "\n",
        "    def on_epoch_end(self, epoch, logs={}):\n",
        "        y_pred = self.model.predict(self.x_test)\n",
        "        difference = (y_pred - self.y_test)\n",
        "        value = tf.math.reduce_mean(difference, axis=None, keepdims=False, name=None)\n",
        "        print()\n",
        "        print('Difference: ', value.numpy())\n",
        "        \n",
        "\n",
        "#checkpoint = keras.callbacks.ModelCheckpoint(\"forex_price.h5\", save_best_only=True)\n",
        "\n",
        "regression= Sequential()\n",
        "\n",
        "regression.add(GRU(units=280,return_sequences=True,kernel_initializer='glorot_uniform',input_shape=(xtrain.shape[1],xtrain.shape[2])))\n",
        "regression.add(Dropout(0.1))\n",
        "\n",
        "\n",
        "regression.add(GRU(units=280,kernel_initializer='glorot_uniform',return_sequences=True))\n",
        "regression.add(Dropout(0.1))\n",
        "\n",
        "regression.add(GRU(units=280,kernel_initializer='glorot_uniform',return_sequences=True))\n",
        "regression.add(Dropout(0.1))\n",
        "\n",
        "regression.add(GRU(units=280,kernel_initializer='glorot_uniform'))\n",
        "regression.add(Dropout(0.1))\n",
        "\n",
        "regression.add(Dense(units=1))\n",
        "\n",
        "regression.compile(optimizer='adam',loss='mean_squared_error',metrics=['mse'])\n",
        "\n",
        "#fitting the network\n",
        "#regression.fit(xtrain,ytrain,batch_size=30,epochs=10)\n",
        "\n",
        "history = regression.fit(\n",
        "    xtrain, ytrain,\n",
        "    epochs=10,\n",
        "    batch_size=30,\n",
        "    validation_split=0.2,\n",
        "    callbacks=[CustomCallback(regression, xtrain, ytrain)]\n",
        ")"
      ],
      "metadata": {
        "id": "OH0oOCo4NSPP",
        "colab": {
          "base_uri": "https://localhost:8080/"
        },
        "outputId": "8d443830-bb04-4f40-fa41-a2c91dbf6671"
      },
      "execution_count": null,
      "outputs": [
        {
          "output_type": "stream",
          "name": "stdout",
          "text": [
            "Epoch 1/10\n",
            "12/12 [==============================] - ETA: 0s - loss: 0.5173 - mse: 0.5173\n",
            "Difference:  -0.4010742851724363\n",
            "12/12 [==============================] - 25s 625ms/step - loss: 0.5173 - mse: 0.5173 - val_loss: 0.2064 - val_mse: 0.2064\n",
            "Epoch 2/10\n",
            "12/12 [==============================] - ETA: 0s - loss: 0.0652 - mse: 0.0652\n",
            "Difference:  -0.009282969720831745\n",
            "12/12 [==============================] - 4s 364ms/step - loss: 0.0652 - mse: 0.0652 - val_loss: 0.0122 - val_mse: 0.0122\n",
            "Epoch 3/10\n",
            "12/12 [==============================] - ETA: 0s - loss: 0.0231 - mse: 0.0231\n",
            "Difference:  0.006453619836127921\n",
            "12/12 [==============================] - 4s 367ms/step - loss: 0.0231 - mse: 0.0231 - val_loss: 0.0070 - val_mse: 0.0070\n",
            "Epoch 4/10\n",
            "12/12 [==============================] - ETA: 0s - loss: 0.0136 - mse: 0.0136\n",
            "Difference:  0.010743918212037108\n",
            "12/12 [==============================] - 4s 364ms/step - loss: 0.0136 - mse: 0.0136 - val_loss: 0.0040 - val_mse: 0.0040\n",
            "Epoch 5/10\n",
            "12/12 [==============================] - ETA: 0s - loss: 0.0088 - mse: 0.0088\n",
            "Difference:  -0.02908926167988886\n",
            "12/12 [==============================] - 4s 365ms/step - loss: 0.0088 - mse: 0.0088 - val_loss: 0.0050 - val_mse: 0.0050\n",
            "Epoch 6/10\n",
            "12/12 [==============================] - ETA: 0s - loss: 0.0084 - mse: 0.0084\n",
            "Difference:  -0.014979888995488485\n",
            "12/12 [==============================] - 4s 374ms/step - loss: 0.0084 - mse: 0.0084 - val_loss: 0.0023 - val_mse: 0.0023\n",
            "Epoch 7/10\n",
            "12/12 [==============================] - ETA: 0s - loss: 0.0068 - mse: 0.0068\n",
            "Difference:  0.0021544449949917727\n",
            "12/12 [==============================] - 4s 385ms/step - loss: 0.0068 - mse: 0.0068 - val_loss: 8.9212e-04 - val_mse: 8.9212e-04\n",
            "Epoch 8/10\n",
            "12/12 [==============================] - ETA: 0s - loss: 0.0052 - mse: 0.0052\n",
            "Difference:  -0.012987198486720046\n",
            "12/12 [==============================] - 4s 379ms/step - loss: 0.0052 - mse: 0.0052 - val_loss: 0.0011 - val_mse: 0.0011\n",
            "Epoch 9/10\n",
            "12/12 [==============================] - ETA: 0s - loss: 0.0044 - mse: 0.0044\n",
            "Difference:  -0.0005101030820036588\n",
            "12/12 [==============================] - 4s 378ms/step - loss: 0.0044 - mse: 0.0044 - val_loss: 5.2096e-04 - val_mse: 5.2096e-04\n",
            "Epoch 10/10\n",
            "12/12 [==============================] - ETA: 0s - loss: 0.0045 - mse: 0.0045\n",
            "Difference:  0.029008863995608675\n",
            "12/12 [==============================] - 5s 390ms/step - loss: 0.0045 - mse: 0.0045 - val_loss: 0.0012 - val_mse: 0.0012\n"
          ]
        }
      ]
    },
    {
      "cell_type": "code",
      "source": [
        "model_history = pd.DataFrame(history.history)\n",
        "model_history['epoch'] = history.epoch\n",
        "\n",
        "fig, ax = plt.subplots(1, figsize=(8,6))\n",
        "num_epochs = model_history.shape[0]\n",
        "\n",
        "ax.plot(np.arange(0, num_epochs), model_history[\"mse\"], \n",
        "        label=\"Training MAE\")\n",
        "ax.plot(np.arange(0, num_epochs), model_history[\"val_mse\"], \n",
        "        label=\"Validation MAE\")\n",
        "ax.legend()\n",
        "\n",
        "plt.tight_layout()\n",
        "plt.show()"
      ],
      "metadata": {
        "id": "Ty4pc7ZXPkd-",
        "colab": {
          "base_uri": "https://localhost:8080/",
          "height": 441
        },
        "outputId": "e7157264-0926-48c1-966b-c2866e32ba16"
      },
      "execution_count": null,
      "outputs": [
        {
          "output_type": "display_data",
          "data": {
            "text/plain": [
              "<Figure size 576x432 with 1 Axes>"
            ],
            "image/png": "[encoded data removed]"
          },
          "metadata": {
            "needs_background": "light"
          }
        }
      ]
    },
    {
      "cell_type": "markdown",
      "source": [
        "### 2. Add custom metrics for callback"
      ],
      "metadata": {
        "id": "LlD5RqvAxezU"
      }
    },
    {
      "cell_type": "code",
      "source": [
        "#initialisizng the model \n",
        "\n",
        "\n",
        "def mae(y_true, y_pred):\n",
        "            \n",
        "    eval = K.abs(y_pred - y_true)\n",
        "    eval = K.mean(eval, axis=-1)\n",
        "        \n",
        "    return eval    \n",
        "\n",
        "def mse(y_true, y_pred):\n",
        "            \n",
        "    eval = K.square(y_pred - y_true)\n",
        "    eval = K.mean(eval, axis=-1)\n",
        "        \n",
        "    return eval \n",
        "\n",
        "#checkpoint = keras.callbacks.ModelCheckpoint(\"forex_price.h5\", save_best_only=True)\n",
        "\n",
        "regression= Sequential()\n",
        "\n",
        "regression.add(GRU(units=280,return_sequences=True,kernel_initializer='glorot_uniform',input_shape=(xtrain.shape[1],xtrain.shape[2])))\n",
        "regression.add(Dropout(0.1))\n",
        "\n",
        "\n",
        "regression.add(GRU(units=280,kernel_initializer='glorot_uniform',return_sequences=True))\n",
        "regression.add(Dropout(0.1))\n",
        "\n",
        "regression.add(GRU(units=280,kernel_initializer='glorot_uniform',return_sequences=True))\n",
        "regression.add(Dropout(0.1))\n",
        "\n",
        "regression.add(GRU(units=280,kernel_initializer='glorot_uniform'))\n",
        "regression.add(Dropout(0.1))\n",
        "\n",
        "regression.add(Dense(units=1))\n",
        "\n",
        "\n",
        "regression.compile(optimizer='adam',loss='mean_squared_error',metrics=[mae])\n",
        "\n",
        "#fitting the network\n",
        "#regression.fit(xtrain,ytrain,batch_size=30,epochs=10)\n",
        "\n",
        "history = regression.fit(\n",
        "    xtrain, ytrain,\n",
        "    epochs=10,\n",
        "    batch_size=30,\n",
        "    validation_split=0.2\n",
        "    #    callbacks=[CustomCallback(regression,xtrain, ytrain)]\n",
        ")"
      ],
      "metadata": {
        "id": "iAQNcOOxxl8B",
        "colab": {
          "base_uri": "https://localhost:8080/"
        },
        "outputId": "54e2345d-ffc8-4f09-d972-ef319d7e82fc"
      },
      "execution_count": 30,
      "outputs": [
        {
          "output_type": "stream",
          "name": "stdout",
          "text": [
            "Epoch 1/10\n",
            "12/12 [==============================] - 15s 419ms/step - loss: 0.3252 - mae: 0.4592 - val_loss: 0.0091 - val_mae: 0.0752\n",
            "Epoch 2/10\n",
            "12/12 [==============================] - 3s 265ms/step - loss: 0.0611 - mae: 0.2103 - val_loss: 0.0073 - val_mae: 0.0734\n",
            "Epoch 3/10\n",
            "12/12 [==============================] - 3s 268ms/step - loss: 0.0242 - mae: 0.1244 - val_loss: 0.0059 - val_mae: 0.0581\n",
            "Epoch 4/10\n",
            "12/12 [==============================] - 3s 269ms/step - loss: 0.0152 - mae: 0.0931 - val_loss: 0.0135 - val_mae: 0.1059\n",
            "Epoch 5/10\n",
            "12/12 [==============================] - 3s 262ms/step - loss: 0.0101 - mae: 0.0791 - val_loss: 0.0043 - val_mae: 0.0546\n",
            "Epoch 6/10\n",
            "12/12 [==============================] - 3s 263ms/step - loss: 0.0060 - mae: 0.0630 - val_loss: 9.6880e-04 - val_mae: 0.0242\n",
            "Epoch 7/10\n",
            "12/12 [==============================] - 3s 266ms/step - loss: 0.0069 - mae: 0.0687 - val_loss: 0.0051 - val_mae: 0.0676\n",
            "Epoch 8/10\n",
            "12/12 [==============================] - 5s 408ms/step - loss: 0.0052 - mae: 0.0586 - val_loss: 7.4088e-04 - val_mae: 0.0250\n",
            "Epoch 9/10\n",
            "12/12 [==============================] - 5s 409ms/step - loss: 0.0048 - mae: 0.0563 - val_loss: 0.0011 - val_mae: 0.0265\n",
            "Epoch 10/10\n",
            "12/12 [==============================] - 4s 291ms/step - loss: 0.0035 - mae: 0.0478 - val_loss: 4.3052e-04 - val_mae: 0.0191\n"
          ]
        }
      ]
    },
    {
      "cell_type": "markdown",
      "source": [
        "### 3. Custom Loss Implementation"
      ],
      "metadata": {
        "id": "UEgx7dO5RfWu"
      }
    },
    {
      "cell_type": "code",
      "source": [
        "\n",
        "def mae(y_true, y_pred):\n",
        "            \n",
        "    eval = K.abs(y_pred - y_true)\n",
        "    eval = K.mean(eval, axis=-1)\n",
        "        \n",
        "    return eval    \n",
        "\n",
        "def mse(y_true, y_pred):\n",
        "            \n",
        "    eval = K.square(y_pred - y_true)\n",
        "    eval = K.mean(eval, axis=-1)\n",
        "        \n",
        "    return eval \n",
        "\n",
        "#checkpoint = keras.callbacks.ModelCheckpoint(\"forex_price.h5\", save_best_only=True)\n",
        "\n",
        "regression= Sequential()\n",
        "\n",
        "regression.add(GRU(units=280,return_sequences=True,kernel_initializer='glorot_uniform',input_shape=(xtrain.shape[1],xtrain.shape[2])))\n",
        "regression.add(Dropout(0.1))\n",
        "\n",
        "\n",
        "regression.add(GRU(units=280,kernel_initializer='glorot_uniform',return_sequences=True))\n",
        "regression.add(Dropout(0.1))\n",
        "\n",
        "regression.add(GRU(units=280,kernel_initializer='glorot_uniform',return_sequences=True))\n",
        "regression.add(Dropout(0.1))\n",
        "\n",
        "regression.add(GRU(units=280,kernel_initializer='glorot_uniform'))\n",
        "regression.add(Dropout(0.1))\n",
        "\n",
        "regression.add(Dense(units=1))\n",
        "\n",
        "regression.compile(optimizer='adam',loss=[mse],metrics=[mae])\n",
        "\n",
        "#fitting the network\n",
        "#regression.fit(xtrain,ytrain,batch_size=30,epochs=10)\n",
        "\n",
        "history = regression.fit(\n",
        "    xtrain, ytrain,\n",
        "    epochs=10,\n",
        "    batch_size=30,\n",
        "    validation_split=0.2\n",
        "    #    callbacks=[CustomCallback(regression,xtrain, ytrain)]\n",
        ")"
      ],
      "metadata": {
        "id": "boD6F31xxnVI",
        "colab": {
          "base_uri": "https://localhost:8080/"
        },
        "outputId": "d7e63bed-1d64-4455-eba6-da2c143f7167"
      },
      "execution_count": 28,
      "outputs": [
        {
          "output_type": "stream",
          "name": "stdout",
          "text": [
            "Epoch 1/10\n",
            "12/12 [==============================] - 15s 441ms/step - loss: 0.3678 - mae: 0.4818 - val_loss: 0.0745 - val_mae: 0.2628\n",
            "Epoch 2/10\n",
            "12/12 [==============================] - 3s 272ms/step - loss: 0.0464 - mae: 0.1756 - val_loss: 0.0076 - val_mae: 0.0660\n",
            "Epoch 3/10\n",
            "12/12 [==============================] - 3s 270ms/step - loss: 0.0170 - mae: 0.1002 - val_loss: 0.0167 - val_mae: 0.1192\n",
            "Epoch 4/10\n",
            "12/12 [==============================] - 3s 266ms/step - loss: 0.0108 - mae: 0.0815 - val_loss: 0.0025 - val_mae: 0.0373\n",
            "Epoch 5/10\n",
            "12/12 [==============================] - 3s 267ms/step - loss: 0.0082 - mae: 0.0722 - val_loss: 0.0025 - val_mae: 0.0388\n",
            "Epoch 6/10\n",
            "12/12 [==============================] - 3s 272ms/step - loss: 0.0060 - mae: 0.0619 - val_loss: 0.0021 - val_mae: 0.0382\n",
            "Epoch 7/10\n",
            "12/12 [==============================] - 3s 275ms/step - loss: 0.0050 - mae: 0.0574 - val_loss: 0.0027 - val_mae: 0.0473\n",
            "Epoch 8/10\n",
            "12/12 [==============================] - 3s 273ms/step - loss: 0.0051 - mae: 0.0569 - val_loss: 9.0120e-04 - val_mae: 0.0237\n",
            "Epoch 9/10\n",
            "12/12 [==============================] - 3s 277ms/step - loss: 0.0038 - mae: 0.0486 - val_loss: 4.4966e-04 - val_mae: 0.0190\n",
            "Epoch 10/10\n",
            "12/12 [==============================] - 3s 286ms/step - loss: 0.0035 - mae: 0.0471 - val_loss: 3.7566e-04 - val_mae: 0.0141\n"
          ]
        }
      ]
    },
    {
      "cell_type": "code",
      "source": [
        "regression.summary()"
      ],
      "metadata": {
        "id": "S25-2ItwJ4Fj",
        "colab": {
          "base_uri": "https://localhost:8080/"
        },
        "outputId": "aa1e3797-e4ae-47b3-d186-2339e61c0d8e"
      },
      "execution_count": 31,
      "outputs": [
        {
          "output_type": "stream",
          "name": "stdout",
          "text": [
            "Model: \"sequential_12\"\n",
            "_________________________________________________________________\n",
            " Layer (type)                Output Shape              Param #   \n",
            "=================================================================\n",
            " gru_48 (GRU)                (None, 16, 280)           287280    \n",
            "                                                                 \n",
            " dropout_48 (Dropout)        (None, 16, 280)           0         \n",
            "                                                                 \n",
            " gru_49 (GRU)                (None, 16, 280)           472080    \n",
            "                                                                 \n",
            " dropout_49 (Dropout)        (None, 16, 280)           0         \n",
            "                                                                 \n",
            " gru_50 (GRU)                (None, 16, 280)           472080    \n",
            "                                                                 \n",
            " dropout_50 (Dropout)        (None, 16, 280)           0         \n",
            "                                                                 \n",
            " gru_51 (GRU)                (None, 280)               472080    \n",
            "                                                                 \n",
            " dropout_51 (Dropout)        (None, 280)               0         \n",
            "                                                                 \n",
            " dense_12 (Dense)            (None, 1)                 281       \n",
            "                                                                 \n",
            "=================================================================\n",
            "Total params: 1,703,801\n",
            "Trainable params: 1,703,801\n",
            "Non-trainable params: 0\n",
            "_________________________________________________________________\n"
          ]
        }
      ]
    },
    {
      "cell_type": "markdown",
      "source": [
        "### 4. Check the perforamnce"
      ],
      "metadata": {
        "id": "GGull540xnqv"
      }
    },
    {
      "cell_type": "code",
      "source": [
        "test_df = yf.download('EURUSD=X', start='2022-01-01', end='2022-06-30')"
      ],
      "metadata": {
        "id": "XbwrsRmjPyTA",
        "colab": {
          "base_uri": "https://localhost:8080/"
        },
        "outputId": "7e2f1195-8b64-4185-df8b-45acc4c3f6d0"
      },
      "execution_count": 32,
      "outputs": [
        {
          "output_type": "stream",
          "name": "stdout",
          "text": [
            "\r[*********************100%***********************]  1 of 1 completed\n"
          ]
        }
      ]
    },
    {
      "cell_type": "code",
      "source": [
        "test_df.head()"
      ],
      "metadata": {
        "id": "ryWYz_tcWUbA",
        "colab": {
          "base_uri": "https://localhost:8080/",
          "height": 238
        },
        "outputId": "39f4f19d-7dbb-4f80-9579-8dba87e65c16"
      },
      "execution_count": 33,
      "outputs": [
        {
          "output_type": "execute_result",
          "data": {
            "text/plain": [
              "                Open      High       Low     Close  Adj Close  Volume\n",
              "Date                                                                 \n",
              "2022-01-03  1.137385  1.137592  1.128541  1.137346   1.137346       0\n",
              "2022-01-04  1.130199  1.132300  1.127345  1.130224   1.130224       0\n",
              "2022-01-05  1.128541  1.134559  1.127764  1.128363   1.128363       0\n",
              "2022-01-06  1.131222  1.133067  1.128554  1.131350   1.131350       0\n",
              "2022-01-07  1.129586  1.135976  1.129050  1.129688   1.129688       0"
            ],
            "text/html": [
              "\n",
              "  <div id=\"df-fcd6b8b2-ba3f-48b8-942b-d1f91223edd3\">\n",
              "    <div class=\"colab-df-container\">\n",
              "      <div>\n",
              "<style scoped>\n",
              "    .dataframe tbody tr th:only-of-type {\n",
              "        vertical-align: middle;\n",
              "    }\n",
              "\n",
              "    .dataframe tbody tr th {\n",
              "        vertical-align: top;\n",
              "    }\n",
              "\n",
              "    .dataframe thead th {\n",
              "        text-align: right;\n",
              "    }\n",
              "</style>\n",
              "<table border=\"1\" class=\"dataframe\">\n",
              "  <thead>\n",
              "    <tr style=\"text-align: right;\">\n",
              "      <th></th>\n",
              "      <th>Open</th>\n",
              "      <th>High</th>\n",
              "      <th>Low</th>\n",
              "      <th>Close</th>\n",
              "      <th>Adj Close</th>\n",
              "      <th>Volume</th>\n",
              "    </tr>\n",
              "    <tr>\n",
              "      <th>Date</th>\n",
              "      <th></th>\n",
              "      <th></th>\n",
              "      <th></th>\n",
              "      <th></th>\n",
              "      <th></th>\n",
              "      <th></th>\n",
              "    </tr>\n",
              "  </thead>\n",
              "  <tbody>\n",
              "    <tr>\n",
              "      <th>2022-01-03</th>\n",
              "      <td>1.137385</td>\n",
              "      <td>1.137592</td>\n",
              "      <td>1.128541</td>\n",
              "      <td>1.137346</td>\n",
              "      <td>1.137346</td>\n",
              "      <td>0</td>\n",
              "    </tr>\n",
              "    <tr>\n",
              "      <th>2022-01-04</th>\n",
              "      <td>1.130199</td>\n",
              "      <td>1.132300</td>\n",
              "      <td>1.127345</td>\n",
              "      <td>1.130224</td>\n",
              "      <td>1.130224</td>\n",
              "      <td>0</td>\n",
              "    </tr>\n",
              "    <tr>\n",
              "      <th>2022-01-05</th>\n",
              "      <td>1.128541</td>\n",
              "      <td>1.134559</td>\n",
              "      <td>1.127764</td>\n",
              "      <td>1.128363</td>\n",
              "      <td>1.128363</td>\n",
              "      <td>0</td>\n",
              "    </tr>\n",
              "    <tr>\n",
              "      <th>2022-01-06</th>\n",
              "      <td>1.131222</td>\n",
              "      <td>1.133067</td>\n",
              "      <td>1.128554</td>\n",
              "      <td>1.131350</td>\n",
              "      <td>1.131350</td>\n",
              "      <td>0</td>\n",
              "    </tr>\n",
              "    <tr>\n",
              "      <th>2022-01-07</th>\n",
              "      <td>1.129586</td>\n",
              "      <td>1.135976</td>\n",
              "      <td>1.129050</td>\n",
              "      <td>1.129688</td>\n",
              "      <td>1.129688</td>\n",
              "      <td>0</td>\n",
              "    </tr>\n",
              "  </tbody>\n",
              "</table>\n",
              "</div>\n",
              "      <button class=\"colab-df-convert\" onclick=\"convertToInteractive('df-fcd6b8b2-ba3f-48b8-942b-d1f91223edd3')\"\n",
              "              title=\"Convert this dataframe to an interactive table.\"\n",
              "              style=\"display:none;\">\n",
              "        \n",
              "  <svg xmlns=\"http://www.w3.org/2000/svg\" height=\"24px\"viewBox=\"0 0 24 24\"\n",
              "       width=\"24px\">\n",
              "    <path d=\"M0 0h24v24H0V0z\" fill=\"none\"/>\n",
              "    <path d=\"M18.56 5.44l.94 2.06.94-2.06 2.06-.94-2.06-.94-.94-2.06-.94 2.06-2.06.94zm-11 1L8.5 8.5l.94-2.06 2.06-.94-2.06-.94L8.5 2.5l-.94 2.06-2.06.94zm10 10l.94 2.06.94-2.06 2.06-.94-2.06-.94-.94-2.06-.94 2.06-2.06.94z\"/><path d=\"M17.41 7.96l-1.37-1.37c-.4-.4-.92-.59-1.43-.59-.52 0-1.04.2-1.43.59L10.3 9.45l-7.72 7.72c-.78.78-.78 2.05 0 2.83L4 21.41c.39.39.9.59 1.41.59.51 0 1.02-.2 1.41-.59l7.78-7.78 2.81-2.81c.8-.78.8-2.07 0-2.86zM5.41 20L4 18.59l7.72-7.72 1.47 1.35L5.41 20z\"/>\n",
              "  </svg>\n",
              "      </button>\n",
              "      \n",
              "  <style>\n",
              "    .colab-df-container {\n",
              "      display:flex;\n",
              "      flex-wrap:wrap;\n",
              "      gap: 12px;\n",
              "    }\n",
              "\n",
              "    .colab-df-convert {\n",
              "      background-color: #E8F0FE;\n",
              "      border: none;\n",
              "      border-radius: 50%;\n",
              "      cursor: pointer;\n",
              "      display: none;\n",
              "      fill: #1967D2;\n",
              "      height: 32px;\n",
              "      padding: 0 0 0 0;\n",
              "      width: 32px;\n",
              "    }\n",
              "\n",
              "    .colab-df-convert:hover {\n",
              "      background-color: #E2EBFA;\n",
              "      box-shadow: 0px 1px 2px rgba(60, 64, 67, 0.3), 0px 1px 3px 1px rgba(60, 64, 67, 0.15);\n",
              "      fill: #174EA6;\n",
              "    }\n",
              "\n",
              "    [theme=dark] .colab-df-convert {\n",
              "      background-color: #3B4455;\n",
              "      fill: #D2E3FC;\n",
              "    }\n",
              "\n",
              "    [theme=dark] .colab-df-convert:hover {\n",
              "      background-color: #434B5C;\n",
              "      box-shadow: 0px 1px 3px 1px rgba(0, 0, 0, 0.15);\n",
              "      filter: drop-shadow(0px 1px 2px rgba(0, 0, 0, 0.3));\n",
              "      fill: #FFFFFF;\n",
              "    }\n",
              "  </style>\n",
              "\n",
              "      <script>\n",
              "        const buttonEl =\n",
              "          document.querySelector('#df-fcd6b8b2-ba3f-48b8-942b-d1f91223edd3 button.colab-df-convert');\n",
              "        buttonEl.style.display =\n",
              "          google.colab.kernel.accessAllowed ? 'block' : 'none';\n",
              "\n",
              "        async function convertToInteractive(key) {\n",
              "          const element = document.querySelector('#df-fcd6b8b2-ba3f-48b8-942b-d1f91223edd3');\n",
              "          const dataTable =\n",
              "            await google.colab.kernel.invokeFunction('convertToInteractive',\n",
              "                                                     [key], {});\n",
              "          if (!dataTable) return;\n",
              "\n",
              "          const docLinkHtml = 'Like what you see? Visit the ' +\n",
              "            '<a target=\"_blank\" href=https://colab.research.google.com/notebooks/data_table.ipynb>data table notebook</a>'\n",
              "            + ' to learn more about interactive tables.';\n",
              "          element.innerHTML = '';\n",
              "          dataTable['output_type'] = 'display_data';\n",
              "          await google.colab.output.renderOutput(dataTable, element);\n",
              "          const docLink = document.createElement('div');\n",
              "          docLink.innerHTML = docLinkHtml;\n",
              "          element.appendChild(docLink);\n",
              "        }\n",
              "      </script>\n",
              "    </div>\n",
              "  </div>\n",
              "  "
            ]
          },
          "metadata": {},
          "execution_count": 33
        }
      ]
    },
    {
      "cell_type": "code",
      "source": [
        "#Add new features\n",
        "test_df[\"ho\"]=(((test_df.High-test_df.Open)/test_df.Open)*100)\n",
        "test_df[\"ol\"]=(((test_df.Open-test_df.Low)/test_df.Open)*100)\n",
        "test_df[\"oc\"]=(((test_df.Open-test_df.Close)/test_df.Open)*100)\n",
        "test_df[\"hl\"]=(((test_df.High-test_df.Low)/test_df.Low)*100)\n",
        "test_df['rsi']=ta.momentum.rsi(test_df[\"Close\"], window=14, fillna=False)\n",
        "test_df['roc']=ta.momentum.roc(test_df['Close'], window = 14, fillna = False)\n",
        "test_df['macd']=ta.trend.macd(test_df['Close'], window_slow=26, window_fast=12, fillna=False)\n",
        "test_df['ema']=ta.trend.ema_indicator(test_df['Close'], window = 14, fillna = False)\n",
        "test_df['sma']=ta.trend.sma_indicator(test_df['Close'], window = 14, fillna = False)\n",
        "test_df['ma']=ta.momentum.kama(test_df[\"Close\"], window =10, pow1=2, pow2=30, fillna=False)"
      ],
      "metadata": {
        "id": "GkzqKf3KpV4y"
      },
      "execution_count": 34,
      "outputs": []
    },
    {
      "cell_type": "code",
      "source": [
        "test_df.shape"
      ],
      "metadata": {
        "id": "f-CGvE0FpcOl",
        "colab": {
          "base_uri": "https://localhost:8080/"
        },
        "outputId": "633fe919-12ff-4d24-bee7-0a6efb61cccf"
      },
      "execution_count": 35,
      "outputs": [
        {
          "output_type": "execute_result",
          "data": {
            "text/plain": [
              "(129, 16)"
            ]
          },
          "metadata": {},
          "execution_count": 35
        }
      ]
    },
    {
      "cell_type": "code",
      "source": [
        "test = test_df.copy()"
      ],
      "metadata": {
        "id": "Q-mY7MPQpfGv"
      },
      "execution_count": 36,
      "outputs": []
    },
    {
      "cell_type": "code",
      "source": [
        "test = test.dropna()\n"
      ],
      "metadata": {
        "id": "cStIiXUsWtjz"
      },
      "execution_count": 37,
      "outputs": []
    },
    {
      "cell_type": "code",
      "source": [
        "test.head()"
      ],
      "metadata": {
        "id": "cngfJCitWufd",
        "colab": {
          "base_uri": "https://localhost:8080/",
          "height": 406
        },
        "outputId": "f8100c02-a0e2-43a2-ab85-5a4816e5280a"
      },
      "execution_count": 38,
      "outputs": [
        {
          "output_type": "execute_result",
          "data": {
            "text/plain": [
              "                Open      High       Low     Close  Adj Close  Volume  \\\n",
              "Date                                                                    \n",
              "2022-02-07  1.145462  1.146000  1.141670  1.145515   1.145515       0   \n",
              "2022-02-08  1.144086  1.145082  1.139705  1.144296   1.144296       0   \n",
              "2022-02-09  1.142113  1.144700  1.140329  1.142126   1.142126       0   \n",
              "2022-02-10  1.142126  1.149425  1.138084  1.142152   1.142152       0   \n",
              "2022-02-11  1.141175  1.141901  1.137126  1.141553   1.141553       0   \n",
              "\n",
              "                  ho        ol        oc        hl        rsi       roc  \\\n",
              "Date                                                                      \n",
              "2022-02-07  0.046978  0.331081 -0.004579  0.379314  62.587029  0.390623   \n",
              "2022-02-08  0.087025  0.382941 -0.018307  0.471773  61.100646  1.000116   \n",
              "2022-02-09  0.226538  0.156220 -0.001148  0.383356  58.440609  0.686415   \n",
              "2022-02-10  0.639077  0.353946 -0.002275  0.996550  58.463936  0.952547   \n",
              "2022-02-11  0.063607  0.354784 -0.033114  0.419881  57.659743  0.652970   \n",
              "\n",
              "                macd       ema       sma        ma  \n",
              "Date                                                \n",
              "2022-02-07 -0.000391  1.132311  1.129960  1.129164  \n",
              "2022-02-08  0.000583  1.133909  1.130769  1.129821  \n",
              "2022-02-09  0.001167  1.135004  1.131325  1.130339  \n",
              "2022-02-10  0.001613  1.135957  1.132095  1.131466  \n",
              "2022-02-11  0.001897  1.136703  1.132624  1.134286  "
            ],
            "text/html": [
              "\n",
              "  <div id=\"df-d8a0b5e1-41a1-4f1d-a151-0cf8cc832c58\">\n",
              "    <div class=\"colab-df-container\">\n",
              "      <div>\n",
              "<style scoped>\n",
              "    .dataframe tbody tr th:only-of-type {\n",
              "        vertical-align: middle;\n",
              "    }\n",
              "\n",
              "    .dataframe tbody tr th {\n",
              "        vertical-align: top;\n",
              "    }\n",
              "\n",
              "    .dataframe thead th {\n",
              "        text-align: right;\n",
              "    }\n",
              "</style>\n",
              "<table border=\"1\" class=\"dataframe\">\n",
              "  <thead>\n",
              "    <tr style=\"text-align: right;\">\n",
              "      <th></th>\n",
              "      <th>Open</th>\n",
              "      <th>High</th>\n",
              "      <th>Low</th>\n",
              "      <th>Close</th>\n",
              "      <th>Adj Close</th>\n",
              "      <th>Volume</th>\n",
              "      <th>ho</th>\n",
              "      <th>ol</th>\n",
              "      <th>oc</th>\n",
              "      <th>hl</th>\n",
              "      <th>rsi</th>\n",
              "      <th>roc</th>\n",
              "      <th>macd</th>\n",
              "      <th>ema</th>\n",
              "      <th>sma</th>\n",
              "      <th>ma</th>\n",
              "    </tr>\n",
              "    <tr>\n",
              "      <th>Date</th>\n",
              "      <th></th>\n",
              "      <th></th>\n",
              "      <th></th>\n",
              "      <th></th>\n",
              "      <th></th>\n",
              "      <th></th>\n",
              "      <th></th>\n",
              "      <th></th>\n",
              "      <th></th>\n",
              "      <th></th>\n",
              "      <th></th>\n",
              "      <th></th>\n",
              "      <th></th>\n",
              "      <th></th>\n",
              "      <th></th>\n",
              "      <th></th>\n",
              "    </tr>\n",
              "  </thead>\n",
              "  <tbody>\n",
              "    <tr>\n",
              "      <th>2022-02-07</th>\n",
              "      <td>1.145462</td>\n",
              "      <td>1.146000</td>\n",
              "      <td>1.141670</td>\n",
              "      <td>1.145515</td>\n",
              "      <td>1.145515</td>\n",
              "      <td>0</td>\n",
              "      <td>0.046978</td>\n",
              "      <td>0.331081</td>\n",
              "      <td>-0.004579</td>\n",
              "      <td>0.379314</td>\n",
              "      <td>62.587029</td>\n",
              "      <td>0.390623</td>\n",
              "      <td>-0.000391</td>\n",
              "      <td>1.132311</td>\n",
              "      <td>1.129960</td>\n",
              "      <td>1.129164</td>\n",
              "    </tr>\n",
              "    <tr>\n",
              "      <th>2022-02-08</th>\n",
              "      <td>1.144086</td>\n",
              "      <td>1.145082</td>\n",
              "      <td>1.139705</td>\n",
              "      <td>1.144296</td>\n",
              "      <td>1.144296</td>\n",
              "      <td>0</td>\n",
              "      <td>0.087025</td>\n",
              "      <td>0.382941</td>\n",
              "      <td>-0.018307</td>\n",
              "      <td>0.471773</td>\n",
              "      <td>61.100646</td>\n",
              "      <td>1.000116</td>\n",
              "      <td>0.000583</td>\n",
              "      <td>1.133909</td>\n",
              "      <td>1.130769</td>\n",
              "      <td>1.129821</td>\n",
              "    </tr>\n",
              "    <tr>\n",
              "      <th>2022-02-09</th>\n",
              "      <td>1.142113</td>\n",
              "      <td>1.144700</td>\n",
              "      <td>1.140329</td>\n",
              "      <td>1.142126</td>\n",
              "      <td>1.142126</td>\n",
              "      <td>0</td>\n",
              "      <td>0.226538</td>\n",
              "      <td>0.156220</td>\n",
              "      <td>-0.001148</td>\n",
              "      <td>0.383356</td>\n",
              "      <td>58.440609</td>\n",
              "      <td>0.686415</td>\n",
              "      <td>0.001167</td>\n",
              "      <td>1.135004</td>\n",
              "      <td>1.131325</td>\n",
              "      <td>1.130339</td>\n",
              "    </tr>\n",
              "    <tr>\n",
              "      <th>2022-02-10</th>\n",
              "      <td>1.142126</td>\n",
              "      <td>1.149425</td>\n",
              "      <td>1.138084</td>\n",
              "      <td>1.142152</td>\n",
              "      <td>1.142152</td>\n",
              "      <td>0</td>\n",
              "      <td>0.639077</td>\n",
              "      <td>0.353946</td>\n",
              "      <td>-0.002275</td>\n",
              "      <td>0.996550</td>\n",
              "      <td>58.463936</td>\n",
              "      <td>0.952547</td>\n",
              "      <td>0.001613</td>\n",
              "      <td>1.135957</td>\n",
              "      <td>1.132095</td>\n",
              "      <td>1.131466</td>\n",
              "    </tr>\n",
              "    <tr>\n",
              "      <th>2022-02-11</th>\n",
              "      <td>1.141175</td>\n",
              "      <td>1.141901</td>\n",
              "      <td>1.137126</td>\n",
              "      <td>1.141553</td>\n",
              "      <td>1.141553</td>\n",
              "      <td>0</td>\n",
              "      <td>0.063607</td>\n",
              "      <td>0.354784</td>\n",
              "      <td>-0.033114</td>\n",
              "      <td>0.419881</td>\n",
              "      <td>57.659743</td>\n",
              "      <td>0.652970</td>\n",
              "      <td>0.001897</td>\n",
              "      <td>1.136703</td>\n",
              "      <td>1.132624</td>\n",
              "      <td>1.134286</td>\n",
              "    </tr>\n",
              "  </tbody>\n",
              "</table>\n",
              "</div>\n",
              "      <button class=\"colab-df-convert\" onclick=\"convertToInteractive('df-d8a0b5e1-41a1-4f1d-a151-0cf8cc832c58')\"\n",
              "              title=\"Convert this dataframe to an interactive table.\"\n",
              "              style=\"display:none;\">\n",
              "        \n",
              "  <svg xmlns=\"http://www.w3.org/2000/svg\" height=\"24px\"viewBox=\"0 0 24 24\"\n",
              "       width=\"24px\">\n",
              "    <path d=\"M0 0h24v24H0V0z\" fill=\"none\"/>\n",
              "    <path d=\"M18.56 5.44l.94 2.06.94-2.06 2.06-.94-2.06-.94-.94-2.06-.94 2.06-2.06.94zm-11 1L8.5 8.5l.94-2.06 2.06-.94-2.06-.94L8.5 2.5l-.94 2.06-2.06.94zm10 10l.94 2.06.94-2.06 2.06-.94-2.06-.94-.94-2.06-.94 2.06-2.06.94z\"/><path d=\"M17.41 7.96l-1.37-1.37c-.4-.4-.92-.59-1.43-.59-.52 0-1.04.2-1.43.59L10.3 9.45l-7.72 7.72c-.78.78-.78 2.05 0 2.83L4 21.41c.39.39.9.59 1.41.59.51 0 1.02-.2 1.41-.59l7.78-7.78 2.81-2.81c.8-.78.8-2.07 0-2.86zM5.41 20L4 18.59l7.72-7.72 1.47 1.35L5.41 20z\"/>\n",
              "  </svg>\n",
              "      </button>\n",
              "      \n",
              "  <style>\n",
              "    .colab-df-container {\n",
              "      display:flex;\n",
              "      flex-wrap:wrap;\n",
              "      gap: 12px;\n",
              "    }\n",
              "\n",
              "    .colab-df-convert {\n",
              "      background-color: #E8F0FE;\n",
              "      border: none;\n",
              "      border-radius: 50%;\n",
              "      cursor: pointer;\n",
              "      display: none;\n",
              "      fill: #1967D2;\n",
              "      height: 32px;\n",
              "      padding: 0 0 0 0;\n",
              "      width: 32px;\n",
              "    }\n",
              "\n",
              "    .colab-df-convert:hover {\n",
              "      background-color: #E2EBFA;\n",
              "      box-shadow: 0px 1px 2px rgba(60, 64, 67, 0.3), 0px 1px 3px 1px rgba(60, 64, 67, 0.15);\n",
              "      fill: #174EA6;\n",
              "    }\n",
              "\n",
              "    [theme=dark] .colab-df-convert {\n",
              "      background-color: #3B4455;\n",
              "      fill: #D2E3FC;\n",
              "    }\n",
              "\n",
              "    [theme=dark] .colab-df-convert:hover {\n",
              "      background-color: #434B5C;\n",
              "      box-shadow: 0px 1px 3px 1px rgba(0, 0, 0, 0.15);\n",
              "      filter: drop-shadow(0px 1px 2px rgba(0, 0, 0, 0.3));\n",
              "      fill: #FFFFFF;\n",
              "    }\n",
              "  </style>\n",
              "\n",
              "      <script>\n",
              "        const buttonEl =\n",
              "          document.querySelector('#df-d8a0b5e1-41a1-4f1d-a151-0cf8cc832c58 button.colab-df-convert');\n",
              "        buttonEl.style.display =\n",
              "          google.colab.kernel.accessAllowed ? 'block' : 'none';\n",
              "\n",
              "        async function convertToInteractive(key) {\n",
              "          const element = document.querySelector('#df-d8a0b5e1-41a1-4f1d-a151-0cf8cc832c58');\n",
              "          const dataTable =\n",
              "            await google.colab.kernel.invokeFunction('convertToInteractive',\n",
              "                                                     [key], {});\n",
              "          if (!dataTable) return;\n",
              "\n",
              "          const docLinkHtml = 'Like what you see? Visit the ' +\n",
              "            '<a target=\"_blank\" href=https://colab.research.google.com/notebooks/data_table.ipynb>data table notebook</a>'\n",
              "            + ' to learn more about interactive tables.';\n",
              "          element.innerHTML = '';\n",
              "          dataTable['output_type'] = 'display_data';\n",
              "          await google.colab.output.renderOutput(dataTable, element);\n",
              "          const docLink = document.createElement('div');\n",
              "          docLink.innerHTML = docLinkHtml;\n",
              "          element.appendChild(docLink);\n",
              "        }\n",
              "      </script>\n",
              "    </div>\n",
              "  </div>\n",
              "  "
            ]
          },
          "metadata": {},
          "execution_count": 38
        }
      ]
    },
    {
      "cell_type": "code",
      "source": [
        "test.shape"
      ],
      "metadata": {
        "id": "TZUgSyo0ptXB",
        "colab": {
          "base_uri": "https://localhost:8080/"
        },
        "outputId": "38c9a223-5563-4a5e-d2e9-3c8dd8df8113"
      },
      "execution_count": 39,
      "outputs": [
        {
          "output_type": "execute_result",
          "data": {
            "text/plain": [
              "(104, 16)"
            ]
          },
          "metadata": {},
          "execution_count": 39
        }
      ]
    },
    {
      "cell_type": "code",
      "source": [
        "total= pd.concat([df,test],axis=0) # Concating train and test and then will take last 60 train point\n"
      ],
      "metadata": {
        "id": "_ypxCCR3W2Ns"
      },
      "execution_count": 40,
      "outputs": []
    },
    {
      "cell_type": "code",
      "source": [
        "total.shape"
      ],
      "metadata": {
        "id": "GU6HJvHbpv9x",
        "colab": {
          "base_uri": "https://localhost:8080/"
        },
        "outputId": "92e72883-288e-46fd-b868-403494ba70f7"
      },
      "execution_count": 41,
      "outputs": [
        {
          "output_type": "execute_result",
          "data": {
            "text/plain": [
              "(602, 16)"
            ]
          },
          "metadata": {},
          "execution_count": 41
        }
      ]
    },
    {
      "cell_type": "code",
      "source": [
        "test_input = total[len(total)-len(test)-60:].values\n",
        "#test_input= test_input.reshape(-1,1) # reshaping it to get it transformed\n",
        "test_input= ss.transform(test_input)"
      ],
      "metadata": {
        "id": "SdDoFzUxfg4U"
      },
      "execution_count": 42,
      "outputs": []
    },
    {
      "cell_type": "code",
      "source": [
        "xtest= []\n",
        "for i in range(60,80):\n",
        "    xtest.append(test_input[i-60:i,:]) #creating input for lstm prediction"
      ],
      "metadata": {
        "id": "bMGq7URIfg6b"
      },
      "execution_count": 43,
      "outputs": []
    },
    {
      "cell_type": "code",
      "source": [
        "xtest= np.array(xtest)"
      ],
      "metadata": {
        "id": "QQIRk6llgSXR"
      },
      "execution_count": 44,
      "outputs": []
    },
    {
      "cell_type": "code",
      "source": [
        "xtest.shape"
      ],
      "metadata": {
        "id": "oAKyNXAzgeYb",
        "colab": {
          "base_uri": "https://localhost:8080/"
        },
        "outputId": "1d1b96b7-d0d3-4031-bc63-29890cd31cde"
      },
      "execution_count": 45,
      "outputs": [
        {
          "output_type": "execute_result",
          "data": {
            "text/plain": [
              "(20, 60, 16)"
            ]
          },
          "metadata": {},
          "execution_count": 45
        }
      ]
    },
    {
      "cell_type": "code",
      "source": [
        "xtest= np.reshape(xtest,(xtest.shape[0],xtest.shape[2],xtest.shape[1]))"
      ],
      "metadata": {
        "id": "5zkxI79RSIQl"
      },
      "execution_count": 46,
      "outputs": []
    },
    {
      "cell_type": "code",
      "source": [
        "#xtest= np.reshape(xtest,(xtest.shape[0],xtest.shape[1],1))\n",
        "predicted_value= regression.predict(xtest)"
      ],
      "metadata": {
        "id": "Y6FEHk3RgUeq"
      },
      "execution_count": 47,
      "outputs": []
    },
    {
      "cell_type": "code",
      "source": [
        "#predicted_value_inverted = ss.inverse_transform(predicted_value)"
      ],
      "metadata": {
        "id": "YKw5j3YpgkFu"
      },
      "execution_count": 48,
      "outputs": []
    },
    {
      "cell_type": "code",
      "source": [
        "test_actual = np.array(test[0:20]['Adj Close'])"
      ],
      "metadata": {
        "id": "NoKgrfYmg7G3"
      },
      "execution_count": 49,
      "outputs": []
    },
    {
      "cell_type": "code",
      "source": [
        "test_actual.shape"
      ],
      "metadata": {
        "id": "tOzhmKQ3hIR8",
        "colab": {
          "base_uri": "https://localhost:8080/"
        },
        "outputId": "d42b8704-09f5-4a1f-9fe2-ec26b8cce2aa"
      },
      "execution_count": 50,
      "outputs": [
        {
          "output_type": "execute_result",
          "data": {
            "text/plain": [
              "(20,)"
            ]
          },
          "metadata": {},
          "execution_count": 50
        }
      ]
    },
    {
      "cell_type": "code",
      "source": [
        "predicted_value.shape"
      ],
      "metadata": {
        "id": "TKPqmtjYhLod",
        "colab": {
          "base_uri": "https://localhost:8080/"
        },
        "outputId": "b18c256a-153d-476e-c299-750067a1a0c8"
      },
      "execution_count": 51,
      "outputs": [
        {
          "output_type": "execute_result",
          "data": {
            "text/plain": [
              "(20, 1)"
            ]
          },
          "metadata": {},
          "execution_count": 51
        }
      ]
    },
    {
      "cell_type": "code",
      "source": [
        "r2_score(test_actual, predicted_value)"
      ],
      "metadata": {
        "id": "zduefkWBowre",
        "colab": {
          "base_uri": "https://localhost:8080/"
        },
        "outputId": "de805d23-022a-4acb-fa44-383bab3969d7"
      },
      "execution_count": 52,
      "outputs": [
        {
          "output_type": "execute_result",
          "data": {
            "text/plain": [
              "-1.574706873826671"
            ]
          },
          "metadata": {},
          "execution_count": 52
        }
      ]
    },
    {
      "cell_type": "markdown",
      "source": [
        "As we see R-Squared score increased from -22.24741605656513 to -0.31 although it is not still a reliable model, so we will try to model as a classification problem."
      ],
      "metadata": {
        "id": "n0pIM5vXsx-P"
      }
    },
    {
      "cell_type": "markdown",
      "source": [
        "### 5. Plot the Data"
      ],
      "metadata": {
        "id": "I8-pdGJWqVFi"
      }
    },
    {
      "cell_type": "code",
      "source": [
        "plt.figure(figsize=(20,10))\n",
        "plt.plot(test_actual,'red',label='Real Prices')\n",
        "plt.plot(predicted_value,'blue',label='Predicted Prices')\n",
        "plt.xlabel('Time')\n",
        "plt.ylabel('Prices')\n",
        "plt.title('Real vs Predicted Prices')\n",
        "plt.legend(loc='best', fontsize=20)"
      ],
      "metadata": {
        "id": "TIWOvNxIgq6t",
        "colab": {
          "base_uri": "https://localhost:8080/",
          "height": 634
        },
        "outputId": "c044337c-9448-49fb-9a68-83c79ad63f44"
      },
      "execution_count": 53,
      "outputs": [
        {
          "output_type": "execute_result",
          "data": {
            "text/plain": [
              "<matplotlib.legend.Legend at 0x7ff9647e9a50>"
            ]
          },
          "metadata": {},
          "execution_count": 53
        },
        {
          "output_type": "display_data",
          "data": {
            "text/plain": [
              "<Figure size 1440x720 with 1 Axes>"
            ],
            "image/png": "[encoded data removed]"
          },
          "metadata": {
            "needs_background": "light"
          }
        }
      ]
    },
    {
      "cell_type": "code",
      "source": [
        ""
      ],
      "metadata": {
        "id": "7cIH9LEzFbl0"
      },
      "execution_count": 53,
      "outputs": []
    }
  ]
}