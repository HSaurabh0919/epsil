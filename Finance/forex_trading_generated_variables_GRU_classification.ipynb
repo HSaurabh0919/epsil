{
  "nbformat": 4,
  "nbformat_minor": 0,
  "metadata": {
    "colab": {
      "name": "forex_trading_generated_variables_GRU_classification.ipynb",
      "provenance": [],
      "collapsed_sections": [],
      "authorship_tag": "ABX9TyMn6GLpPWe202am6ieZJckN"
    },
    "kernelspec": {
      "name": "python3",
      "display_name": "Python 3"
    },
    "language_info": {
      "name": "python"
    }
  },
  "cells": [
    {
      "cell_type": "code",
      "execution_count": null,
      "metadata": {
        "id": "7Kx0uDdqIt35"
      },
      "outputs": [],
      "source": [
        "!pip install yfinance"
      ]
    },
    {
      "cell_type": "code",
      "source": [
        "!pip install ta"
      ],
      "metadata": {
        "id": "wl-Yv2TIkJmr"
      },
      "execution_count": null,
      "outputs": []
    },
    {
      "cell_type": "code",
      "source": [
        "import pandas as pd \n",
        "import numpy as np\n",
        "import matplotlib.pyplot as plt\n",
        "import yfinance as yf\n",
        "import warnings\n",
        "import ta\n",
        "warnings.filterwarnings('ignore')"
      ],
      "metadata": {
        "id": "6F8N5vi1I7g2"
      },
      "execution_count": 2,
      "outputs": []
    },
    {
      "cell_type": "code",
      "source": [
        "from sklearn.metrics import r2_score"
      ],
      "metadata": {
        "id": "WvZsUQW9oyUU"
      },
      "execution_count": 3,
      "outputs": []
    },
    {
      "cell_type": "code",
      "source": [
        "from keras.models import Sequential\n",
        "from keras.layers import GRU\n",
        "from keras.layers import Dense\n",
        "from keras.layers import Dropout\n",
        "import keras"
      ],
      "metadata": {
        "id": "BTsckaMbmECJ"
      },
      "execution_count": 67,
      "outputs": []
    },
    {
      "cell_type": "code",
      "source": [
        "from sklearn.metrics import accuracy_score\n",
        "from sklearn.metrics import confusion_matrix"
      ],
      "metadata": {
        "id": "VNe4taXcqicj"
      },
      "execution_count": 152,
      "outputs": []
    },
    {
      "cell_type": "markdown",
      "source": [
        "### Training Data Processing"
      ],
      "metadata": {
        "id": "mqi2pxWdmnE0"
      }
    },
    {
      "cell_type": "code",
      "source": [
        "df = yf.download('EURUSD=X', start='2020-01-01', end='2021-12-31')"
      ],
      "metadata": {
        "colab": {
          "base_uri": "https://localhost:8080/"
        },
        "id": "RIZZhuxWI7jm",
        "outputId": "e77e1371-03f3-4387-95b2-f5ef4feb72db"
      },
      "execution_count": 167,
      "outputs": [
        {
          "output_type": "stream",
          "name": "stdout",
          "text": [
            "\r[*********************100%***********************]  1 of 1 completed\n"
          ]
        }
      ]
    },
    {
      "cell_type": "code",
      "source": [
        "df.head(2)"
      ],
      "metadata": {
        "colab": {
          "base_uri": "https://localhost:8080/",
          "height": 143
        },
        "id": "DJCBIlopI7mI",
        "outputId": "5380e04f-453d-4ee2-a7c9-197168d269aa"
      },
      "execution_count": 168,
      "outputs": [
        {
          "output_type": "execute_result",
          "data": {
            "text/plain": [
              "                Open      High       Low     Close  Adj Close  Volume\n",
              "Date                                                                 \n",
              "2020-01-01  1.122083  1.122838  1.115947  1.122083   1.122083       0\n",
              "2020-01-02  1.121894  1.122712  1.116682  1.122083   1.122083       0"
            ],
            "text/html": [
              "\n",
              "  <div id=\"df-512c5575-ff95-4b11-bead-79bc997e0a42\">\n",
              "    <div class=\"colab-df-container\">\n",
              "      <div>\n",
              "<style scoped>\n",
              "    .dataframe tbody tr th:only-of-type {\n",
              "        vertical-align: middle;\n",
              "    }\n",
              "\n",
              "    .dataframe tbody tr th {\n",
              "        vertical-align: top;\n",
              "    }\n",
              "\n",
              "    .dataframe thead th {\n",
              "        text-align: right;\n",
              "    }\n",
              "</style>\n",
              "<table border=\"1\" class=\"dataframe\">\n",
              "  <thead>\n",
              "    <tr style=\"text-align: right;\">\n",
              "      <th></th>\n",
              "      <th>Open</th>\n",
              "      <th>High</th>\n",
              "      <th>Low</th>\n",
              "      <th>Close</th>\n",
              "      <th>Adj Close</th>\n",
              "      <th>Volume</th>\n",
              "    </tr>\n",
              "    <tr>\n",
              "      <th>Date</th>\n",
              "      <th></th>\n",
              "      <th></th>\n",
              "      <th></th>\n",
              "      <th></th>\n",
              "      <th></th>\n",
              "      <th></th>\n",
              "    </tr>\n",
              "  </thead>\n",
              "  <tbody>\n",
              "    <tr>\n",
              "      <th>2020-01-01</th>\n",
              "      <td>1.122083</td>\n",
              "      <td>1.122838</td>\n",
              "      <td>1.115947</td>\n",
              "      <td>1.122083</td>\n",
              "      <td>1.122083</td>\n",
              "      <td>0</td>\n",
              "    </tr>\n",
              "    <tr>\n",
              "      <th>2020-01-02</th>\n",
              "      <td>1.121894</td>\n",
              "      <td>1.122712</td>\n",
              "      <td>1.116682</td>\n",
              "      <td>1.122083</td>\n",
              "      <td>1.122083</td>\n",
              "      <td>0</td>\n",
              "    </tr>\n",
              "  </tbody>\n",
              "</table>\n",
              "</div>\n",
              "      <button class=\"colab-df-convert\" onclick=\"convertToInteractive('df-512c5575-ff95-4b11-bead-79bc997e0a42')\"\n",
              "              title=\"Convert this dataframe to an interactive table.\"\n",
              "              style=\"display:none;\">\n",
              "        \n",
              "  <svg xmlns=\"http://www.w3.org/2000/svg\" height=\"24px\"viewBox=\"0 0 24 24\"\n",
              "       width=\"24px\">\n",
              "    <path d=\"M0 0h24v24H0V0z\" fill=\"none\"/>\n",
              "    <path d=\"M18.56 5.44l.94 2.06.94-2.06 2.06-.94-2.06-.94-.94-2.06-.94 2.06-2.06.94zm-11 1L8.5 8.5l.94-2.06 2.06-.94-2.06-.94L8.5 2.5l-.94 2.06-2.06.94zm10 10l.94 2.06.94-2.06 2.06-.94-2.06-.94-.94-2.06-.94 2.06-2.06.94z\"/><path d=\"M17.41 7.96l-1.37-1.37c-.4-.4-.92-.59-1.43-.59-.52 0-1.04.2-1.43.59L10.3 9.45l-7.72 7.72c-.78.78-.78 2.05 0 2.83L4 21.41c.39.39.9.59 1.41.59.51 0 1.02-.2 1.41-.59l7.78-7.78 2.81-2.81c.8-.78.8-2.07 0-2.86zM5.41 20L4 18.59l7.72-7.72 1.47 1.35L5.41 20z\"/>\n",
              "  </svg>\n",
              "      </button>\n",
              "      \n",
              "  <style>\n",
              "    .colab-df-container {\n",
              "      display:flex;\n",
              "      flex-wrap:wrap;\n",
              "      gap: 12px;\n",
              "    }\n",
              "\n",
              "    .colab-df-convert {\n",
              "      background-color: #E8F0FE;\n",
              "      border: none;\n",
              "      border-radius: 50%;\n",
              "      cursor: pointer;\n",
              "      display: none;\n",
              "      fill: #1967D2;\n",
              "      height: 32px;\n",
              "      padding: 0 0 0 0;\n",
              "      width: 32px;\n",
              "    }\n",
              "\n",
              "    .colab-df-convert:hover {\n",
              "      background-color: #E2EBFA;\n",
              "      box-shadow: 0px 1px 2px rgba(60, 64, 67, 0.3), 0px 1px 3px 1px rgba(60, 64, 67, 0.15);\n",
              "      fill: #174EA6;\n",
              "    }\n",
              "\n",
              "    [theme=dark] .colab-df-convert {\n",
              "      background-color: #3B4455;\n",
              "      fill: #D2E3FC;\n",
              "    }\n",
              "\n",
              "    [theme=dark] .colab-df-convert:hover {\n",
              "      background-color: #434B5C;\n",
              "      box-shadow: 0px 1px 3px 1px rgba(0, 0, 0, 0.15);\n",
              "      filter: drop-shadow(0px 1px 2px rgba(0, 0, 0, 0.3));\n",
              "      fill: #FFFFFF;\n",
              "    }\n",
              "  </style>\n",
              "\n",
              "      <script>\n",
              "        const buttonEl =\n",
              "          document.querySelector('#df-512c5575-ff95-4b11-bead-79bc997e0a42 button.colab-df-convert');\n",
              "        buttonEl.style.display =\n",
              "          google.colab.kernel.accessAllowed ? 'block' : 'none';\n",
              "\n",
              "        async function convertToInteractive(key) {\n",
              "          const element = document.querySelector('#df-512c5575-ff95-4b11-bead-79bc997e0a42');\n",
              "          const dataTable =\n",
              "            await google.colab.kernel.invokeFunction('convertToInteractive',\n",
              "                                                     [key], {});\n",
              "          if (!dataTable) return;\n",
              "\n",
              "          const docLinkHtml = 'Like what you see? Visit the ' +\n",
              "            '<a target=\"_blank\" href=https://colab.research.google.com/notebooks/data_table.ipynb>data table notebook</a>'\n",
              "            + ' to learn more about interactive tables.';\n",
              "          element.innerHTML = '';\n",
              "          dataTable['output_type'] = 'display_data';\n",
              "          await google.colab.output.renderOutput(dataTable, element);\n",
              "          const docLink = document.createElement('div');\n",
              "          docLink.innerHTML = docLinkHtml;\n",
              "          element.appendChild(docLink);\n",
              "        }\n",
              "      </script>\n",
              "    </div>\n",
              "  </div>\n",
              "  "
            ]
          },
          "metadata": {},
          "execution_count": 168
        }
      ]
    },
    {
      "cell_type": "code",
      "source": [
        "#Add new features\n",
        "df[\"ho\"]=(((df.High-df.Open)/df.Open)*100)\n",
        "df[\"ol\"]=(((df.Open-df.Low)/df.Open)*100)\n",
        "df[\"oc\"]=(((df.Open-df.Close)/df.Open)*100)\n",
        "df[\"hl\"]=(((df.High-df.Low)/df.Low)*100)\n",
        "df['rsi']=ta.momentum.rsi(df[\"Close\"], window=14, fillna=False)\n",
        "df['roc']=ta.momentum.roc(df['Close'], window = 14, fillna = False)\n",
        "df['macd']=ta.trend.macd(df['Close'], window_slow=26, window_fast=12, fillna=False)\n",
        "df['ema']=ta.trend.ema_indicator(df['Close'], window = 14, fillna = False)\n",
        "df['sma']=ta.trend.sma_indicator(df['Close'], window = 14, fillna = False)\n",
        "df['ma']=ta.momentum.kama(df[\"Close\"], window =10, pow1=2, pow2=30, fillna=False)"
      ],
      "metadata": {
        "id": "xe5FpaOxIQhD"
      },
      "execution_count": 169,
      "outputs": []
    },
    {
      "cell_type": "code",
      "source": [
        "df['next_day_return'] = np.log(df.Close) - np.log(df.Close.shift(1))"
      ],
      "metadata": {
        "id": "2G3ARNlrZtxk"
      },
      "execution_count": 170,
      "outputs": []
    },
    {
      "cell_type": "code",
      "source": [
        "df = df.dropna()"
      ],
      "metadata": {
        "id": "1eIiVO7jIQjj"
      },
      "execution_count": 171,
      "outputs": []
    },
    {
      "cell_type": "code",
      "source": [
        "df.shape"
      ],
      "metadata": {
        "colab": {
          "base_uri": "https://localhost:8080/"
        },
        "id": "xAOlQWPdlMQ-",
        "outputId": "aff583a0-abe5-4f99-f2f5-6bdc47d8b7af"
      },
      "execution_count": 172,
      "outputs": [
        {
          "output_type": "execute_result",
          "data": {
            "text/plain": [
              "(498, 17)"
            ]
          },
          "metadata": {},
          "execution_count": 172
        }
      ]
    },
    {
      "cell_type": "code",
      "source": [
        "df['next_day_return'] = [1 if item>0 else 0 for item in df['next_day_return']]"
      ],
      "metadata": {
        "id": "hMRL1GdyZ9DJ"
      },
      "execution_count": 173,
      "outputs": []
    },
    {
      "cell_type": "code",
      "source": [
        "ytrain=[]\n",
        "train2 = np.array(df)\n",
        "for i in range(60,len(train2)):\n",
        "  if(int(train2[i,16]))>0:\n",
        "     ytrain.append([0,1])\n",
        "  else:\n",
        "    ytrain.append([1,0])\n",
        "     \n",
        "  #ytrain.append(int(train2[i,16])) #Adj Close is at index 4"
      ],
      "metadata": {
        "id": "BwyB6n9udQnA"
      },
      "execution_count": 174,
      "outputs": []
    },
    {
      "cell_type": "code",
      "source": [
        "df = df.drop(['next_day_return'],axis=1)"
      ],
      "metadata": {
        "id": "3-Kde3-5atVN"
      },
      "execution_count": 175,
      "outputs": []
    },
    {
      "cell_type": "code",
      "source": [
        "#Scaling the values between 0 to 1\n",
        "from sklearn.preprocessing import MinMaxScaler\n",
        "ss= MinMaxScaler(feature_range=(0,1))\n",
        "train = ss.fit_transform(np.array(df))"
      ],
      "metadata": {
        "id": "rh_3iV7rLQwM"
      },
      "execution_count": 176,
      "outputs": []
    },
    {
      "cell_type": "code",
      "source": [
        "# Feature selection\n",
        "xtrain=[]\n",
        "\n",
        "for i in range(60,len(train)):\n",
        "    #xtrain.append([train[i-60:i,0],train[i-60:i,1]])\n",
        "    xtrain.append(train[i-60:i,:])\n",
        "    #ytrain.append(train[i,0])\n",
        "\n",
        "xtrain, ytrain = np.array(xtrain), np.array(ytrain)"
      ],
      "metadata": {
        "id": "-o6jzNRXMEKJ"
      },
      "execution_count": 177,
      "outputs": []
    },
    {
      "cell_type": "code",
      "source": [
        "xtrain.shape"
      ],
      "metadata": {
        "colab": {
          "base_uri": "https://localhost:8080/"
        },
        "id": "lEsUOUtoRI7a",
        "outputId": "057aba27-07de-48c6-81bb-de39d69f698d"
      },
      "execution_count": 178,
      "outputs": [
        {
          "output_type": "execute_result",
          "data": {
            "text/plain": [
              "(438, 60, 16)"
            ]
          },
          "metadata": {},
          "execution_count": 178
        }
      ]
    },
    {
      "cell_type": "code",
      "source": [
        "#Reshaping the train data to make it as input for LTSM layer input_shape(batchzise,timesteps,input_dim)\n",
        "xtrain= np.reshape(xtrain,(xtrain.shape[0],xtrain.shape[2],xtrain.shape[1]))"
      ],
      "metadata": {
        "id": "BgrO-ZYSMEMg"
      },
      "execution_count": 179,
      "outputs": []
    },
    {
      "cell_type": "code",
      "source": [
        "xtrain.shape #Before : (463, 60, 1)"
      ],
      "metadata": {
        "colab": {
          "base_uri": "https://localhost:8080/"
        },
        "id": "pH-RTgXbMEO4",
        "outputId": "27c94bdb-2878-4784-aa2e-82b5112fe8ba"
      },
      "execution_count": 180,
      "outputs": [
        {
          "output_type": "execute_result",
          "data": {
            "text/plain": [
              "(438, 16, 60)"
            ]
          },
          "metadata": {},
          "execution_count": 180
        }
      ]
    },
    {
      "cell_type": "markdown",
      "source": [
        "### Testing Data here"
      ],
      "metadata": {
        "id": "CNKEyAj4cStM"
      }
    },
    {
      "cell_type": "code",
      "source": [
        "test_df = yf.download('EURUSD=X', start='2022-01-01', end='2022-06-30')"
      ],
      "metadata": {
        "colab": {
          "base_uri": "https://localhost:8080/"
        },
        "id": "XbwrsRmjPyTA",
        "outputId": "24daa2e6-7297-488e-ea32-bc1eb3987146"
      },
      "execution_count": 223,
      "outputs": [
        {
          "output_type": "stream",
          "name": "stdout",
          "text": [
            "\r[*********************100%***********************]  1 of 1 completed\n"
          ]
        }
      ]
    },
    {
      "cell_type": "code",
      "source": [
        "test_df.head()"
      ],
      "metadata": {
        "colab": {
          "base_uri": "https://localhost:8080/",
          "height": 238
        },
        "id": "ryWYz_tcWUbA",
        "outputId": "761341d6-401a-4051-8f18-8eff88a5f1c2"
      },
      "execution_count": 224,
      "outputs": [
        {
          "output_type": "execute_result",
          "data": {
            "text/plain": [
              "                Open      High       Low     Close  Adj Close  Volume\n",
              "Date                                                                 \n",
              "2022-01-03  1.137385  1.137592  1.128541  1.137346   1.137346       0\n",
              "2022-01-04  1.130199  1.132300  1.127345  1.130224   1.130224       0\n",
              "2022-01-05  1.128541  1.134559  1.127764  1.128363   1.128363       0\n",
              "2022-01-06  1.131222  1.133067  1.128554  1.131350   1.131350       0\n",
              "2022-01-07  1.129586  1.135976  1.129050  1.129688   1.129688       0"
            ],
            "text/html": [
              "\n",
              "  <div id=\"df-bfa170f9-584b-4e77-860f-83dafab4d75f\">\n",
              "    <div class=\"colab-df-container\">\n",
              "      <div>\n",
              "<style scoped>\n",
              "    .dataframe tbody tr th:only-of-type {\n",
              "        vertical-align: middle;\n",
              "    }\n",
              "\n",
              "    .dataframe tbody tr th {\n",
              "        vertical-align: top;\n",
              "    }\n",
              "\n",
              "    .dataframe thead th {\n",
              "        text-align: right;\n",
              "    }\n",
              "</style>\n",
              "<table border=\"1\" class=\"dataframe\">\n",
              "  <thead>\n",
              "    <tr style=\"text-align: right;\">\n",
              "      <th></th>\n",
              "      <th>Open</th>\n",
              "      <th>High</th>\n",
              "      <th>Low</th>\n",
              "      <th>Close</th>\n",
              "      <th>Adj Close</th>\n",
              "      <th>Volume</th>\n",
              "    </tr>\n",
              "    <tr>\n",
              "      <th>Date</th>\n",
              "      <th></th>\n",
              "      <th></th>\n",
              "      <th></th>\n",
              "      <th></th>\n",
              "      <th></th>\n",
              "      <th></th>\n",
              "    </tr>\n",
              "  </thead>\n",
              "  <tbody>\n",
              "    <tr>\n",
              "      <th>2022-01-03</th>\n",
              "      <td>1.137385</td>\n",
              "      <td>1.137592</td>\n",
              "      <td>1.128541</td>\n",
              "      <td>1.137346</td>\n",
              "      <td>1.137346</td>\n",
              "      <td>0</td>\n",
              "    </tr>\n",
              "    <tr>\n",
              "      <th>2022-01-04</th>\n",
              "      <td>1.130199</td>\n",
              "      <td>1.132300</td>\n",
              "      <td>1.127345</td>\n",
              "      <td>1.130224</td>\n",
              "      <td>1.130224</td>\n",
              "      <td>0</td>\n",
              "    </tr>\n",
              "    <tr>\n",
              "      <th>2022-01-05</th>\n",
              "      <td>1.128541</td>\n",
              "      <td>1.134559</td>\n",
              "      <td>1.127764</td>\n",
              "      <td>1.128363</td>\n",
              "      <td>1.128363</td>\n",
              "      <td>0</td>\n",
              "    </tr>\n",
              "    <tr>\n",
              "      <th>2022-01-06</th>\n",
              "      <td>1.131222</td>\n",
              "      <td>1.133067</td>\n",
              "      <td>1.128554</td>\n",
              "      <td>1.131350</td>\n",
              "      <td>1.131350</td>\n",
              "      <td>0</td>\n",
              "    </tr>\n",
              "    <tr>\n",
              "      <th>2022-01-07</th>\n",
              "      <td>1.129586</td>\n",
              "      <td>1.135976</td>\n",
              "      <td>1.129050</td>\n",
              "      <td>1.129688</td>\n",
              "      <td>1.129688</td>\n",
              "      <td>0</td>\n",
              "    </tr>\n",
              "  </tbody>\n",
              "</table>\n",
              "</div>\n",
              "      <button class=\"colab-df-convert\" onclick=\"convertToInteractive('df-bfa170f9-584b-4e77-860f-83dafab4d75f')\"\n",
              "              title=\"Convert this dataframe to an interactive table.\"\n",
              "              style=\"display:none;\">\n",
              "        \n",
              "  <svg xmlns=\"http://www.w3.org/2000/svg\" height=\"24px\"viewBox=\"0 0 24 24\"\n",
              "       width=\"24px\">\n",
              "    <path d=\"M0 0h24v24H0V0z\" fill=\"none\"/>\n",
              "    <path d=\"M18.56 5.44l.94 2.06.94-2.06 2.06-.94-2.06-.94-.94-2.06-.94 2.06-2.06.94zm-11 1L8.5 8.5l.94-2.06 2.06-.94-2.06-.94L8.5 2.5l-.94 2.06-2.06.94zm10 10l.94 2.06.94-2.06 2.06-.94-2.06-.94-.94-2.06-.94 2.06-2.06.94z\"/><path d=\"M17.41 7.96l-1.37-1.37c-.4-.4-.92-.59-1.43-.59-.52 0-1.04.2-1.43.59L10.3 9.45l-7.72 7.72c-.78.78-.78 2.05 0 2.83L4 21.41c.39.39.9.59 1.41.59.51 0 1.02-.2 1.41-.59l7.78-7.78 2.81-2.81c.8-.78.8-2.07 0-2.86zM5.41 20L4 18.59l7.72-7.72 1.47 1.35L5.41 20z\"/>\n",
              "  </svg>\n",
              "      </button>\n",
              "      \n",
              "  <style>\n",
              "    .colab-df-container {\n",
              "      display:flex;\n",
              "      flex-wrap:wrap;\n",
              "      gap: 12px;\n",
              "    }\n",
              "\n",
              "    .colab-df-convert {\n",
              "      background-color: #E8F0FE;\n",
              "      border: none;\n",
              "      border-radius: 50%;\n",
              "      cursor: pointer;\n",
              "      display: none;\n",
              "      fill: #1967D2;\n",
              "      height: 32px;\n",
              "      padding: 0 0 0 0;\n",
              "      width: 32px;\n",
              "    }\n",
              "\n",
              "    .colab-df-convert:hover {\n",
              "      background-color: #E2EBFA;\n",
              "      box-shadow: 0px 1px 2px rgba(60, 64, 67, 0.3), 0px 1px 3px 1px rgba(60, 64, 67, 0.15);\n",
              "      fill: #174EA6;\n",
              "    }\n",
              "\n",
              "    [theme=dark] .colab-df-convert {\n",
              "      background-color: #3B4455;\n",
              "      fill: #D2E3FC;\n",
              "    }\n",
              "\n",
              "    [theme=dark] .colab-df-convert:hover {\n",
              "      background-color: #434B5C;\n",
              "      box-shadow: 0px 1px 3px 1px rgba(0, 0, 0, 0.15);\n",
              "      filter: drop-shadow(0px 1px 2px rgba(0, 0, 0, 0.3));\n",
              "      fill: #FFFFFF;\n",
              "    }\n",
              "  </style>\n",
              "\n",
              "      <script>\n",
              "        const buttonEl =\n",
              "          document.querySelector('#df-bfa170f9-584b-4e77-860f-83dafab4d75f button.colab-df-convert');\n",
              "        buttonEl.style.display =\n",
              "          google.colab.kernel.accessAllowed ? 'block' : 'none';\n",
              "\n",
              "        async function convertToInteractive(key) {\n",
              "          const element = document.querySelector('#df-bfa170f9-584b-4e77-860f-83dafab4d75f');\n",
              "          const dataTable =\n",
              "            await google.colab.kernel.invokeFunction('convertToInteractive',\n",
              "                                                     [key], {});\n",
              "          if (!dataTable) return;\n",
              "\n",
              "          const docLinkHtml = 'Like what you see? Visit the ' +\n",
              "            '<a target=\"_blank\" href=https://colab.research.google.com/notebooks/data_table.ipynb>data table notebook</a>'\n",
              "            + ' to learn more about interactive tables.';\n",
              "          element.innerHTML = '';\n",
              "          dataTable['output_type'] = 'display_data';\n",
              "          await google.colab.output.renderOutput(dataTable, element);\n",
              "          const docLink = document.createElement('div');\n",
              "          docLink.innerHTML = docLinkHtml;\n",
              "          element.appendChild(docLink);\n",
              "        }\n",
              "      </script>\n",
              "    </div>\n",
              "  </div>\n",
              "  "
            ]
          },
          "metadata": {},
          "execution_count": 224
        }
      ]
    },
    {
      "cell_type": "code",
      "source": [
        "#Add new features\n",
        "test_df[\"ho\"]=(((test_df.High-test_df.Open)/test_df.Open)*100)\n",
        "test_df[\"ol\"]=(((test_df.Open-test_df.Low)/test_df.Open)*100)\n",
        "test_df[\"oc\"]=(((test_df.Open-test_df.Close)/test_df.Open)*100)\n",
        "test_df[\"hl\"]=(((test_df.High-test_df.Low)/test_df.Low)*100)\n",
        "test_df['rsi']=ta.momentum.rsi(test_df[\"Close\"], window=14, fillna=False)\n",
        "test_df['roc']=ta.momentum.roc(test_df['Close'], window = 14, fillna = False)\n",
        "test_df['macd']=ta.trend.macd(test_df['Close'], window_slow=26, window_fast=12, fillna=False)\n",
        "test_df['ema']=ta.trend.ema_indicator(test_df['Close'], window = 14, fillna = False)\n",
        "test_df['sma']=ta.trend.sma_indicator(test_df['Close'], window = 14, fillna = False)\n",
        "test_df['ma']=ta.momentum.kama(test_df[\"Close\"], window =10, pow1=2, pow2=30, fillna=False)"
      ],
      "metadata": {
        "id": "GkzqKf3KpV4y"
      },
      "execution_count": 225,
      "outputs": []
    },
    {
      "cell_type": "code",
      "source": [
        "test_df.shape"
      ],
      "metadata": {
        "colab": {
          "base_uri": "https://localhost:8080/"
        },
        "id": "f-CGvE0FpcOl",
        "outputId": "4499d477-9e6c-4354-dda5-78fe7a398a1f"
      },
      "execution_count": 226,
      "outputs": [
        {
          "output_type": "execute_result",
          "data": {
            "text/plain": [
              "(129, 16)"
            ]
          },
          "metadata": {},
          "execution_count": 226
        }
      ]
    },
    {
      "cell_type": "code",
      "source": [
        "test_df['next_day_return'] = np.log(test_df.Close) - np.log(test_df.Close.shift(1))"
      ],
      "metadata": {
        "id": "grM0h0yTb_lT"
      },
      "execution_count": 227,
      "outputs": []
    },
    {
      "cell_type": "code",
      "source": [
        "test = test_df.copy()"
      ],
      "metadata": {
        "id": "Q-mY7MPQpfGv"
      },
      "execution_count": 228,
      "outputs": []
    },
    {
      "cell_type": "code",
      "source": [
        "test = test.dropna()\n"
      ],
      "metadata": {
        "id": "cStIiXUsWtjz"
      },
      "execution_count": 229,
      "outputs": []
    },
    {
      "cell_type": "code",
      "source": [
        "test = test.drop(['next_day_return'],axis=1)"
      ],
      "metadata": {
        "id": "O2wjYH1BcbnK"
      },
      "execution_count": 230,
      "outputs": []
    },
    {
      "cell_type": "code",
      "source": [
        "test.shape"
      ],
      "metadata": {
        "colab": {
          "base_uri": "https://localhost:8080/"
        },
        "id": "TZUgSyo0ptXB",
        "outputId": "4246500e-9ebd-4840-c0b7-432edd9c7081"
      },
      "execution_count": 231,
      "outputs": [
        {
          "output_type": "execute_result",
          "data": {
            "text/plain": [
              "(104, 16)"
            ]
          },
          "metadata": {},
          "execution_count": 231
        }
      ]
    },
    {
      "cell_type": "code",
      "source": [
        "total= pd.concat([df,test],axis=0) # Concating train and test and then will take last 60 train point\n"
      ],
      "metadata": {
        "id": "_ypxCCR3W2Ns"
      },
      "execution_count": 232,
      "outputs": []
    },
    {
      "cell_type": "code",
      "source": [
        "total.shape"
      ],
      "metadata": {
        "colab": {
          "base_uri": "https://localhost:8080/"
        },
        "id": "GU6HJvHbpv9x",
        "outputId": "9675e0c1-1631-4e3b-9042-0f0643797251"
      },
      "execution_count": 233,
      "outputs": [
        {
          "output_type": "execute_result",
          "data": {
            "text/plain": [
              "(602, 16)"
            ]
          },
          "metadata": {},
          "execution_count": 233
        }
      ]
    },
    {
      "cell_type": "code",
      "source": [
        "test_input = total[len(total)-len(test)-60:].values\n",
        "#test_input= test_input.reshape(-1,1) # reshaping it to get it transformed\n",
        "test_input= ss.transform(test_input)"
      ],
      "metadata": {
        "id": "SdDoFzUxfg4U"
      },
      "execution_count": 234,
      "outputs": []
    },
    {
      "cell_type": "code",
      "source": [
        "xtest= []\n",
        "for i in range(60,160):\n",
        "    xtest.append(test_input[i-60:i,:]) #creating input for  prediction"
      ],
      "metadata": {
        "id": "bMGq7URIfg6b"
      },
      "execution_count": 235,
      "outputs": []
    },
    {
      "cell_type": "code",
      "source": [
        "xtest= np.array(xtest)"
      ],
      "metadata": {
        "id": "QQIRk6llgSXR"
      },
      "execution_count": 236,
      "outputs": []
    },
    {
      "cell_type": "code",
      "source": [
        "xtest.shape"
      ],
      "metadata": {
        "colab": {
          "base_uri": "https://localhost:8080/"
        },
        "id": "oAKyNXAzgeYb",
        "outputId": "a8d1a714-1ed0-4f4e-88b7-40e075812182"
      },
      "execution_count": 237,
      "outputs": [
        {
          "output_type": "execute_result",
          "data": {
            "text/plain": [
              "(100, 60, 16)"
            ]
          },
          "metadata": {},
          "execution_count": 237
        }
      ]
    },
    {
      "cell_type": "code",
      "source": [
        "xtest= np.reshape(xtest,(xtest.shape[0],xtest.shape[2],xtest.shape[1]))"
      ],
      "metadata": {
        "id": "5zkxI79RSIQl"
      },
      "execution_count": 238,
      "outputs": []
    },
    {
      "cell_type": "code",
      "source": [
        "test_df['next_day_return'] = [1 if item>0 else 0 for item in test_df['next_day_return']]"
      ],
      "metadata": {
        "id": "WRJ3vku4pnAy"
      },
      "execution_count": 239,
      "outputs": []
    },
    {
      "cell_type": "code",
      "source": [
        "test_actual = np.array(test_df[0:100]['next_day_return'])\n",
        "ytest = []\n",
        "for i in range(0,len(test_actual)):\n",
        "  if(int(test_actual[i]))>0:\n",
        "     ytest.append([0,1])\n",
        "  else:\n",
        "    ytest.append([1,0])"
      ],
      "metadata": {
        "id": "H-4uK0h1oT4P"
      },
      "execution_count": 248,
      "outputs": []
    },
    {
      "cell_type": "code",
      "source": [
        "test_actual.shape"
      ],
      "metadata": {
        "colab": {
          "base_uri": "https://localhost:8080/"
        },
        "id": "lQ7UXR_RumyJ",
        "outputId": "7fecbec0-cac8-49eb-bed1-e08629f76ec2"
      },
      "execution_count": 249,
      "outputs": [
        {
          "output_type": "execute_result",
          "data": {
            "text/plain": [
              "(100,)"
            ]
          },
          "metadata": {},
          "execution_count": 249
        }
      ]
    },
    {
      "cell_type": "markdown",
      "source": [
        "### Build an GRU Model"
      ],
      "metadata": {
        "id": "0tdXGznHNNMT"
      }
    },
    {
      "cell_type": "code",
      "source": [
        "#initialisizng the model \n",
        "model = Sequential()\n",
        "\n",
        "model.add(GRU(units=50,return_sequences=True,kernel_initializer='glorot_uniform',input_shape=(xtrain.shape[1],xtrain.shape[2])))\n",
        "model.add(Dropout(0.2))\n",
        "\n",
        "model.add(GRU(units=50,kernel_initializer='glorot_uniform',return_sequences=True))\n",
        "model.add(Dropout(0.2))\n",
        "\n",
        "model.add(GRU(units=50,kernel_initializer='glorot_uniform',return_sequences=True))\n",
        "model.add(Dropout(0.2))\n",
        "\n",
        "model.add(GRU(units=50,kernel_initializer='glorot_uniform'))\n",
        "model.add(Dropout(0.2))\n",
        "\n",
        "model.add(Dense(2,activation='sigmoid'))\n",
        "\n",
        "model.compile(optimizer='adam',loss = 'binary_crossentropy',metrics='accuracy')\n",
        "\n",
        "#fitting the network\n",
        "model.fit(xtrain,ytrain,batch_size=30,epochs=100)"
      ],
      "metadata": {
        "id": "OH0oOCo4NSPP",
        "colab": {
          "base_uri": "https://localhost:8080/"
        },
        "outputId": "84a79570-41a4-4d47-e811-b8bbafb1dba9"
      },
      "execution_count": 252,
      "outputs": [
        {
          "output_type": "stream",
          "name": "stdout",
          "text": [
            "Epoch 1/100\n",
            "15/15 [==============================] - 10s 40ms/step - loss: 0.6977 - accuracy: 0.5205\n",
            "Epoch 2/100\n",
            "15/15 [==============================] - 1s 40ms/step - loss: 0.6987 - accuracy: 0.4977\n",
            "Epoch 3/100\n",
            "15/15 [==============================] - 1s 41ms/step - loss: 0.6994 - accuracy: 0.5137\n",
            "Epoch 4/100\n",
            "15/15 [==============================] - 1s 40ms/step - loss: 0.6962 - accuracy: 0.5023\n",
            "Epoch 5/100\n",
            "15/15 [==============================] - 1s 41ms/step - loss: 0.6944 - accuracy: 0.5046\n",
            "Epoch 6/100\n",
            "15/15 [==============================] - 1s 40ms/step - loss: 0.6942 - accuracy: 0.5091\n",
            "Epoch 7/100\n",
            "15/15 [==============================] - 1s 40ms/step - loss: 0.6966 - accuracy: 0.4909\n",
            "Epoch 8/100\n",
            "15/15 [==============================] - 1s 43ms/step - loss: 0.6952 - accuracy: 0.5183\n",
            "Epoch 9/100\n",
            "15/15 [==============================] - 1s 40ms/step - loss: 0.6935 - accuracy: 0.5183\n",
            "Epoch 10/100\n",
            "15/15 [==============================] - 1s 43ms/step - loss: 0.6929 - accuracy: 0.5160\n",
            "Epoch 11/100\n",
            "15/15 [==============================] - 1s 37ms/step - loss: 0.6919 - accuracy: 0.5251\n",
            "Epoch 12/100\n",
            "15/15 [==============================] - 1s 37ms/step - loss: 0.6961 - accuracy: 0.4886\n",
            "Epoch 13/100\n",
            "15/15 [==============================] - 1s 41ms/step - loss: 0.6951 - accuracy: 0.5342\n",
            "Epoch 14/100\n",
            "15/15 [==============================] - 1s 38ms/step - loss: 0.6915 - accuracy: 0.4977\n",
            "Epoch 15/100\n",
            "15/15 [==============================] - 1s 39ms/step - loss: 0.6942 - accuracy: 0.4749\n",
            "Epoch 16/100\n",
            "15/15 [==============================] - 1s 40ms/step - loss: 0.6932 - accuracy: 0.5160\n",
            "Epoch 17/100\n",
            "15/15 [==============================] - 1s 39ms/step - loss: 0.6930 - accuracy: 0.5046\n",
            "Epoch 18/100\n",
            "15/15 [==============================] - 1s 39ms/step - loss: 0.6902 - accuracy: 0.5502\n",
            "Epoch 19/100\n",
            "15/15 [==============================] - 1s 39ms/step - loss: 0.6911 - accuracy: 0.5183\n",
            "Epoch 20/100\n",
            "15/15 [==============================] - 1s 41ms/step - loss: 0.6908 - accuracy: 0.5205\n",
            "Epoch 21/100\n",
            "15/15 [==============================] - 1s 39ms/step - loss: 0.6936 - accuracy: 0.5228\n",
            "Epoch 22/100\n",
            "15/15 [==============================] - 1s 40ms/step - loss: 0.6945 - accuracy: 0.5000\n",
            "Epoch 23/100\n",
            "15/15 [==============================] - 1s 41ms/step - loss: 0.6907 - accuracy: 0.5502\n",
            "Epoch 24/100\n",
            "15/15 [==============================] - 1s 40ms/step - loss: 0.6897 - accuracy: 0.5320\n",
            "Epoch 25/100\n",
            "15/15 [==============================] - 1s 40ms/step - loss: 0.6955 - accuracy: 0.5114\n",
            "Epoch 26/100\n",
            "15/15 [==============================] - 1s 39ms/step - loss: 0.6907 - accuracy: 0.5297\n",
            "Epoch 27/100\n",
            "15/15 [==============================] - 1s 40ms/step - loss: 0.6879 - accuracy: 0.5388\n",
            "Epoch 28/100\n",
            "15/15 [==============================] - 1s 42ms/step - loss: 0.6875 - accuracy: 0.5434\n",
            "Epoch 29/100\n",
            "15/15 [==============================] - 1s 40ms/step - loss: 0.6854 - accuracy: 0.5479\n",
            "Epoch 30/100\n",
            "15/15 [==============================] - 1s 40ms/step - loss: 0.6881 - accuracy: 0.5594\n",
            "Epoch 31/100\n",
            "15/15 [==============================] - 1s 40ms/step - loss: 0.6892 - accuracy: 0.5434\n",
            "Epoch 32/100\n",
            "15/15 [==============================] - 1s 39ms/step - loss: 0.6822 - accuracy: 0.5525\n",
            "Epoch 33/100\n",
            "15/15 [==============================] - 1s 40ms/step - loss: 0.6787 - accuracy: 0.5982\n",
            "Epoch 34/100\n",
            "15/15 [==============================] - 1s 40ms/step - loss: 0.6732 - accuracy: 0.5890\n",
            "Epoch 35/100\n",
            "15/15 [==============================] - 1s 40ms/step - loss: 0.6538 - accuracy: 0.6507\n",
            "Epoch 36/100\n",
            "15/15 [==============================] - 1s 40ms/step - loss: 0.6249 - accuracy: 0.6484\n",
            "Epoch 37/100\n",
            "15/15 [==============================] - 1s 40ms/step - loss: 0.5724 - accuracy: 0.7009\n",
            "Epoch 38/100\n",
            "15/15 [==============================] - 1s 40ms/step - loss: 0.5421 - accuracy: 0.7260\n",
            "Epoch 39/100\n",
            "15/15 [==============================] - 1s 40ms/step - loss: 0.5068 - accuracy: 0.7557\n",
            "Epoch 40/100\n",
            "15/15 [==============================] - 1s 41ms/step - loss: 0.5229 - accuracy: 0.7557\n",
            "Epoch 41/100\n",
            "15/15 [==============================] - 1s 39ms/step - loss: 0.5123 - accuracy: 0.7740\n",
            "Epoch 42/100\n",
            "15/15 [==============================] - 1s 40ms/step - loss: 0.4955 - accuracy: 0.7717\n",
            "Epoch 43/100\n",
            "15/15 [==============================] - 1s 42ms/step - loss: 0.4830 - accuracy: 0.7831\n",
            "Epoch 44/100\n",
            "15/15 [==============================] - 1s 40ms/step - loss: 0.4487 - accuracy: 0.8059\n",
            "Epoch 45/100\n",
            "15/15 [==============================] - 1s 38ms/step - loss: 0.4329 - accuracy: 0.8219\n",
            "Epoch 46/100\n",
            "15/15 [==============================] - 1s 36ms/step - loss: 0.4525 - accuracy: 0.7922\n",
            "Epoch 47/100\n",
            "15/15 [==============================] - 1s 38ms/step - loss: 0.4359 - accuracy: 0.7968\n",
            "Epoch 48/100\n",
            "15/15 [==============================] - 1s 38ms/step - loss: 0.4285 - accuracy: 0.8105\n",
            "Epoch 49/100\n",
            "15/15 [==============================] - 1s 39ms/step - loss: 0.4361 - accuracy: 0.8105\n",
            "Epoch 50/100\n",
            "15/15 [==============================] - 1s 76ms/step - loss: 0.4213 - accuracy: 0.8014\n",
            "Epoch 51/100\n",
            "15/15 [==============================] - 1s 52ms/step - loss: 0.4860 - accuracy: 0.7900\n",
            "Epoch 52/100\n",
            "15/15 [==============================] - 1s 55ms/step - loss: 0.4577 - accuracy: 0.7854\n",
            "Epoch 53/100\n",
            "15/15 [==============================] - 1s 38ms/step - loss: 0.4231 - accuracy: 0.7854\n",
            "Epoch 54/100\n",
            "15/15 [==============================] - 1s 39ms/step - loss: 0.4519 - accuracy: 0.8014\n",
            "Epoch 55/100\n",
            "15/15 [==============================] - 1s 39ms/step - loss: 0.4253 - accuracy: 0.8059\n",
            "Epoch 56/100\n",
            "15/15 [==============================] - 1s 41ms/step - loss: 0.4099 - accuracy: 0.8379\n",
            "Epoch 57/100\n",
            "15/15 [==============================] - 1s 42ms/step - loss: 0.4177 - accuracy: 0.8242\n",
            "Epoch 58/100\n",
            "15/15 [==============================] - 1s 39ms/step - loss: 0.3993 - accuracy: 0.8219\n",
            "Epoch 59/100\n",
            "15/15 [==============================] - 1s 37ms/step - loss: 0.4456 - accuracy: 0.7854\n",
            "Epoch 60/100\n",
            "15/15 [==============================] - 1s 38ms/step - loss: 0.4291 - accuracy: 0.8151\n",
            "Epoch 61/100\n",
            "15/15 [==============================] - 1s 42ms/step - loss: 0.4254 - accuracy: 0.8037\n",
            "Epoch 62/100\n",
            "15/15 [==============================] - 1s 40ms/step - loss: 0.4066 - accuracy: 0.8151\n",
            "Epoch 63/100\n",
            "15/15 [==============================] - 1s 40ms/step - loss: 0.4000 - accuracy: 0.8242\n",
            "Epoch 64/100\n",
            "15/15 [==============================] - 1s 40ms/step - loss: 0.4302 - accuracy: 0.7968\n",
            "Epoch 65/100\n",
            "15/15 [==============================] - 1s 38ms/step - loss: 0.4058 - accuracy: 0.8174\n",
            "Epoch 66/100\n",
            "15/15 [==============================] - 1s 37ms/step - loss: 0.4049 - accuracy: 0.8265\n",
            "Epoch 67/100\n",
            "15/15 [==============================] - 1s 39ms/step - loss: 0.3996 - accuracy: 0.8174\n",
            "Epoch 68/100\n",
            "15/15 [==============================] - 1s 38ms/step - loss: 0.4098 - accuracy: 0.8265\n",
            "Epoch 69/100\n",
            "15/15 [==============================] - 1s 38ms/step - loss: 0.4009 - accuracy: 0.8242\n",
            "Epoch 70/100\n",
            "15/15 [==============================] - 1s 40ms/step - loss: 0.4296 - accuracy: 0.7991\n",
            "Epoch 71/100\n",
            "15/15 [==============================] - 1s 36ms/step - loss: 0.4225 - accuracy: 0.8174\n",
            "Epoch 72/100\n",
            "15/15 [==============================] - 1s 43ms/step - loss: 0.4091 - accuracy: 0.8196\n",
            "Epoch 73/100\n",
            "15/15 [==============================] - 1s 66ms/step - loss: 0.4000 - accuracy: 0.8288\n",
            "Epoch 74/100\n",
            "15/15 [==============================] - 1s 67ms/step - loss: 0.3620 - accuracy: 0.8493\n",
            "Epoch 75/100\n",
            "15/15 [==============================] - 1s 43ms/step - loss: 0.3765 - accuracy: 0.8379\n",
            "Epoch 76/100\n",
            "15/15 [==============================] - 1s 39ms/step - loss: 0.3711 - accuracy: 0.8174\n",
            "Epoch 77/100\n",
            "15/15 [==============================] - 1s 42ms/step - loss: 0.3775 - accuracy: 0.8470\n",
            "Epoch 78/100\n",
            "15/15 [==============================] - 1s 42ms/step - loss: 0.3863 - accuracy: 0.8333\n",
            "Epoch 79/100\n",
            "15/15 [==============================] - 1s 38ms/step - loss: 0.3587 - accuracy: 0.8379\n",
            "Epoch 80/100\n",
            "15/15 [==============================] - 1s 37ms/step - loss: 0.3600 - accuracy: 0.8379\n",
            "Epoch 81/100\n",
            "15/15 [==============================] - 1s 38ms/step - loss: 0.3391 - accuracy: 0.8584\n",
            "Epoch 82/100\n",
            "15/15 [==============================] - 1s 40ms/step - loss: 0.3608 - accuracy: 0.8539\n",
            "Epoch 83/100\n",
            "15/15 [==============================] - 1s 41ms/step - loss: 0.3591 - accuracy: 0.8311\n",
            "Epoch 84/100\n",
            "15/15 [==============================] - 1s 38ms/step - loss: 0.3396 - accuracy: 0.8516\n",
            "Epoch 85/100\n",
            "15/15 [==============================] - 1s 38ms/step - loss: 0.3455 - accuracy: 0.8379\n",
            "Epoch 86/100\n",
            "15/15 [==============================] - 1s 38ms/step - loss: 0.3575 - accuracy: 0.8470\n",
            "Epoch 87/100\n",
            "15/15 [==============================] - 1s 39ms/step - loss: 0.3438 - accuracy: 0.8607\n",
            "Epoch 88/100\n",
            "15/15 [==============================] - 1s 38ms/step - loss: 0.3414 - accuracy: 0.8584\n",
            "Epoch 89/100\n",
            "15/15 [==============================] - 1s 39ms/step - loss: 0.3554 - accuracy: 0.8470\n",
            "Epoch 90/100\n",
            "15/15 [==============================] - 1s 40ms/step - loss: 0.3473 - accuracy: 0.8562\n",
            "Epoch 91/100\n",
            "15/15 [==============================] - 1s 40ms/step - loss: 0.3851 - accuracy: 0.8311\n",
            "Epoch 92/100\n",
            "15/15 [==============================] - 1s 40ms/step - loss: 0.3359 - accuracy: 0.8744\n",
            "Epoch 93/100\n",
            "15/15 [==============================] - 1s 42ms/step - loss: 0.3421 - accuracy: 0.8516\n",
            "Epoch 94/100\n",
            "15/15 [==============================] - 1s 40ms/step - loss: 0.3307 - accuracy: 0.8470\n",
            "Epoch 95/100\n",
            "15/15 [==============================] - 1s 40ms/step - loss: 0.2995 - accuracy: 0.8836\n",
            "Epoch 96/100\n",
            "15/15 [==============================] - 1s 36ms/step - loss: 0.3232 - accuracy: 0.8630\n",
            "Epoch 97/100\n",
            "15/15 [==============================] - 1s 39ms/step - loss: 0.2674 - accuracy: 0.8858\n",
            "Epoch 98/100\n",
            "15/15 [==============================] - 1s 36ms/step - loss: 0.2982 - accuracy: 0.8721\n",
            "Epoch 99/100\n",
            "15/15 [==============================] - 1s 42ms/step - loss: 0.2956 - accuracy: 0.8881\n",
            "Epoch 100/100\n",
            "15/15 [==============================] - 1s 38ms/step - loss: 0.2978 - accuracy: 0.8562\n"
          ]
        },
        {
          "output_type": "execute_result",
          "data": {
            "text/plain": [
              "<keras.callbacks.History at 0x7f2b1928d710>"
            ]
          },
          "metadata": {},
          "execution_count": 252
        }
      ]
    },
    {
      "cell_type": "code",
      "source": [
        "predicted_value= model.predict(xtest)\n"
      ],
      "metadata": {
        "id": "Y6FEHk3RgUeq"
      },
      "execution_count": 253,
      "outputs": []
    },
    {
      "cell_type": "code",
      "source": [
        "predicted_classes = predicted_value.argmax(axis=1)\n",
        "predicted_classes"
      ],
      "metadata": {
        "colab": {
          "base_uri": "https://localhost:8080/"
        },
        "id": "dge0HVKzpNwv",
        "outputId": "992ec3ea-445e-4f2e-bbd9-558ca4065df1"
      },
      "execution_count": 254,
      "outputs": [
        {
          "output_type": "execute_result",
          "data": {
            "text/plain": [
              "array([1, 0, 0, 0, 1, 0, 0, 1, 1, 0, 0, 1, 1, 1, 0, 1, 1, 0, 0, 0, 0, 1,\n",
              "       1, 1, 0, 1, 1, 1, 1, 1, 1, 1, 1, 0, 0, 1, 1, 1, 1, 0, 0, 0, 0, 1,\n",
              "       1, 0, 1, 1, 1, 0, 0, 1, 1, 1, 1, 0, 0, 0, 0, 0, 1, 1, 1, 1, 0, 0,\n",
              "       1, 1, 1, 1, 1, 1, 1, 0, 1, 0, 1, 1, 0, 1, 0, 1, 0, 0, 1, 0, 1, 0,\n",
              "       1, 0, 0, 0, 1, 1, 1, 0, 1, 1, 1, 0])"
            ]
          },
          "metadata": {},
          "execution_count": 254
        }
      ]
    },
    {
      "cell_type": "code",
      "source": [
        "\n",
        "confusion_matrix(test_actual, predicted_classes)"
      ],
      "metadata": {
        "colab": {
          "base_uri": "https://localhost:8080/"
        },
        "id": "zduefkWBowre",
        "outputId": "356e0b65-4400-47b7-8845-3a78552c5cba"
      },
      "execution_count": 255,
      "outputs": [
        {
          "output_type": "execute_result",
          "data": {
            "text/plain": [
              "array([[26, 33],\n",
              "       [16, 25]])"
            ]
          },
          "metadata": {},
          "execution_count": 255
        }
      ]
    },
    {
      "cell_type": "code",
      "source": [
        "\n",
        "accuracy_score(test_actual, predicted_classes)"
      ],
      "metadata": {
        "colab": {
          "base_uri": "https://localhost:8080/"
        },
        "id": "wIGhHvmqqYby",
        "outputId": "22ce714f-f982-4ccc-987d-d354bcbc8976"
      },
      "execution_count": 256,
      "outputs": [
        {
          "output_type": "execute_result",
          "data": {
            "text/plain": [
              "0.51"
            ]
          },
          "metadata": {},
          "execution_count": 256
        }
      ]
    },
    {
      "cell_type": "code",
      "source": [
        ""
      ],
      "metadata": {
        "id": "ND-BITiwujh0"
      },
      "execution_count": 256,
      "outputs": []
    }
  ]
}