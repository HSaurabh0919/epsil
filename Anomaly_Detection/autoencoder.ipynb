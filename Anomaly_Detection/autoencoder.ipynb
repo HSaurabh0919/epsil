{
  "nbformat": 4,
  "nbformat_minor": 0,
  "metadata": {
    "colab": {
      "name": "autoencoder_01.ipynb",
      "provenance": [],
      "collapsed_sections": [],
      "authorship_tag": "ABX9TyNQpR3oL2PAoq+8BY7sDwn5"
    },
    "kernelspec": {
      "name": "python3",
      "display_name": "Python 3"
    },
    "language_info": {
      "name": "python"
    }
  },
  "cells": [
    {
      "cell_type": "code",
      "execution_count": null,
      "metadata": {
        "id": "JjNf4INxexgE"
      },
      "outputs": [],
      "source": [
        "import matplotlib.pyplot as plt\n",
        "import numpy as np\n",
        "import pandas as pd\n",
        "import tensorflow as tf\n",
        "from sklearn.metrics import confusion_matrix\n",
        "from sklearn.metrics import accuracy_score, precision_score, recall_score\n",
        "from sklearn.model_selection import train_test_split\n",
        "from tensorflow.keras import layers, losses\n",
        "from tensorflow.keras.models import Model"
      ]
    },
    {
      "cell_type": "code",
      "source": [
        "!unzip data.zip\n"
      ],
      "metadata": {
        "id": "gUf5rildgJKD"
      },
      "execution_count": null,
      "outputs": []
    },
    {
      "cell_type": "code",
      "source": [
        "df = pd.read_csv('data/train.csv')"
      ],
      "metadata": {
        "id": "kcSFOwx0g2Gs"
      },
      "execution_count": null,
      "outputs": []
    },
    {
      "cell_type": "code",
      "source": [
        "y = df['labels']"
      ],
      "metadata": {
        "id": "9RzjXLwZhOLN"
      },
      "execution_count": null,
      "outputs": []
    },
    {
      "cell_type": "code",
      "source": [
        "df.shape"
      ],
      "metadata": {
        "colab": {
          "base_uri": "https://localhost:8080/"
        },
        "id": "BURaHgDxhkmP",
        "outputId": "9f47ec4f-0553-4d36-99cb-4262e8f9bd03"
      },
      "execution_count": null,
      "outputs": [
        {
          "output_type": "execute_result",
          "data": {
            "text/plain": [
              "(514869, 24)"
            ]
          },
          "metadata": {},
          "execution_count": 29
        }
      ]
    },
    {
      "cell_type": "code",
      "source": [
        "y.shape"
      ],
      "metadata": {
        "colab": {
          "base_uri": "https://localhost:8080/"
        },
        "id": "stsKFIEuhlsW",
        "outputId": "309a4468-5fac-4829-c728-8eaf1cf0673a"
      },
      "execution_count": null,
      "outputs": [
        {
          "output_type": "execute_result",
          "data": {
            "text/plain": [
              "(514869,)"
            ]
          },
          "metadata": {},
          "execution_count": 30
        }
      ]
    },
    {
      "cell_type": "code",
      "source": [
        "train_data, test_data, train_labels, test_labels = train_test_split(\n",
        "    df, y, test_size=0.3, random_state=21\n",
        ")"
      ],
      "metadata": {
        "id": "de8dySqxhn_C"
      },
      "execution_count": null,
      "outputs": []
    },
    {
      "cell_type": "code",
      "source": [
        "#Tried smote as well for imbalance check, but no improvement\n",
        "#from imblearn.over_sampling import SMOTE\n",
        "#smt = SMOTE()\n",
        "#train_data,train_labels = smt.fit_resample(train_data,train_labels)\n"
      ],
      "metadata": {
        "id": "UUIvj7DltWDo"
      },
      "execution_count": null,
      "outputs": []
    },
    {
      "cell_type": "code",
      "source": [
        "train_labels.value_counts()"
      ],
      "metadata": {
        "colab": {
          "base_uri": "https://localhost:8080/"
        },
        "id": "IYzXFhzxtz0H",
        "outputId": "cf1ebf07-c3cb-4cf9-892b-e89cd1e2ab6b"
      },
      "execution_count": null,
      "outputs": [
        {
          "output_type": "execute_result",
          "data": {
            "text/plain": [
              "1    283931\n",
              "0    283931\n",
              "Name: AOR Result, dtype: int64"
            ]
          },
          "metadata": {},
          "execution_count": 91
        }
      ]
    },
    {
      "cell_type": "code",
      "source": [
        "for column in train_data.columns:\n",
        "  max_val = np.array(train_data[column]).max()\n",
        "  min_val = np.array(train_data[column]).min()\n",
        "  col = np.array(train_data[column])\n",
        "  train_data[column] = (col - min_val)/(max_val - min_val)\n",
        "\n",
        "\n"
      ],
      "metadata": {
        "id": "Ms36zHGQklV4"
      },
      "execution_count": null,
      "outputs": []
    },
    {
      "cell_type": "code",
      "source": [
        "for column in test_data.columns:\n",
        "  max_val = np.array(test_data[column]).max()\n",
        "  min_val = np.array(test_data[column]).min()\n",
        "  col = np.array(test_data[column])\n",
        "  test_data[column] = (col - min_val)/(max_val - min_val)\n"
      ],
      "metadata": {
        "id": "zuAtJKkplkdf"
      },
      "execution_count": null,
      "outputs": []
    },
    {
      "cell_type": "code",
      "source": [
        "train_data.shape"
      ],
      "metadata": {
        "colab": {
          "base_uri": "https://localhost:8080/"
        },
        "id": "16QHsbrxhv7j",
        "outputId": "003f3c7e-5cf2-4b7b-89e4-a7b1b72b4c9e"
      },
      "execution_count": null,
      "outputs": [
        {
          "output_type": "execute_result",
          "data": {
            "text/plain": [
              "(567862, 24)"
            ]
          },
          "metadata": {},
          "execution_count": 95
        }
      ]
    },
    {
      "cell_type": "code",
      "source": [
        "test_data.shape"
      ],
      "metadata": {
        "colab": {
          "base_uri": "https://localhost:8080/"
        },
        "id": "RTRTzvrNhycO",
        "outputId": "19a809d0-ac9a-4a04-e117-a87fe05375ad"
      },
      "execution_count": null,
      "outputs": [
        {
          "output_type": "execute_result",
          "data": {
            "text/plain": [
              "(154461, 24)"
            ]
          },
          "metadata": {},
          "execution_count": 96
        }
      ]
    },
    {
      "cell_type": "code",
      "source": [
        "train_labels = train_labels.astype(bool)\n",
        "test_labels = test_labels.astype(bool)\n",
        "\n",
        "normal_train_data = train_data[train_labels]\n",
        "normal_test_data = test_data[test_labels]\n",
        "\n",
        "anomalous_train_data = train_data[~train_labels]\n",
        "anomalous_test_data = test_data[~test_labels]"
      ],
      "metadata": {
        "id": "949Yxh4biJ47"
      },
      "execution_count": null,
      "outputs": []
    },
    {
      "cell_type": "code",
      "source": [
        "normal_train_data.shape"
      ],
      "metadata": {
        "colab": {
          "base_uri": "https://localhost:8080/"
        },
        "id": "k9LPuv-sikVw",
        "outputId": "1edfbde7-7d9e-4c93-f063-4a0577f58012"
      },
      "execution_count": null,
      "outputs": [
        {
          "output_type": "execute_result",
          "data": {
            "text/plain": [
              "(283931, 24)"
            ]
          },
          "metadata": {},
          "execution_count": 98
        }
      ]
    },
    {
      "cell_type": "markdown",
      "source": [
        "### Build the Model"
      ],
      "metadata": {
        "id": "JZoo_TfDiZhO"
      }
    },
    {
      "cell_type": "code",
      "source": [
        "class AnomalyDetector(Model):\n",
        "  def __init__(self):\n",
        "    super(AnomalyDetector, self).__init__()\n",
        "    self.encoder = tf.keras.Sequential([\n",
        "      layers.Dense(12, activation=\"relu\"),\n",
        "      layers.Dense(6, activation=\"relu\"),\n",
        "      layers.Dense(3, activation=\"relu\")])\n",
        "    \n",
        "    self.decoder = tf.keras.Sequential([\n",
        "      layers.Dense(6, activation=\"relu\"),\n",
        "      layers.Dense(12, activation=\"relu\"),\n",
        "      layers.Dense(24, activation=\"sigmoid\")])\n",
        "    \n",
        "  def call(self, x):\n",
        "    encoded = self.encoder(x)\n",
        "    decoded = self.decoder(encoded)\n",
        "    return decoded\n",
        "\n",
        "autoencoder = AnomalyDetector()"
      ],
      "metadata": {
        "id": "du10kZdpiPXp"
      },
      "execution_count": null,
      "outputs": []
    },
    {
      "cell_type": "code",
      "source": [
        "autoencoder.compile(optimizer='adam', loss='mae')"
      ],
      "metadata": {
        "id": "PzpWwwRUiuZY"
      },
      "execution_count": null,
      "outputs": []
    },
    {
      "cell_type": "code",
      "source": [
        "history = autoencoder.fit(normal_train_data, normal_train_data, \n",
        "          epochs=100, \n",
        "          batch_size=512,\n",
        "          validation_data=(test_data, test_data),\n",
        "          shuffle=True)"
      ],
      "metadata": {
        "colab": {
          "base_uri": "https://localhost:8080/"
        },
        "id": "kGROcSbViw2f",
        "outputId": "37a945d8-d6fd-4d15-9219-b4f34dee38cb"
      },
      "execution_count": null,
      "outputs": [
        {
          "output_type": "stream",
          "name": "stdout",
          "text": [
            "Epoch 1/100\n",
            "555/555 [==============================] - 4s 5ms/step - loss: 0.1548 - val_loss: 0.1133\n",
            "Epoch 2/100\n",
            "555/555 [==============================] - 2s 3ms/step - loss: 0.1047 - val_loss: 0.1006\n",
            "Epoch 3/100\n",
            "555/555 [==============================] - 2s 3ms/step - loss: 0.1012 - val_loss: 0.1005\n",
            "Epoch 4/100\n",
            "555/555 [==============================] - 2s 3ms/step - loss: 0.1009 - val_loss: 0.1000\n",
            "Epoch 5/100\n",
            "555/555 [==============================] - 2s 3ms/step - loss: 0.1002 - val_loss: 0.0971\n",
            "Epoch 6/100\n",
            "555/555 [==============================] - 2s 3ms/step - loss: 0.0861 - val_loss: 0.0810\n",
            "Epoch 7/100\n",
            "555/555 [==============================] - 2s 4ms/step - loss: 0.0779 - val_loss: 0.0764\n",
            "Epoch 8/100\n",
            "555/555 [==============================] - 2s 3ms/step - loss: 0.0751 - val_loss: 0.0749\n",
            "Epoch 9/100\n",
            "555/555 [==============================] - 2s 3ms/step - loss: 0.0738 - val_loss: 0.0741\n",
            "Epoch 10/100\n",
            "555/555 [==============================] - 2s 3ms/step - loss: 0.0730 - val_loss: 0.0731\n",
            "Epoch 11/100\n",
            "555/555 [==============================] - 2s 3ms/step - loss: 0.0713 - val_loss: 0.0710\n",
            "Epoch 12/100\n",
            "555/555 [==============================] - 2s 3ms/step - loss: 0.0693 - val_loss: 0.0701\n",
            "Epoch 13/100\n",
            "555/555 [==============================] - 2s 4ms/step - loss: 0.0686 - val_loss: 0.0694\n",
            "Epoch 14/100\n",
            "555/555 [==============================] - 3s 5ms/step - loss: 0.0681 - val_loss: 0.0691\n",
            "Epoch 15/100\n",
            "555/555 [==============================] - 3s 5ms/step - loss: 0.0676 - val_loss: 0.0684\n",
            "Epoch 16/100\n",
            "555/555 [==============================] - 3s 5ms/step - loss: 0.0665 - val_loss: 0.0670\n",
            "Epoch 17/100\n",
            "555/555 [==============================] - 2s 4ms/step - loss: 0.0653 - val_loss: 0.0657\n",
            "Epoch 18/100\n",
            "555/555 [==============================] - 3s 5ms/step - loss: 0.0626 - val_loss: 0.0615\n",
            "Epoch 19/100\n",
            "555/555 [==============================] - 2s 4ms/step - loss: 0.0581 - val_loss: 0.0584\n",
            "Epoch 20/100\n",
            "555/555 [==============================] - 2s 3ms/step - loss: 0.0565 - val_loss: 0.0578\n",
            "Epoch 21/100\n",
            "555/555 [==============================] - 2s 3ms/step - loss: 0.0560 - val_loss: 0.0573\n",
            "Epoch 22/100\n",
            "555/555 [==============================] - 2s 3ms/step - loss: 0.0558 - val_loss: 0.0570\n",
            "Epoch 23/100\n",
            "555/555 [==============================] - 2s 3ms/step - loss: 0.0556 - val_loss: 0.0569\n",
            "Epoch 24/100\n",
            "555/555 [==============================] - 2s 3ms/step - loss: 0.0555 - val_loss: 0.0567\n",
            "Epoch 25/100\n",
            "555/555 [==============================] - 2s 3ms/step - loss: 0.0554 - val_loss: 0.0569\n",
            "Epoch 26/100\n",
            "555/555 [==============================] - 2s 3ms/step - loss: 0.0552 - val_loss: 0.0565\n",
            "Epoch 27/100\n",
            "555/555 [==============================] - 2s 3ms/step - loss: 0.0552 - val_loss: 0.0568\n",
            "Epoch 28/100\n",
            "555/555 [==============================] - 2s 3ms/step - loss: 0.0551 - val_loss: 0.0564\n",
            "Epoch 29/100\n",
            "555/555 [==============================] - 2s 4ms/step - loss: 0.0550 - val_loss: 0.0565\n",
            "Epoch 30/100\n",
            "555/555 [==============================] - 2s 3ms/step - loss: 0.0549 - val_loss: 0.0563\n",
            "Epoch 31/100\n",
            "555/555 [==============================] - 2s 3ms/step - loss: 0.0548 - val_loss: 0.0561\n",
            "Epoch 32/100\n",
            "555/555 [==============================] - 2s 3ms/step - loss: 0.0548 - val_loss: 0.0562\n",
            "Epoch 33/100\n",
            "555/555 [==============================] - 2s 3ms/step - loss: 0.0547 - val_loss: 0.0560\n",
            "Epoch 34/100\n",
            "555/555 [==============================] - 2s 3ms/step - loss: 0.0547 - val_loss: 0.0563\n",
            "Epoch 35/100\n",
            "555/555 [==============================] - 2s 3ms/step - loss: 0.0546 - val_loss: 0.0559\n",
            "Epoch 36/100\n",
            "555/555 [==============================] - 2s 3ms/step - loss: 0.0545 - val_loss: 0.0561\n",
            "Epoch 37/100\n",
            "555/555 [==============================] - 2s 3ms/step - loss: 0.0545 - val_loss: 0.0558\n",
            "Epoch 38/100\n",
            "555/555 [==============================] - 2s 3ms/step - loss: 0.0545 - val_loss: 0.0559\n",
            "Epoch 39/100\n",
            "555/555 [==============================] - 2s 3ms/step - loss: 0.0544 - val_loss: 0.0557\n",
            "Epoch 40/100\n",
            "555/555 [==============================] - 2s 3ms/step - loss: 0.0544 - val_loss: 0.0558\n",
            "Epoch 41/100\n",
            "555/555 [==============================] - 2s 3ms/step - loss: 0.0543 - val_loss: 0.0556\n",
            "Epoch 42/100\n",
            "555/555 [==============================] - 2s 3ms/step - loss: 0.0543 - val_loss: 0.0557\n",
            "Epoch 43/100\n",
            "555/555 [==============================] - 2s 3ms/step - loss: 0.0542 - val_loss: 0.0556\n",
            "Epoch 44/100\n",
            "555/555 [==============================] - 2s 3ms/step - loss: 0.0543 - val_loss: 0.0556\n",
            "Epoch 45/100\n",
            "555/555 [==============================] - 2s 3ms/step - loss: 0.0541 - val_loss: 0.0556\n",
            "Epoch 46/100\n",
            "555/555 [==============================] - 2s 3ms/step - loss: 0.0541 - val_loss: 0.0556\n",
            "Epoch 47/100\n",
            "555/555 [==============================] - 2s 3ms/step - loss: 0.0541 - val_loss: 0.0555\n",
            "Epoch 48/100\n",
            "555/555 [==============================] - 2s 3ms/step - loss: 0.0541 - val_loss: 0.0557\n",
            "Epoch 49/100\n",
            "555/555 [==============================] - 2s 3ms/step - loss: 0.0541 - val_loss: 0.0554\n",
            "Epoch 50/100\n",
            "555/555 [==============================] - 2s 3ms/step - loss: 0.0540 - val_loss: 0.0554\n",
            "Epoch 51/100\n",
            "555/555 [==============================] - 2s 3ms/step - loss: 0.0540 - val_loss: 0.0555\n",
            "Epoch 52/100\n",
            "555/555 [==============================] - 2s 3ms/step - loss: 0.0540 - val_loss: 0.0553\n",
            "Epoch 53/100\n",
            "555/555 [==============================] - 2s 3ms/step - loss: 0.0539 - val_loss: 0.0554\n",
            "Epoch 54/100\n",
            "555/555 [==============================] - 2s 4ms/step - loss: 0.0539 - val_loss: 0.0555\n",
            "Epoch 55/100\n",
            "555/555 [==============================] - 2s 3ms/step - loss: 0.0538 - val_loss: 0.0552\n",
            "Epoch 56/100\n",
            "555/555 [==============================] - 2s 3ms/step - loss: 0.0538 - val_loss: 0.0551\n",
            "Epoch 57/100\n",
            "555/555 [==============================] - 2s 4ms/step - loss: 0.0538 - val_loss: 0.0553\n",
            "Epoch 58/100\n",
            "555/555 [==============================] - 2s 4ms/step - loss: 0.0537 - val_loss: 0.0551\n",
            "Epoch 59/100\n",
            "555/555 [==============================] - 2s 4ms/step - loss: 0.0537 - val_loss: 0.0550\n",
            "Epoch 60/100\n",
            "555/555 [==============================] - 2s 4ms/step - loss: 0.0537 - val_loss: 0.0550\n",
            "Epoch 61/100\n",
            "555/555 [==============================] - 2s 3ms/step - loss: 0.0537 - val_loss: 0.0552\n",
            "Epoch 62/100\n",
            "555/555 [==============================] - 2s 4ms/step - loss: 0.0536 - val_loss: 0.0551\n",
            "Epoch 63/100\n",
            "555/555 [==============================] - 2s 3ms/step - loss: 0.0536 - val_loss: 0.0550\n",
            "Epoch 64/100\n",
            "555/555 [==============================] - 2s 4ms/step - loss: 0.0536 - val_loss: 0.0548\n",
            "Epoch 65/100\n",
            "555/555 [==============================] - 2s 4ms/step - loss: 0.0531 - val_loss: 0.0542\n",
            "Epoch 66/100\n",
            "555/555 [==============================] - 2s 3ms/step - loss: 0.0527 - val_loss: 0.0539\n",
            "Epoch 67/100\n",
            "555/555 [==============================] - 3s 5ms/step - loss: 0.0526 - val_loss: 0.0540\n",
            "Epoch 68/100\n",
            "555/555 [==============================] - 2s 4ms/step - loss: 0.0525 - val_loss: 0.0541\n",
            "Epoch 69/100\n",
            "555/555 [==============================] - 2s 4ms/step - loss: 0.0525 - val_loss: 0.0537\n",
            "Epoch 70/100\n",
            "555/555 [==============================] - 2s 3ms/step - loss: 0.0524 - val_loss: 0.0537\n",
            "Epoch 71/100\n",
            "555/555 [==============================] - 2s 3ms/step - loss: 0.0523 - val_loss: 0.0536\n",
            "Epoch 72/100\n",
            "555/555 [==============================] - 2s 4ms/step - loss: 0.0522 - val_loss: 0.0534\n",
            "Epoch 73/100\n",
            "555/555 [==============================] - 2s 4ms/step - loss: 0.0519 - val_loss: 0.0531\n",
            "Epoch 74/100\n",
            "555/555 [==============================] - 2s 4ms/step - loss: 0.0514 - val_loss: 0.0524\n",
            "Epoch 75/100\n",
            "555/555 [==============================] - 2s 3ms/step - loss: 0.0503 - val_loss: 0.0508\n",
            "Epoch 76/100\n",
            "555/555 [==============================] - 2s 3ms/step - loss: 0.0486 - val_loss: 0.0491\n",
            "Epoch 77/100\n",
            "555/555 [==============================] - 2s 3ms/step - loss: 0.0471 - val_loss: 0.0480\n",
            "Epoch 78/100\n",
            "555/555 [==============================] - 2s 4ms/step - loss: 0.0465 - val_loss: 0.0478\n",
            "Epoch 79/100\n",
            "555/555 [==============================] - 2s 4ms/step - loss: 0.0462 - val_loss: 0.0475\n",
            "Epoch 80/100\n",
            "555/555 [==============================] - 2s 3ms/step - loss: 0.0461 - val_loss: 0.0472\n",
            "Epoch 81/100\n",
            "555/555 [==============================] - 2s 3ms/step - loss: 0.0459 - val_loss: 0.0472\n",
            "Epoch 82/100\n",
            "555/555 [==============================] - 2s 3ms/step - loss: 0.0458 - val_loss: 0.0473\n",
            "Epoch 83/100\n",
            "555/555 [==============================] - 2s 3ms/step - loss: 0.0457 - val_loss: 0.0472\n",
            "Epoch 84/100\n",
            "555/555 [==============================] - 2s 3ms/step - loss: 0.0457 - val_loss: 0.0471\n",
            "Epoch 85/100\n",
            "555/555 [==============================] - 2s 3ms/step - loss: 0.0456 - val_loss: 0.0469\n",
            "Epoch 86/100\n",
            "555/555 [==============================] - 2s 3ms/step - loss: 0.0455 - val_loss: 0.0470\n",
            "Epoch 87/100\n",
            "555/555 [==============================] - 2s 3ms/step - loss: 0.0455 - val_loss: 0.0469\n",
            "Epoch 88/100\n",
            "555/555 [==============================] - 2s 3ms/step - loss: 0.0454 - val_loss: 0.0470\n",
            "Epoch 89/100\n",
            "555/555 [==============================] - 2s 3ms/step - loss: 0.0454 - val_loss: 0.0468\n",
            "Epoch 90/100\n",
            "555/555 [==============================] - 2s 3ms/step - loss: 0.0453 - val_loss: 0.0470\n",
            "Epoch 91/100\n",
            "555/555 [==============================] - 2s 3ms/step - loss: 0.0453 - val_loss: 0.0468\n",
            "Epoch 92/100\n",
            "555/555 [==============================] - 2s 3ms/step - loss: 0.0452 - val_loss: 0.0465\n",
            "Epoch 93/100\n",
            "555/555 [==============================] - 2s 4ms/step - loss: 0.0452 - val_loss: 0.0468\n",
            "Epoch 94/100\n",
            "555/555 [==============================] - 2s 3ms/step - loss: 0.0452 - val_loss: 0.0466\n",
            "Epoch 95/100\n",
            "555/555 [==============================] - 2s 4ms/step - loss: 0.0452 - val_loss: 0.0470\n",
            "Epoch 96/100\n",
            "555/555 [==============================] - 2s 4ms/step - loss: 0.0452 - val_loss: 0.0469\n",
            "Epoch 97/100\n",
            "555/555 [==============================] - 2s 4ms/step - loss: 0.0451 - val_loss: 0.0468\n",
            "Epoch 98/100\n",
            "555/555 [==============================] - 2s 4ms/step - loss: 0.0451 - val_loss: 0.0463\n",
            "Epoch 99/100\n",
            "555/555 [==============================] - 2s 4ms/step - loss: 0.0451 - val_loss: 0.0463\n",
            "Epoch 100/100\n",
            "555/555 [==============================] - 2s 3ms/step - loss: 0.0451 - val_loss: 0.0467\n"
          ]
        }
      ]
    },
    {
      "cell_type": "code",
      "source": [
        "plt.plot(history.history[\"loss\"], label=\"Training Loss\")\n",
        "plt.plot(history.history[\"val_loss\"], label=\"Validation Loss\")\n",
        "plt.legend()"
      ],
      "metadata": {
        "colab": {
          "base_uri": "https://localhost:8080/",
          "height": 286
        },
        "id": "2Oe8U1Qpiztp",
        "outputId": "89d9e124-2fd1-4615-bf3b-07d2dd4e71e4"
      },
      "execution_count": null,
      "outputs": [
        {
          "output_type": "execute_result",
          "data": {
            "text/plain": [
              "<matplotlib.legend.Legend at 0x7f328960d7d0>"
            ]
          },
          "metadata": {},
          "execution_count": 102
        },
        {
          "output_type": "display_data",
          "data": {
            "text/plain": [
              "<Figure size 432x288 with 1 Axes>"
            ],
            "image/png": "[encoded data removed]"
          },
          "metadata": {
            "needs_background": "light"
          }
        }
      ]
    },
    {
      "cell_type": "code",
      "source": [
        "reconstructions = autoencoder.predict(normal_train_data)\n",
        "train_loss = tf.keras.losses.mae(reconstructions, normal_train_data)\n",
        "\n",
        "plt.hist(train_loss[None,:], bins=50)\n",
        "plt.xlabel(\"Train loss\")\n",
        "plt.ylabel(\"No of examples\")\n",
        "plt.show()"
      ],
      "metadata": {
        "colab": {
          "base_uri": "https://localhost:8080/",
          "height": 279
        },
        "id": "IuPZnUTYof2C",
        "outputId": "652127a8-779a-42ce-b1cb-fe06eb9260ef"
      },
      "execution_count": null,
      "outputs": [
        {
          "output_type": "display_data",
          "data": {
            "text/plain": [
              "<Figure size 432x288 with 1 Axes>"
            ],
            "image/png": "[encoded data removed]"
          },
          "metadata": {
            "needs_background": "light"
          }
        }
      ]
    },
    {
      "cell_type": "markdown",
      "source": [
        "### Set threshold for comparison of anomaly"
      ],
      "metadata": {
        "id": "t5go8T38dFZ_"
      }
    },
    {
      "cell_type": "code",
      "source": [
        "threshold = np.mean(train_loss) + np.std(train_loss)\n",
        "print(\"Threshold: \", threshold)"
      ],
      "metadata": {
        "colab": {
          "base_uri": "https://localhost:8080/"
        },
        "id": "x3hI4lTnoloL",
        "outputId": "ac5a4540-026e-49f3-8aed-84a54763ad2e"
      },
      "execution_count": null,
      "outputs": [
        {
          "output_type": "stream",
          "name": "stdout",
          "text": [
            "Threshold:  0.08423802224563953\n"
          ]
        }
      ]
    },
    {
      "cell_type": "code",
      "source": [
        "reconstructions = autoencoder.predict(anomalous_test_data)\n",
        "test_loss = tf.keras.losses.mae(reconstructions, anomalous_test_data)\n",
        "\n",
        "plt.hist(test_loss[None, :], bins=50)\n",
        "plt.xlabel(\"Test loss\")\n",
        "plt.ylabel(\"No of examples\")\n",
        "plt.show()"
      ],
      "metadata": {
        "colab": {
          "base_uri": "https://localhost:8080/",
          "height": 279
        },
        "id": "d9Q6YLllorm_",
        "outputId": "6a13815f-2b6b-4959-ed6d-efd8214227ab"
      },
      "execution_count": null,
      "outputs": [
        {
          "output_type": "display_data",
          "data": {
            "text/plain": [
              "<Figure size 432x288 with 1 Axes>"
            ],
            "image/png": "[encoded data removed]"
          },
          "metadata": {
            "needs_background": "light"
          }
        }
      ]
    },
    {
      "cell_type": "code",
      "source": [
        "np.mean(test_loss) + np.std(test_loss)"
      ],
      "metadata": {
        "colab": {
          "base_uri": "https://localhost:8080/"
        },
        "id": "PsPQ0pB-peAX",
        "outputId": "46f3a809-fda4-492e-afb0-e10c4a8cfcdb"
      },
      "execution_count": null,
      "outputs": [
        {
          "output_type": "execute_result",
          "data": {
            "text/plain": [
              "0.09868523345017208"
            ]
          },
          "metadata": {},
          "execution_count": 107
        }
      ]
    },
    {
      "cell_type": "code",
      "source": [
        "def predict(model, data, threshold):\n",
        "  reconstructions = model.predict(data)\n",
        "  loss = tf.keras.losses.mae(reconstructions, data)\n",
        "  return tf.math.less(loss, threshold)\n",
        "\n",
        "def print_stats(predictions, labels):\n",
        "  print(\"Accuracy = {}\".format(accuracy_score(labels, predictions)))\n",
        "  print(\"Precision = {}\".format(precision_score(labels, predictions)))\n",
        "  print(\"Recall = {}\".format(recall_score(labels, predictions)))"
      ],
      "metadata": {
        "id": "dMkBn4bjovcz"
      },
      "execution_count": null,
      "outputs": []
    },
    {
      "cell_type": "markdown",
      "source": [
        "### Check the train statistics"
      ],
      "metadata": {
        "id": "4FF6Zt_Dc7Vg"
      }
    },
    {
      "cell_type": "code",
      "source": [
        "preds_train = predict(autoencoder, train_data, threshold)\n"
      ],
      "metadata": {
        "id": "EOqIyWdkrgw3"
      },
      "execution_count": null,
      "outputs": []
    },
    {
      "cell_type": "code",
      "source": [
        "print_stats(preds_train, train_labels)"
      ],
      "metadata": {
        "colab": {
          "base_uri": "https://localhost:8080/"
        },
        "id": "87XqG18nr6RD",
        "outputId": "9b0b6621-b72c-4474-94e8-8c8893440718"
      },
      "execution_count": null,
      "outputs": [
        {
          "output_type": "stream",
          "name": "stdout",
          "text": [
            "Accuracy = 0.5135525884810042\n",
            "Precision = 0.5083855249451934\n",
            "Recall = 0.8216468085555998\n"
          ]
        }
      ]
    },
    {
      "cell_type": "code",
      "source": [
        "confusion_matrix(preds_train, train_labels)"
      ],
      "metadata": {
        "colab": {
          "base_uri": "https://localhost:8080/"
        },
        "id": "hy6mfDcSsGBe",
        "outputId": "5d5a81a2-7625-4c5d-c8b3-d0dfc469af21"
      },
      "execution_count": null,
      "outputs": [
        {
          "output_type": "execute_result",
          "data": {
            "text/plain": [
              "array([[ 58336,  50640],\n",
              "       [225595, 233291]])"
            ]
          },
          "metadata": {},
          "execution_count": 115
        }
      ]
    },
    {
      "cell_type": "markdown",
      "source": [
        "### Check the test statistics"
      ],
      "metadata": {
        "id": "2fRbyXzTc_pR"
      }
    },
    {
      "cell_type": "code",
      "source": [
        "preds = predict(autoencoder, test_data, threshold)\n",
        "print_stats(preds, test_labels)"
      ],
      "metadata": {
        "colab": {
          "base_uri": "https://localhost:8080/"
        },
        "id": "8k5cV93to3ya",
        "outputId": "1d20a601-84c1-4ffb-a8a0-580a735e9205"
      },
      "execution_count": null,
      "outputs": [
        {
          "output_type": "stream",
          "name": "stdout",
          "text": [
            "Accuracy = 0.694557202141641\n",
            "Precision = 0.793118593288001\n",
            "Recall = 0.8293965192001705\n"
          ]
        }
      ]
    },
    {
      "cell_type": "code",
      "source": [
        "\n",
        "confusion_matrix(test_labels, preds)"
      ],
      "metadata": {
        "colab": {
          "base_uri": "https://localhost:8080/"
        },
        "id": "IitNAyKMq-SH",
        "outputId": "cb0c083a-c0f2-4c8d-b1b9-4885fe765b7f"
      },
      "execution_count": null,
      "outputs": [
        {
          "output_type": "execute_result",
          "data": {
            "text/plain": [
              "array([[  6157,  26378],\n",
              "       [ 20801, 101125]])"
            ]
          },
          "metadata": {},
          "execution_count": 112
        }
      ]
    },
    {
      "cell_type": "code",
      "source": [
        ""
      ],
      "metadata": {
        "id": "ogzeTk9Hsfcv"
      },
      "execution_count": null,
      "outputs": []
    }
  ]
}