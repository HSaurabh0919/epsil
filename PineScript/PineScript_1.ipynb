{
  "nbformat": 4,
  "nbformat_minor": 0,
  "metadata": {
    "colab": {
      "provenance": [],
      "authorship_tag": "ABX9TyO4d/sxUa354hgyVUzeZK4j"
    },
    "kernelspec": {
      "name": "python3",
      "display_name": "Python 3"
    },
    "language_info": {
      "name": "python"
    }
  },
  "cells": [
    {
      "cell_type": "code",
      "execution_count": 2,
      "metadata": {
        "colab": {
          "base_uri": "https://localhost:8080/"
        },
        "id": "yYoqFjJCb3tv",
        "outputId": "8f9832c6-1f6f-4c67-c610-f895cf6a1cd4"
      },
      "outputs": [
        {
          "output_type": "stream",
          "name": "stdout",
          "text": [
            "Looking in indexes: https://pypi.org/simple, https://us-python.pkg.dev/colab-wheels/public/simple/\n",
            "Collecting tradingview-ta\n",
            "  Downloading tradingview_ta-3.3.0-py3-none-any.whl (10 kB)\n",
            "Requirement already satisfied: requests in /usr/local/lib/python3.9/dist-packages (from tradingview-ta) (2.27.1)\n",
            "Requirement already satisfied: certifi>=2017.4.17 in /usr/local/lib/python3.9/dist-packages (from requests->tradingview-ta) (2022.12.7)\n",
            "Requirement already satisfied: charset-normalizer~=2.0.0 in /usr/local/lib/python3.9/dist-packages (from requests->tradingview-ta) (2.0.12)\n",
            "Requirement already satisfied: idna<4,>=2.5 in /usr/local/lib/python3.9/dist-packages (from requests->tradingview-ta) (3.4)\n",
            "Requirement already satisfied: urllib3<1.27,>=1.21.1 in /usr/local/lib/python3.9/dist-packages (from requests->tradingview-ta) (1.26.15)\n",
            "Installing collected packages: tradingview-ta\n",
            "Successfully installed tradingview-ta-3.3.0\n"
          ]
        }
      ],
      "source": [
        "!pip install tradingview-ta\n"
      ]
    },
    {
      "cell_type": "code",
      "source": [
        "from tradingview_ta import TA_Handler, Interval\n",
        "\n",
        "# code = '''\n",
        "# //@version=4\n",
        "# study(\"Moving Average\")\n",
        "# length = input(title=\"Length\", type=input.integer, defval=20)\n",
        "# src = input(title=\"Source\", type=input.source, defval=close)\n",
        "# plot(sma(src, length))\n",
        "# '''\n",
        "\n",
        "# handler = TA_Handler(\n",
        "#     symbol=\"AAPL\",\n",
        "#     screener=\"america\",\n",
        "#     exchange=\"NASDAQ\",\n",
        "#     interval=Interval.INTERVAL_1_DAY\n",
        "# )\n",
        "\n",
        "\n"
      ],
      "metadata": {
        "id": "dpDK-kdhd4K6"
      },
      "execution_count": 8,
      "outputs": []
    },
    {
      "cell_type": "markdown",
      "source": [
        "### Get Analysis Data"
      ],
      "metadata": {
        "id": "aSjTJYY1dBFC"
      }
    },
    {
      "cell_type": "code",
      "source": [
        "from tradingview_ta import TA_Handler, Interval\n",
        "tesla = TA_Handler(\n",
        "    symbol=\"TSLA\",\n",
        "    screener=\"america\",\n",
        "    exchange=\"NASDAQ\",\n",
        "    interval=Interval.INTERVAL_1_DAY,\n",
        ")\n",
        "print(tesla.get_analysis().summary)"
      ],
      "metadata": {
        "colab": {
          "base_uri": "https://localhost:8080/"
        },
        "id": "L1vi908ccL1I",
        "outputId": "79abdab5-de33-44d8-c7fe-f0eedde65845"
      },
      "execution_count": 9,
      "outputs": [
        {
          "output_type": "stream",
          "name": "stdout",
          "text": [
            "{'RECOMMENDATION': 'BUY', 'BUY': 11, 'SELL': 5, 'NEUTRAL': 10}\n"
          ]
        }
      ]
    }
  ]
}